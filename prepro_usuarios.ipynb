{
  "nbformat": 4,
  "nbformat_minor": 0,
  "metadata": {
    "colab": {
      "provenance": [],
      "include_colab_link": true
    },
    "kernelspec": {
      "name": "python3",
      "display_name": "Python 3"
    },
    "language_info": {
      "name": "python"
    }
  },
  "cells": [
    {
      "cell_type": "markdown",
      "metadata": {
        "id": "view-in-github",
        "colab_type": "text"
      },
      "source": [
        "<a href=\"https://colab.research.google.com/github/danielmancovidales/Aplicaciones-en-salud/blob/main/prepro_usuarios.ipynb\" target=\"_parent\"><img src=\"https://colab.research.google.com/assets/colab-badge.svg\" alt=\"Open In Colab\"/></a>"
      ]
    },
    {
      "cell_type": "code",
      "execution_count": 206,
      "metadata": {
        "id": "cK1p_OXVFQPH"
      },
      "outputs": [],
      "source": [
        "# Librerias generales\n",
        "import pandas as pd\n",
        "import numpy as np\n",
        "import re\n",
        "# Librerias y visualización\n",
        "import seaborn as sns\n",
        "import matplotlib.pyplot as plt"
      ]
    },
    {
      "cell_type": "code",
      "source": [
        "from google.colab import drive\n",
        "drive.mount('/content/drive')"
      ],
      "metadata": {
        "colab": {
          "base_uri": "https://localhost:8080/"
        },
        "id": "GOeSbzRQGb-i",
        "outputId": "98efedd3-052c-4901-e9be-9b74035aa870"
      },
      "execution_count": 207,
      "outputs": [
        {
          "output_type": "stream",
          "name": "stdout",
          "text": [
            "Drive already mounted at /content/drive; to attempt to forcibly remount, call drive.mount(\"/content/drive\", force_remount=True).\n"
          ]
        }
      ]
    },
    {
      "cell_type": "code",
      "source": [
        "# Leer base de datos\n",
        "df_usuarios = pd.read_csv('/content/drive/MyDrive/analitica3/Salud/RETO_df_usuarios.csv', encoding='latin1', sep=',', low_memory= False)\n",
        "df_usuarios"
      ],
      "metadata": {
        "colab": {
          "base_uri": "https://localhost:8080/",
          "height": 736
        },
        "id": "QtQ33cPNGgfm",
        "outputId": "967b2832-8995-461b-d4a4-f34cbe770b66"
      },
      "execution_count": 208,
      "outputs": [
        {
          "output_type": "execute_result",
          "data": {
            "text/plain": [
              "          MES  YEAR  NRODOC SEXO     FECHA NACIMIENTO  EDAD DEPARTAMENTO  \\\n",
              "0       ABRIL  2017  306221    F  1938-09-09 00:00:00   NaN          NaN   \n",
              "1       ABRIL  2017  306222    F  1974-07-03 00:00:00   NaN          NaN   \n",
              "2       ABRIL  2017  306223    F  1930-08-24 00:00:00   NaN          NaN   \n",
              "3       ABRIL  2017  306224    F  1979-12-01 00:00:00   NaN          NaN   \n",
              "4       ABRIL  2017  306225    M  1943-06-01 00:00:00   NaN          NaN   \n",
              "...       ...   ...     ...  ...                  ...   ...          ...   \n",
              "183906  JUNIO  2022  307482    F  1941-03-26 00:00:00  81.0    ANTIOQUIA   \n",
              "183907  JUNIO  2022  313801    F  1999-04-13 00:00:00  23.0    ANTIOQUIA   \n",
              "183908  JUNIO  2022  307738    F  1943-09-11 00:00:00  78.0    ANTIOQUIA   \n",
              "183909  JUNIO  2022  311656    M  1940-05-26 00:00:00  82.0    ANTIOQUIA   \n",
              "183910  JUNIO  2022  309230    M  1957-05-26 00:00:00  65.0    ANTIOQUIA   \n",
              "\n",
              "       MUNICIPIO                BARRIO  FECHA INICIO AL PGP  \\\n",
              "0            NaN                   NaN                  NaN   \n",
              "1            NaN                   NaN                  NaN   \n",
              "2            NaN                   NaN                  NaN   \n",
              "3            NaN                   NaN                  NaN   \n",
              "4            NaN                   NaN                  NaN   \n",
              "...          ...                   ...                  ...   \n",
              "183906  MEDELLIN                   NaN  2017-04-01 00:00:00   \n",
              "183907       NaN                   NaN  2021-09-02 00:00:00   \n",
              "183908  MEDELLIN                   NaN  2017-04-01 00:00:00   \n",
              "183909  MEDELLIN                   NaN  2018-01-01 00:00:00   \n",
              "183910  ENVIGADO  ENVIGADO LA MAGNOLIA  2017-04-01 00:00:00   \n",
              "\n",
              "       FECHA PRIMERA CLASE FUNCIONAL PRIMERA CLASE FUNCIONAL  \\\n",
              "0                                NaN                     NaN   \n",
              "1                                NaN                     NaN   \n",
              "2                                NaN                     NaN   \n",
              "3                                NaN                     NaN   \n",
              "4                                NaN                     NaN   \n",
              "...                              ...                     ...   \n",
              "183906           2017-08-23 00:00:00      CLASE FUNCIONAL 2B   \n",
              "183907           2021-10-26 00:00:00       CLASE FUNCIONAL 1   \n",
              "183908           2017-06-14 00:00:00      CLASE FUNCIONAL 2B   \n",
              "183909           2018-02-21 00:00:00      CLASE FUNCIONAL 2A   \n",
              "183910           2018-08-13 00:00:00      CLASE FUNCIONAL 2A   \n",
              "\n",
              "       FECHA ÃLTIMA CLASE FUNCIONAL ÃLTIMA CLASE FUNCIONAL CICLO_VITAL  \\\n",
              "0                                NaN                     NaN         NaN   \n",
              "1                                NaN                     NaN         NaN   \n",
              "2                                NaN                     NaN         NaN   \n",
              "3                                NaN                     NaN         NaN   \n",
              "4                                NaN                     NaN         NaN   \n",
              "...                              ...                     ...         ...   \n",
              "183906           2022-04-22 00:00:00      CLASE FUNCIONAL 2A       Vejez   \n",
              "183907           2022-01-27 00:00:00       CLASE FUNCIONAL 1    Juventud   \n",
              "183908           2022-01-06 00:00:00      CLASE FUNCIONAL 2A       Vejez   \n",
              "183909           2022-03-17 00:00:00      CLASE FUNCIONAL 2B       Vejez   \n",
              "183910           2022-02-09 00:00:00      CLASE FUNCIONAL 2B       Vejez   \n",
              "\n",
              "       QUINQUENIO  \n",
              "0             NaN  \n",
              "1             NaN  \n",
              "2             NaN  \n",
              "3             NaN  \n",
              "4             NaN  \n",
              "...           ...  \n",
              "183906      80-84  \n",
              "183907      20-24  \n",
              "183908     75-79   \n",
              "183909      80-84  \n",
              "183910     65-69   \n",
              "\n",
              "[183911 rows x 16 columns]"
            ],
            "text/html": [
              "\n",
              "  <div id=\"df-c5a4b4b2-f9b4-44ea-bfa2-1220c1331220\" class=\"colab-df-container\">\n",
              "    <div>\n",
              "<style scoped>\n",
              "    .dataframe tbody tr th:only-of-type {\n",
              "        vertical-align: middle;\n",
              "    }\n",
              "\n",
              "    .dataframe tbody tr th {\n",
              "        vertical-align: top;\n",
              "    }\n",
              "\n",
              "    .dataframe thead th {\n",
              "        text-align: right;\n",
              "    }\n",
              "</style>\n",
              "<table border=\"1\" class=\"dataframe\">\n",
              "  <thead>\n",
              "    <tr style=\"text-align: right;\">\n",
              "      <th></th>\n",
              "      <th>MES</th>\n",
              "      <th>YEAR</th>\n",
              "      <th>NRODOC</th>\n",
              "      <th>SEXO</th>\n",
              "      <th>FECHA NACIMIENTO</th>\n",
              "      <th>EDAD</th>\n",
              "      <th>DEPARTAMENTO</th>\n",
              "      <th>MUNICIPIO</th>\n",
              "      <th>BARRIO</th>\n",
              "      <th>FECHA INICIO AL PGP</th>\n",
              "      <th>FECHA PRIMERA CLASE FUNCIONAL</th>\n",
              "      <th>PRIMERA CLASE FUNCIONAL</th>\n",
              "      <th>FECHA ÃLTIMA CLASE FUNCIONAL</th>\n",
              "      <th>ÃLTIMA CLASE FUNCIONAL</th>\n",
              "      <th>CICLO_VITAL</th>\n",
              "      <th>QUINQUENIO</th>\n",
              "    </tr>\n",
              "  </thead>\n",
              "  <tbody>\n",
              "    <tr>\n",
              "      <th>0</th>\n",
              "      <td>ABRIL</td>\n",
              "      <td>2017</td>\n",
              "      <td>306221</td>\n",
              "      <td>F</td>\n",
              "      <td>1938-09-09 00:00:00</td>\n",
              "      <td>NaN</td>\n",
              "      <td>NaN</td>\n",
              "      <td>NaN</td>\n",
              "      <td>NaN</td>\n",
              "      <td>NaN</td>\n",
              "      <td>NaN</td>\n",
              "      <td>NaN</td>\n",
              "      <td>NaN</td>\n",
              "      <td>NaN</td>\n",
              "      <td>NaN</td>\n",
              "      <td>NaN</td>\n",
              "    </tr>\n",
              "    <tr>\n",
              "      <th>1</th>\n",
              "      <td>ABRIL</td>\n",
              "      <td>2017</td>\n",
              "      <td>306222</td>\n",
              "      <td>F</td>\n",
              "      <td>1974-07-03 00:00:00</td>\n",
              "      <td>NaN</td>\n",
              "      <td>NaN</td>\n",
              "      <td>NaN</td>\n",
              "      <td>NaN</td>\n",
              "      <td>NaN</td>\n",
              "      <td>NaN</td>\n",
              "      <td>NaN</td>\n",
              "      <td>NaN</td>\n",
              "      <td>NaN</td>\n",
              "      <td>NaN</td>\n",
              "      <td>NaN</td>\n",
              "    </tr>\n",
              "    <tr>\n",
              "      <th>2</th>\n",
              "      <td>ABRIL</td>\n",
              "      <td>2017</td>\n",
              "      <td>306223</td>\n",
              "      <td>F</td>\n",
              "      <td>1930-08-24 00:00:00</td>\n",
              "      <td>NaN</td>\n",
              "      <td>NaN</td>\n",
              "      <td>NaN</td>\n",
              "      <td>NaN</td>\n",
              "      <td>NaN</td>\n",
              "      <td>NaN</td>\n",
              "      <td>NaN</td>\n",
              "      <td>NaN</td>\n",
              "      <td>NaN</td>\n",
              "      <td>NaN</td>\n",
              "      <td>NaN</td>\n",
              "    </tr>\n",
              "    <tr>\n",
              "      <th>3</th>\n",
              "      <td>ABRIL</td>\n",
              "      <td>2017</td>\n",
              "      <td>306224</td>\n",
              "      <td>F</td>\n",
              "      <td>1979-12-01 00:00:00</td>\n",
              "      <td>NaN</td>\n",
              "      <td>NaN</td>\n",
              "      <td>NaN</td>\n",
              "      <td>NaN</td>\n",
              "      <td>NaN</td>\n",
              "      <td>NaN</td>\n",
              "      <td>NaN</td>\n",
              "      <td>NaN</td>\n",
              "      <td>NaN</td>\n",
              "      <td>NaN</td>\n",
              "      <td>NaN</td>\n",
              "    </tr>\n",
              "    <tr>\n",
              "      <th>4</th>\n",
              "      <td>ABRIL</td>\n",
              "      <td>2017</td>\n",
              "      <td>306225</td>\n",
              "      <td>M</td>\n",
              "      <td>1943-06-01 00:00:00</td>\n",
              "      <td>NaN</td>\n",
              "      <td>NaN</td>\n",
              "      <td>NaN</td>\n",
              "      <td>NaN</td>\n",
              "      <td>NaN</td>\n",
              "      <td>NaN</td>\n",
              "      <td>NaN</td>\n",
              "      <td>NaN</td>\n",
              "      <td>NaN</td>\n",
              "      <td>NaN</td>\n",
              "      <td>NaN</td>\n",
              "    </tr>\n",
              "    <tr>\n",
              "      <th>...</th>\n",
              "      <td>...</td>\n",
              "      <td>...</td>\n",
              "      <td>...</td>\n",
              "      <td>...</td>\n",
              "      <td>...</td>\n",
              "      <td>...</td>\n",
              "      <td>...</td>\n",
              "      <td>...</td>\n",
              "      <td>...</td>\n",
              "      <td>...</td>\n",
              "      <td>...</td>\n",
              "      <td>...</td>\n",
              "      <td>...</td>\n",
              "      <td>...</td>\n",
              "      <td>...</td>\n",
              "      <td>...</td>\n",
              "    </tr>\n",
              "    <tr>\n",
              "      <th>183906</th>\n",
              "      <td>JUNIO</td>\n",
              "      <td>2022</td>\n",
              "      <td>307482</td>\n",
              "      <td>F</td>\n",
              "      <td>1941-03-26 00:00:00</td>\n",
              "      <td>81.0</td>\n",
              "      <td>ANTIOQUIA</td>\n",
              "      <td>MEDELLIN</td>\n",
              "      <td>NaN</td>\n",
              "      <td>2017-04-01 00:00:00</td>\n",
              "      <td>2017-08-23 00:00:00</td>\n",
              "      <td>CLASE FUNCIONAL 2B</td>\n",
              "      <td>2022-04-22 00:00:00</td>\n",
              "      <td>CLASE FUNCIONAL 2A</td>\n",
              "      <td>Vejez</td>\n",
              "      <td>80-84</td>\n",
              "    </tr>\n",
              "    <tr>\n",
              "      <th>183907</th>\n",
              "      <td>JUNIO</td>\n",
              "      <td>2022</td>\n",
              "      <td>313801</td>\n",
              "      <td>F</td>\n",
              "      <td>1999-04-13 00:00:00</td>\n",
              "      <td>23.0</td>\n",
              "      <td>ANTIOQUIA</td>\n",
              "      <td>NaN</td>\n",
              "      <td>NaN</td>\n",
              "      <td>2021-09-02 00:00:00</td>\n",
              "      <td>2021-10-26 00:00:00</td>\n",
              "      <td>CLASE FUNCIONAL 1</td>\n",
              "      <td>2022-01-27 00:00:00</td>\n",
              "      <td>CLASE FUNCIONAL 1</td>\n",
              "      <td>Juventud</td>\n",
              "      <td>20-24</td>\n",
              "    </tr>\n",
              "    <tr>\n",
              "      <th>183908</th>\n",
              "      <td>JUNIO</td>\n",
              "      <td>2022</td>\n",
              "      <td>307738</td>\n",
              "      <td>F</td>\n",
              "      <td>1943-09-11 00:00:00</td>\n",
              "      <td>78.0</td>\n",
              "      <td>ANTIOQUIA</td>\n",
              "      <td>MEDELLIN</td>\n",
              "      <td>NaN</td>\n",
              "      <td>2017-04-01 00:00:00</td>\n",
              "      <td>2017-06-14 00:00:00</td>\n",
              "      <td>CLASE FUNCIONAL 2B</td>\n",
              "      <td>2022-01-06 00:00:00</td>\n",
              "      <td>CLASE FUNCIONAL 2A</td>\n",
              "      <td>Vejez</td>\n",
              "      <td>75-79</td>\n",
              "    </tr>\n",
              "    <tr>\n",
              "      <th>183909</th>\n",
              "      <td>JUNIO</td>\n",
              "      <td>2022</td>\n",
              "      <td>311656</td>\n",
              "      <td>M</td>\n",
              "      <td>1940-05-26 00:00:00</td>\n",
              "      <td>82.0</td>\n",
              "      <td>ANTIOQUIA</td>\n",
              "      <td>MEDELLIN</td>\n",
              "      <td>NaN</td>\n",
              "      <td>2018-01-01 00:00:00</td>\n",
              "      <td>2018-02-21 00:00:00</td>\n",
              "      <td>CLASE FUNCIONAL 2A</td>\n",
              "      <td>2022-03-17 00:00:00</td>\n",
              "      <td>CLASE FUNCIONAL 2B</td>\n",
              "      <td>Vejez</td>\n",
              "      <td>80-84</td>\n",
              "    </tr>\n",
              "    <tr>\n",
              "      <th>183910</th>\n",
              "      <td>JUNIO</td>\n",
              "      <td>2022</td>\n",
              "      <td>309230</td>\n",
              "      <td>M</td>\n",
              "      <td>1957-05-26 00:00:00</td>\n",
              "      <td>65.0</td>\n",
              "      <td>ANTIOQUIA</td>\n",
              "      <td>ENVIGADO</td>\n",
              "      <td>ENVIGADO LA MAGNOLIA</td>\n",
              "      <td>2017-04-01 00:00:00</td>\n",
              "      <td>2018-08-13 00:00:00</td>\n",
              "      <td>CLASE FUNCIONAL 2A</td>\n",
              "      <td>2022-02-09 00:00:00</td>\n",
              "      <td>CLASE FUNCIONAL 2B</td>\n",
              "      <td>Vejez</td>\n",
              "      <td>65-69</td>\n",
              "    </tr>\n",
              "  </tbody>\n",
              "</table>\n",
              "<p>183911 rows × 16 columns</p>\n",
              "</div>\n",
              "    <div class=\"colab-df-buttons\">\n",
              "\n",
              "  <div class=\"colab-df-container\">\n",
              "    <button class=\"colab-df-convert\" onclick=\"convertToInteractive('df-c5a4b4b2-f9b4-44ea-bfa2-1220c1331220')\"\n",
              "            title=\"Convert this dataframe to an interactive table.\"\n",
              "            style=\"display:none;\">\n",
              "\n",
              "  <svg xmlns=\"http://www.w3.org/2000/svg\" height=\"24px\" viewBox=\"0 -960 960 960\">\n",
              "    <path d=\"M120-120v-720h720v720H120Zm60-500h600v-160H180v160Zm220 220h160v-160H400v160Zm0 220h160v-160H400v160ZM180-400h160v-160H180v160Zm440 0h160v-160H620v160ZM180-180h160v-160H180v160Zm440 0h160v-160H620v160Z\"/>\n",
              "  </svg>\n",
              "    </button>\n",
              "\n",
              "  <style>\n",
              "    .colab-df-container {\n",
              "      display:flex;\n",
              "      gap: 12px;\n",
              "    }\n",
              "\n",
              "    .colab-df-convert {\n",
              "      background-color: #E8F0FE;\n",
              "      border: none;\n",
              "      border-radius: 50%;\n",
              "      cursor: pointer;\n",
              "      display: none;\n",
              "      fill: #1967D2;\n",
              "      height: 32px;\n",
              "      padding: 0 0 0 0;\n",
              "      width: 32px;\n",
              "    }\n",
              "\n",
              "    .colab-df-convert:hover {\n",
              "      background-color: #E2EBFA;\n",
              "      box-shadow: 0px 1px 2px rgba(60, 64, 67, 0.3), 0px 1px 3px 1px rgba(60, 64, 67, 0.15);\n",
              "      fill: #174EA6;\n",
              "    }\n",
              "\n",
              "    .colab-df-buttons div {\n",
              "      margin-bottom: 4px;\n",
              "    }\n",
              "\n",
              "    [theme=dark] .colab-df-convert {\n",
              "      background-color: #3B4455;\n",
              "      fill: #D2E3FC;\n",
              "    }\n",
              "\n",
              "    [theme=dark] .colab-df-convert:hover {\n",
              "      background-color: #434B5C;\n",
              "      box-shadow: 0px 1px 3px 1px rgba(0, 0, 0, 0.15);\n",
              "      filter: drop-shadow(0px 1px 2px rgba(0, 0, 0, 0.3));\n",
              "      fill: #FFFFFF;\n",
              "    }\n",
              "  </style>\n",
              "\n",
              "    <script>\n",
              "      const buttonEl =\n",
              "        document.querySelector('#df-c5a4b4b2-f9b4-44ea-bfa2-1220c1331220 button.colab-df-convert');\n",
              "      buttonEl.style.display =\n",
              "        google.colab.kernel.accessAllowed ? 'block' : 'none';\n",
              "\n",
              "      async function convertToInteractive(key) {\n",
              "        const element = document.querySelector('#df-c5a4b4b2-f9b4-44ea-bfa2-1220c1331220');\n",
              "        const dataTable =\n",
              "          await google.colab.kernel.invokeFunction('convertToInteractive',\n",
              "                                                    [key], {});\n",
              "        if (!dataTable) return;\n",
              "\n",
              "        const docLinkHtml = 'Like what you see? Visit the ' +\n",
              "          '<a target=\"_blank\" href=https://colab.research.google.com/notebooks/data_table.ipynb>data table notebook</a>'\n",
              "          + ' to learn more about interactive tables.';\n",
              "        element.innerHTML = '';\n",
              "        dataTable['output_type'] = 'display_data';\n",
              "        await google.colab.output.renderOutput(dataTable, element);\n",
              "        const docLink = document.createElement('div');\n",
              "        docLink.innerHTML = docLinkHtml;\n",
              "        element.appendChild(docLink);\n",
              "      }\n",
              "    </script>\n",
              "  </div>\n",
              "\n",
              "\n",
              "<div id=\"df-2c222c64-f6ee-4fbb-b46f-e276275cda20\">\n",
              "  <button class=\"colab-df-quickchart\" onclick=\"quickchart('df-2c222c64-f6ee-4fbb-b46f-e276275cda20')\"\n",
              "            title=\"Suggest charts\"\n",
              "            style=\"display:none;\">\n",
              "\n",
              "<svg xmlns=\"http://www.w3.org/2000/svg\" height=\"24px\"viewBox=\"0 0 24 24\"\n",
              "     width=\"24px\">\n",
              "    <g>\n",
              "        <path d=\"M19 3H5c-1.1 0-2 .9-2 2v14c0 1.1.9 2 2 2h14c1.1 0 2-.9 2-2V5c0-1.1-.9-2-2-2zM9 17H7v-7h2v7zm4 0h-2V7h2v10zm4 0h-2v-4h2v4z\"/>\n",
              "    </g>\n",
              "</svg>\n",
              "  </button>\n",
              "\n",
              "<style>\n",
              "  .colab-df-quickchart {\n",
              "      --bg-color: #E8F0FE;\n",
              "      --fill-color: #1967D2;\n",
              "      --hover-bg-color: #E2EBFA;\n",
              "      --hover-fill-color: #174EA6;\n",
              "      --disabled-fill-color: #AAA;\n",
              "      --disabled-bg-color: #DDD;\n",
              "  }\n",
              "\n",
              "  [theme=dark] .colab-df-quickchart {\n",
              "      --bg-color: #3B4455;\n",
              "      --fill-color: #D2E3FC;\n",
              "      --hover-bg-color: #434B5C;\n",
              "      --hover-fill-color: #FFFFFF;\n",
              "      --disabled-bg-color: #3B4455;\n",
              "      --disabled-fill-color: #666;\n",
              "  }\n",
              "\n",
              "  .colab-df-quickchart {\n",
              "    background-color: var(--bg-color);\n",
              "    border: none;\n",
              "    border-radius: 50%;\n",
              "    cursor: pointer;\n",
              "    display: none;\n",
              "    fill: var(--fill-color);\n",
              "    height: 32px;\n",
              "    padding: 0;\n",
              "    width: 32px;\n",
              "  }\n",
              "\n",
              "  .colab-df-quickchart:hover {\n",
              "    background-color: var(--hover-bg-color);\n",
              "    box-shadow: 0 1px 2px rgba(60, 64, 67, 0.3), 0 1px 3px 1px rgba(60, 64, 67, 0.15);\n",
              "    fill: var(--button-hover-fill-color);\n",
              "  }\n",
              "\n",
              "  .colab-df-quickchart-complete:disabled,\n",
              "  .colab-df-quickchart-complete:disabled:hover {\n",
              "    background-color: var(--disabled-bg-color);\n",
              "    fill: var(--disabled-fill-color);\n",
              "    box-shadow: none;\n",
              "  }\n",
              "\n",
              "  .colab-df-spinner {\n",
              "    border: 2px solid var(--fill-color);\n",
              "    border-color: transparent;\n",
              "    border-bottom-color: var(--fill-color);\n",
              "    animation:\n",
              "      spin 1s steps(1) infinite;\n",
              "  }\n",
              "\n",
              "  @keyframes spin {\n",
              "    0% {\n",
              "      border-color: transparent;\n",
              "      border-bottom-color: var(--fill-color);\n",
              "      border-left-color: var(--fill-color);\n",
              "    }\n",
              "    20% {\n",
              "      border-color: transparent;\n",
              "      border-left-color: var(--fill-color);\n",
              "      border-top-color: var(--fill-color);\n",
              "    }\n",
              "    30% {\n",
              "      border-color: transparent;\n",
              "      border-left-color: var(--fill-color);\n",
              "      border-top-color: var(--fill-color);\n",
              "      border-right-color: var(--fill-color);\n",
              "    }\n",
              "    40% {\n",
              "      border-color: transparent;\n",
              "      border-right-color: var(--fill-color);\n",
              "      border-top-color: var(--fill-color);\n",
              "    }\n",
              "    60% {\n",
              "      border-color: transparent;\n",
              "      border-right-color: var(--fill-color);\n",
              "    }\n",
              "    80% {\n",
              "      border-color: transparent;\n",
              "      border-right-color: var(--fill-color);\n",
              "      border-bottom-color: var(--fill-color);\n",
              "    }\n",
              "    90% {\n",
              "      border-color: transparent;\n",
              "      border-bottom-color: var(--fill-color);\n",
              "    }\n",
              "  }\n",
              "</style>\n",
              "\n",
              "  <script>\n",
              "    async function quickchart(key) {\n",
              "      const quickchartButtonEl =\n",
              "        document.querySelector('#' + key + ' button');\n",
              "      quickchartButtonEl.disabled = true;  // To prevent multiple clicks.\n",
              "      quickchartButtonEl.classList.add('colab-df-spinner');\n",
              "      try {\n",
              "        const charts = await google.colab.kernel.invokeFunction(\n",
              "            'suggestCharts', [key], {});\n",
              "      } catch (error) {\n",
              "        console.error('Error during call to suggestCharts:', error);\n",
              "      }\n",
              "      quickchartButtonEl.classList.remove('colab-df-spinner');\n",
              "      quickchartButtonEl.classList.add('colab-df-quickchart-complete');\n",
              "    }\n",
              "    (() => {\n",
              "      let quickchartButtonEl =\n",
              "        document.querySelector('#df-2c222c64-f6ee-4fbb-b46f-e276275cda20 button');\n",
              "      quickchartButtonEl.style.display =\n",
              "        google.colab.kernel.accessAllowed ? 'block' : 'none';\n",
              "    })();\n",
              "  </script>\n",
              "</div>\n",
              "    </div>\n",
              "  </div>\n"
            ],
            "application/vnd.google.colaboratory.intrinsic+json": {
              "type": "dataframe",
              "variable_name": "df_usuarios"
            }
          },
          "metadata": {},
          "execution_count": 208
        }
      ]
    },
    {
      "cell_type": "markdown",
      "source": [
        "**Cambio de nombres y eliminación de duplicados**"
      ],
      "metadata": {
        "id": "0C8KmnvD0IGU"
      }
    },
    {
      "cell_type": "code",
      "source": [
        "# Se cambian los nombres de mayusculas a minisculas\n",
        "df_usuarios.columns = df_usuarios.columns.str.lower()"
      ],
      "metadata": {
        "id": "zWoWbKHqvsBz"
      },
      "execution_count": 209,
      "outputs": []
    },
    {
      "cell_type": "code",
      "source": [
        "#se verifican la variables existentes\n",
        "df_usuarios.columns"
      ],
      "metadata": {
        "colab": {
          "base_uri": "https://localhost:8080/"
        },
        "id": "gJ08GRTqvuz7",
        "outputId": "ebccff7a-77d3-4d18-f008-3bbc5b096c95"
      },
      "execution_count": 210,
      "outputs": [
        {
          "output_type": "execute_result",
          "data": {
            "text/plain": [
              "Index(['mes', 'year', 'nrodoc', 'sexo', 'fecha nacimiento', 'edad',\n",
              "       'departamento', 'municipio', 'barrio', 'fecha inicio al pgp',\n",
              "       'fecha primera clase funcional', 'primera clase funcional',\n",
              "       'fecha ãltima clase funcional', 'ãltima clase funcional',\n",
              "       'ciclo_vital', 'quinquenio'],\n",
              "      dtype='object')"
            ]
          },
          "metadata": {},
          "execution_count": 210
        }
      ]
    },
    {
      "cell_type": "code",
      "source": [
        "# Función para quitar los espacios de los nombres y reemplazar por '_'\n",
        "def limpiar_nombre_columna(nombre):\n",
        "    nombre_limpio = nombre.replace(\" \", \"_\")  # Reemplazar espacios por guiones bajos\n",
        "    return nombre_limpio\n",
        "\n",
        "# Aplicar la función a los nombres de las columnas\n",
        "df_usuarios.columns = df_usuarios.columns.map(limpiar_nombre_columna)"
      ],
      "metadata": {
        "id": "l1tB57lYv0Pi"
      },
      "execution_count": 211,
      "outputs": []
    },
    {
      "cell_type": "code",
      "source": [
        "# Se corrigen los nombres que tienen tildes\n",
        "df_usuarios = df_usuarios.rename(columns={'fecha_ãltima_clase_funcional': 'fecha_ultima_clase_funcional'})\n",
        "df_usuarios = df_usuarios.rename(columns={'ãltima_clase_funcional': 'ultima_clase_funcional'})"
      ],
      "metadata": {
        "id": "og03JR9kw8K2"
      },
      "execution_count": 212,
      "outputs": []
    },
    {
      "cell_type": "code",
      "source": [
        "#Identificación de filas duplicadas\n",
        "df_usuarios.duplicated().sum()"
      ],
      "metadata": {
        "colab": {
          "base_uri": "https://localhost:8080/"
        },
        "id": "7W79ziZEy32_",
        "outputId": "cf17487a-dde3-4223-e237-6a444f04a616"
      },
      "execution_count": 213,
      "outputs": [
        {
          "output_type": "execute_result",
          "data": {
            "text/plain": [
              "5012"
            ]
          },
          "metadata": {},
          "execution_count": 213
        }
      ]
    },
    {
      "cell_type": "code",
      "source": [
        "# Se eliminan las 5012 filas duplicadas\n",
        "df_usuarios = df_usuarios.drop_duplicates()"
      ],
      "metadata": {
        "id": "cY1LyZBLy4dF"
      },
      "execution_count": 214,
      "outputs": []
    },
    {
      "cell_type": "code",
      "source": [
        "#Identificación de pacientes diferentes\n",
        "\n",
        "print(\"El número de registros es:\", df_usuarios['nrodoc'].count())\n",
        "print(\"El número de pacientes distintos es:\", len(df_usuarios['nrodoc'].unique()))"
      ],
      "metadata": {
        "colab": {
          "base_uri": "https://localhost:8080/"
        },
        "id": "z7sScezfzAdj",
        "outputId": "e339961d-56ee-49d3-ce7d-9bff9fc2c8a6"
      },
      "execution_count": 215,
      "outputs": [
        {
          "output_type": "stream",
          "name": "stdout",
          "text": [
            "El número de registros es: 178899\n",
            "El número de pacientes distintos es: 8068\n"
          ]
        }
      ]
    },
    {
      "cell_type": "markdown",
      "source": [
        "**Identificación de nulos y eliminación de variables poco relevantes**"
      ],
      "metadata": {
        "id": "WxCb7KD60Bnv"
      }
    },
    {
      "cell_type": "code",
      "source": [
        "#Conteo de nulos de cada variable\n",
        "df_usuarios.isnull().sum()"
      ],
      "metadata": {
        "colab": {
          "base_uri": "https://localhost:8080/"
        },
        "id": "xfkIClcfz7Z2",
        "outputId": "3cd37a71-f404-44d2-83fe-26a51aef0e62"
      },
      "execution_count": 216,
      "outputs": [
        {
          "output_type": "execute_result",
          "data": {
            "text/plain": [
              "mes                                  0\n",
              "year                                 0\n",
              "nrodoc                               0\n",
              "sexo                                 7\n",
              "fecha_nacimiento                 72076\n",
              "edad                             29144\n",
              "departamento                     96615\n",
              "municipio                        97502\n",
              "barrio                           63555\n",
              "fecha_inicio_al_pgp              53241\n",
              "fecha_primera_clase_funcional    90938\n",
              "primera_clase_funcional          89258\n",
              "fecha_ultima_clase_funcional     90914\n",
              "ultima_clase_funcional           50790\n",
              "ciclo_vital                      29144\n",
              "quinquenio                       29144\n",
              "dtype: int64"
            ]
          },
          "metadata": {},
          "execution_count": 216
        }
      ]
    },
    {
      "cell_type": "markdown",
      "source": [
        "Se pueden borrar algunas columnas que resultan irrelevantes y/o redundantes en el caso de estudio como \"fecha_nacimiento\", \"fecha_primera_clase_funcional\", \"fecha_ultima_clase_funcional\" ya que hay una variable de edad y la fecha en que se realizaron las clases funcionales no aportan datos importantes.\n",
        "Finalmente se elimina la variable \"fecha_inicio_al_pgp\" debido a que la antiguedad no aporta datos importantes para determinar la permanencia del usuario al programa."
      ],
      "metadata": {
        "id": "tmoDXwtj2BGI"
      }
    },
    {
      "cell_type": "code",
      "source": [
        "#Se pueden borrar algunas columnas que resultan irrelevantes y se corrobora que se hizo bien el borrado\n",
        "df_usuarios = df_usuarios.drop(['fecha_nacimiento', 'fecha_primera_clase_funcional', 'fecha_ultima_clase_funcional', 'fecha_inicio_al_pgp'], axis=1)\n",
        "df_usuarios.head()"
      ],
      "metadata": {
        "colab": {
          "base_uri": "https://localhost:8080/",
          "height": 206
        },
        "id": "VGHi0nlk1CjF",
        "outputId": "58cd9550-7f89-4b72-8fc8-6fbbb8b8bcec"
      },
      "execution_count": 217,
      "outputs": [
        {
          "output_type": "execute_result",
          "data": {
            "text/plain": [
              "     mes  year  nrodoc sexo  edad departamento municipio barrio  \\\n",
              "0  ABRIL  2017  306221    F   NaN          NaN       NaN    NaN   \n",
              "1  ABRIL  2017  306222    F   NaN          NaN       NaN    NaN   \n",
              "2  ABRIL  2017  306223    F   NaN          NaN       NaN    NaN   \n",
              "3  ABRIL  2017  306224    F   NaN          NaN       NaN    NaN   \n",
              "4  ABRIL  2017  306225    M   NaN          NaN       NaN    NaN   \n",
              "\n",
              "  primera_clase_funcional ultima_clase_funcional ciclo_vital quinquenio  \n",
              "0                     NaN                    NaN         NaN        NaN  \n",
              "1                     NaN                    NaN         NaN        NaN  \n",
              "2                     NaN                    NaN         NaN        NaN  \n",
              "3                     NaN                    NaN         NaN        NaN  \n",
              "4                     NaN                    NaN         NaN        NaN  "
            ],
            "text/html": [
              "\n",
              "  <div id=\"df-8a031e20-81df-49ab-bc29-83f0e27fa887\" class=\"colab-df-container\">\n",
              "    <div>\n",
              "<style scoped>\n",
              "    .dataframe tbody tr th:only-of-type {\n",
              "        vertical-align: middle;\n",
              "    }\n",
              "\n",
              "    .dataframe tbody tr th {\n",
              "        vertical-align: top;\n",
              "    }\n",
              "\n",
              "    .dataframe thead th {\n",
              "        text-align: right;\n",
              "    }\n",
              "</style>\n",
              "<table border=\"1\" class=\"dataframe\">\n",
              "  <thead>\n",
              "    <tr style=\"text-align: right;\">\n",
              "      <th></th>\n",
              "      <th>mes</th>\n",
              "      <th>year</th>\n",
              "      <th>nrodoc</th>\n",
              "      <th>sexo</th>\n",
              "      <th>edad</th>\n",
              "      <th>departamento</th>\n",
              "      <th>municipio</th>\n",
              "      <th>barrio</th>\n",
              "      <th>primera_clase_funcional</th>\n",
              "      <th>ultima_clase_funcional</th>\n",
              "      <th>ciclo_vital</th>\n",
              "      <th>quinquenio</th>\n",
              "    </tr>\n",
              "  </thead>\n",
              "  <tbody>\n",
              "    <tr>\n",
              "      <th>0</th>\n",
              "      <td>ABRIL</td>\n",
              "      <td>2017</td>\n",
              "      <td>306221</td>\n",
              "      <td>F</td>\n",
              "      <td>NaN</td>\n",
              "      <td>NaN</td>\n",
              "      <td>NaN</td>\n",
              "      <td>NaN</td>\n",
              "      <td>NaN</td>\n",
              "      <td>NaN</td>\n",
              "      <td>NaN</td>\n",
              "      <td>NaN</td>\n",
              "    </tr>\n",
              "    <tr>\n",
              "      <th>1</th>\n",
              "      <td>ABRIL</td>\n",
              "      <td>2017</td>\n",
              "      <td>306222</td>\n",
              "      <td>F</td>\n",
              "      <td>NaN</td>\n",
              "      <td>NaN</td>\n",
              "      <td>NaN</td>\n",
              "      <td>NaN</td>\n",
              "      <td>NaN</td>\n",
              "      <td>NaN</td>\n",
              "      <td>NaN</td>\n",
              "      <td>NaN</td>\n",
              "    </tr>\n",
              "    <tr>\n",
              "      <th>2</th>\n",
              "      <td>ABRIL</td>\n",
              "      <td>2017</td>\n",
              "      <td>306223</td>\n",
              "      <td>F</td>\n",
              "      <td>NaN</td>\n",
              "      <td>NaN</td>\n",
              "      <td>NaN</td>\n",
              "      <td>NaN</td>\n",
              "      <td>NaN</td>\n",
              "      <td>NaN</td>\n",
              "      <td>NaN</td>\n",
              "      <td>NaN</td>\n",
              "    </tr>\n",
              "    <tr>\n",
              "      <th>3</th>\n",
              "      <td>ABRIL</td>\n",
              "      <td>2017</td>\n",
              "      <td>306224</td>\n",
              "      <td>F</td>\n",
              "      <td>NaN</td>\n",
              "      <td>NaN</td>\n",
              "      <td>NaN</td>\n",
              "      <td>NaN</td>\n",
              "      <td>NaN</td>\n",
              "      <td>NaN</td>\n",
              "      <td>NaN</td>\n",
              "      <td>NaN</td>\n",
              "    </tr>\n",
              "    <tr>\n",
              "      <th>4</th>\n",
              "      <td>ABRIL</td>\n",
              "      <td>2017</td>\n",
              "      <td>306225</td>\n",
              "      <td>M</td>\n",
              "      <td>NaN</td>\n",
              "      <td>NaN</td>\n",
              "      <td>NaN</td>\n",
              "      <td>NaN</td>\n",
              "      <td>NaN</td>\n",
              "      <td>NaN</td>\n",
              "      <td>NaN</td>\n",
              "      <td>NaN</td>\n",
              "    </tr>\n",
              "  </tbody>\n",
              "</table>\n",
              "</div>\n",
              "    <div class=\"colab-df-buttons\">\n",
              "\n",
              "  <div class=\"colab-df-container\">\n",
              "    <button class=\"colab-df-convert\" onclick=\"convertToInteractive('df-8a031e20-81df-49ab-bc29-83f0e27fa887')\"\n",
              "            title=\"Convert this dataframe to an interactive table.\"\n",
              "            style=\"display:none;\">\n",
              "\n",
              "  <svg xmlns=\"http://www.w3.org/2000/svg\" height=\"24px\" viewBox=\"0 -960 960 960\">\n",
              "    <path d=\"M120-120v-720h720v720H120Zm60-500h600v-160H180v160Zm220 220h160v-160H400v160Zm0 220h160v-160H400v160ZM180-400h160v-160H180v160Zm440 0h160v-160H620v160ZM180-180h160v-160H180v160Zm440 0h160v-160H620v160Z\"/>\n",
              "  </svg>\n",
              "    </button>\n",
              "\n",
              "  <style>\n",
              "    .colab-df-container {\n",
              "      display:flex;\n",
              "      gap: 12px;\n",
              "    }\n",
              "\n",
              "    .colab-df-convert {\n",
              "      background-color: #E8F0FE;\n",
              "      border: none;\n",
              "      border-radius: 50%;\n",
              "      cursor: pointer;\n",
              "      display: none;\n",
              "      fill: #1967D2;\n",
              "      height: 32px;\n",
              "      padding: 0 0 0 0;\n",
              "      width: 32px;\n",
              "    }\n",
              "\n",
              "    .colab-df-convert:hover {\n",
              "      background-color: #E2EBFA;\n",
              "      box-shadow: 0px 1px 2px rgba(60, 64, 67, 0.3), 0px 1px 3px 1px rgba(60, 64, 67, 0.15);\n",
              "      fill: #174EA6;\n",
              "    }\n",
              "\n",
              "    .colab-df-buttons div {\n",
              "      margin-bottom: 4px;\n",
              "    }\n",
              "\n",
              "    [theme=dark] .colab-df-convert {\n",
              "      background-color: #3B4455;\n",
              "      fill: #D2E3FC;\n",
              "    }\n",
              "\n",
              "    [theme=dark] .colab-df-convert:hover {\n",
              "      background-color: #434B5C;\n",
              "      box-shadow: 0px 1px 3px 1px rgba(0, 0, 0, 0.15);\n",
              "      filter: drop-shadow(0px 1px 2px rgba(0, 0, 0, 0.3));\n",
              "      fill: #FFFFFF;\n",
              "    }\n",
              "  </style>\n",
              "\n",
              "    <script>\n",
              "      const buttonEl =\n",
              "        document.querySelector('#df-8a031e20-81df-49ab-bc29-83f0e27fa887 button.colab-df-convert');\n",
              "      buttonEl.style.display =\n",
              "        google.colab.kernel.accessAllowed ? 'block' : 'none';\n",
              "\n",
              "      async function convertToInteractive(key) {\n",
              "        const element = document.querySelector('#df-8a031e20-81df-49ab-bc29-83f0e27fa887');\n",
              "        const dataTable =\n",
              "          await google.colab.kernel.invokeFunction('convertToInteractive',\n",
              "                                                    [key], {});\n",
              "        if (!dataTable) return;\n",
              "\n",
              "        const docLinkHtml = 'Like what you see? Visit the ' +\n",
              "          '<a target=\"_blank\" href=https://colab.research.google.com/notebooks/data_table.ipynb>data table notebook</a>'\n",
              "          + ' to learn more about interactive tables.';\n",
              "        element.innerHTML = '';\n",
              "        dataTable['output_type'] = 'display_data';\n",
              "        await google.colab.output.renderOutput(dataTable, element);\n",
              "        const docLink = document.createElement('div');\n",
              "        docLink.innerHTML = docLinkHtml;\n",
              "        element.appendChild(docLink);\n",
              "      }\n",
              "    </script>\n",
              "  </div>\n",
              "\n",
              "\n",
              "<div id=\"df-9acf6889-ecda-4a04-b805-300c2ae7901f\">\n",
              "  <button class=\"colab-df-quickchart\" onclick=\"quickchart('df-9acf6889-ecda-4a04-b805-300c2ae7901f')\"\n",
              "            title=\"Suggest charts\"\n",
              "            style=\"display:none;\">\n",
              "\n",
              "<svg xmlns=\"http://www.w3.org/2000/svg\" height=\"24px\"viewBox=\"0 0 24 24\"\n",
              "     width=\"24px\">\n",
              "    <g>\n",
              "        <path d=\"M19 3H5c-1.1 0-2 .9-2 2v14c0 1.1.9 2 2 2h14c1.1 0 2-.9 2-2V5c0-1.1-.9-2-2-2zM9 17H7v-7h2v7zm4 0h-2V7h2v10zm4 0h-2v-4h2v4z\"/>\n",
              "    </g>\n",
              "</svg>\n",
              "  </button>\n",
              "\n",
              "<style>\n",
              "  .colab-df-quickchart {\n",
              "      --bg-color: #E8F0FE;\n",
              "      --fill-color: #1967D2;\n",
              "      --hover-bg-color: #E2EBFA;\n",
              "      --hover-fill-color: #174EA6;\n",
              "      --disabled-fill-color: #AAA;\n",
              "      --disabled-bg-color: #DDD;\n",
              "  }\n",
              "\n",
              "  [theme=dark] .colab-df-quickchart {\n",
              "      --bg-color: #3B4455;\n",
              "      --fill-color: #D2E3FC;\n",
              "      --hover-bg-color: #434B5C;\n",
              "      --hover-fill-color: #FFFFFF;\n",
              "      --disabled-bg-color: #3B4455;\n",
              "      --disabled-fill-color: #666;\n",
              "  }\n",
              "\n",
              "  .colab-df-quickchart {\n",
              "    background-color: var(--bg-color);\n",
              "    border: none;\n",
              "    border-radius: 50%;\n",
              "    cursor: pointer;\n",
              "    display: none;\n",
              "    fill: var(--fill-color);\n",
              "    height: 32px;\n",
              "    padding: 0;\n",
              "    width: 32px;\n",
              "  }\n",
              "\n",
              "  .colab-df-quickchart:hover {\n",
              "    background-color: var(--hover-bg-color);\n",
              "    box-shadow: 0 1px 2px rgba(60, 64, 67, 0.3), 0 1px 3px 1px rgba(60, 64, 67, 0.15);\n",
              "    fill: var(--button-hover-fill-color);\n",
              "  }\n",
              "\n",
              "  .colab-df-quickchart-complete:disabled,\n",
              "  .colab-df-quickchart-complete:disabled:hover {\n",
              "    background-color: var(--disabled-bg-color);\n",
              "    fill: var(--disabled-fill-color);\n",
              "    box-shadow: none;\n",
              "  }\n",
              "\n",
              "  .colab-df-spinner {\n",
              "    border: 2px solid var(--fill-color);\n",
              "    border-color: transparent;\n",
              "    border-bottom-color: var(--fill-color);\n",
              "    animation:\n",
              "      spin 1s steps(1) infinite;\n",
              "  }\n",
              "\n",
              "  @keyframes spin {\n",
              "    0% {\n",
              "      border-color: transparent;\n",
              "      border-bottom-color: var(--fill-color);\n",
              "      border-left-color: var(--fill-color);\n",
              "    }\n",
              "    20% {\n",
              "      border-color: transparent;\n",
              "      border-left-color: var(--fill-color);\n",
              "      border-top-color: var(--fill-color);\n",
              "    }\n",
              "    30% {\n",
              "      border-color: transparent;\n",
              "      border-left-color: var(--fill-color);\n",
              "      border-top-color: var(--fill-color);\n",
              "      border-right-color: var(--fill-color);\n",
              "    }\n",
              "    40% {\n",
              "      border-color: transparent;\n",
              "      border-right-color: var(--fill-color);\n",
              "      border-top-color: var(--fill-color);\n",
              "    }\n",
              "    60% {\n",
              "      border-color: transparent;\n",
              "      border-right-color: var(--fill-color);\n",
              "    }\n",
              "    80% {\n",
              "      border-color: transparent;\n",
              "      border-right-color: var(--fill-color);\n",
              "      border-bottom-color: var(--fill-color);\n",
              "    }\n",
              "    90% {\n",
              "      border-color: transparent;\n",
              "      border-bottom-color: var(--fill-color);\n",
              "    }\n",
              "  }\n",
              "</style>\n",
              "\n",
              "  <script>\n",
              "    async function quickchart(key) {\n",
              "      const quickchartButtonEl =\n",
              "        document.querySelector('#' + key + ' button');\n",
              "      quickchartButtonEl.disabled = true;  // To prevent multiple clicks.\n",
              "      quickchartButtonEl.classList.add('colab-df-spinner');\n",
              "      try {\n",
              "        const charts = await google.colab.kernel.invokeFunction(\n",
              "            'suggestCharts', [key], {});\n",
              "      } catch (error) {\n",
              "        console.error('Error during call to suggestCharts:', error);\n",
              "      }\n",
              "      quickchartButtonEl.classList.remove('colab-df-spinner');\n",
              "      quickchartButtonEl.classList.add('colab-df-quickchart-complete');\n",
              "    }\n",
              "    (() => {\n",
              "      let quickchartButtonEl =\n",
              "        document.querySelector('#df-9acf6889-ecda-4a04-b805-300c2ae7901f button');\n",
              "      quickchartButtonEl.style.display =\n",
              "        google.colab.kernel.accessAllowed ? 'block' : 'none';\n",
              "    })();\n",
              "  </script>\n",
              "</div>\n",
              "    </div>\n",
              "  </div>\n"
            ],
            "application/vnd.google.colaboratory.intrinsic+json": {
              "type": "dataframe",
              "variable_name": "df_usuarios"
            }
          },
          "metadata": {},
          "execution_count": 217
        }
      ]
    },
    {
      "cell_type": "code",
      "source": [
        "#Se consulta si hay diferentes departamentos\n",
        "df_usuarios[\"departamento\"].value_counts()"
      ],
      "metadata": {
        "colab": {
          "base_uri": "https://localhost:8080/"
        },
        "id": "VPQxZOkl60Zm",
        "outputId": "8f9371f4-ffc2-4f74-8e28-77280bf6ee8b"
      },
      "execution_count": 218,
      "outputs": [
        {
          "output_type": "execute_result",
          "data": {
            "text/plain": [
              "departamento\n",
              "ANTIOQUIA    82284\n",
              "Name: count, dtype: int64"
            ]
          },
          "metadata": {},
          "execution_count": 218
        }
      ]
    },
    {
      "cell_type": "code",
      "source": [
        "#se consulta el contenido de algunas variables por medio de una variable con la terminación \"view\"\n",
        "#ya que sólo se va a utilizar en esta línea de código\n",
        "df_usuarios_view = df_usuarios[[\"departamento\", \"municipio\", \"barrio\"]]\n",
        "df_usuarios_view.value_counts().head(30)"
      ],
      "metadata": {
        "colab": {
          "base_uri": "https://localhost:8080/"
        },
        "id": "vfMoM_-05tKL",
        "outputId": "1e7ea853-f4fd-4d38-f773-349b698ded85"
      },
      "execution_count": 219,
      "outputs": [
        {
          "output_type": "execute_result",
          "data": {
            "text/plain": [
              "departamento  municipio             barrio              \n",
              "ANTIOQUIA     MEDELLIN              MANRIQUE                2606\n",
              "                                    ARANJUEZ                1876\n",
              "                                    CASTILLA                1655\n",
              "                                    BUENOS AIRES            1361\n",
              "                                    CAMPO VALDES            1274\n",
              "              BELLO                 NIQUIA                  1083\n",
              "                                    BELLO                   1074\n",
              "              MEDELLIN              SAN JAVIER              1061\n",
              "                                    12 DE OCTUBRE           1045\n",
              "                                    BELEN                   1015\n",
              "                                    ROBLEDO                  951\n",
              "                                    VILLA HERMOSA            862\n",
              "              ITAGUI                ITAGUI                   844\n",
              "              SAN ANTONIO DE PRADO  SAN ANTONIO DE PRADO     818\n",
              "              MEDELLIN              SANTA CRUZ               789\n",
              "              ENVIGADO              ENVIGADO                 770\n",
              "              MEDELLIN              LA MILAGROSA             753\n",
              "                                    LA FLORESTA              571\n",
              "                                    CAICEDO                  537\n",
              "                                    PRADO CENTRO             525\n",
              "                                    GUAYABAL                 501\n",
              "                                    BOSTON                   480\n",
              "                                    PEDREGAL                 475\n",
              "                                    ENCISO                   468\n",
              "                                    LA AMERICA               441\n",
              "              SABANETA              SABANETA                 396\n",
              "              ITAGUI                ITAGUI SANTA MARÃA      394\n",
              "              MEDELLIN              LAURELES                 365\n",
              "                                    ANDALUCIA LA FRANCIA     352\n",
              "              BELLO                 PARIS                    346\n",
              "Name: count, dtype: int64"
            ]
          },
          "metadata": {},
          "execution_count": 219
        }
      ]
    },
    {
      "cell_type": "markdown",
      "source": [
        "El único departamento en el DF es Antioquia junto a sus respectivos municipios y barrios, por lo que se procede a borrar estas 3 variables ya que la geografía no es una variable importante dentro del caso de estudio."
      ],
      "metadata": {
        "id": "sB5nIegy6uww"
      }
    },
    {
      "cell_type": "code",
      "source": [
        "#Se borran las variables y se corrobora que se hizo el cambio correctamente\n",
        "df_usuarios = df_usuarios.drop([\"departamento\", \"municipio\", \"barrio\"], axis=1)\n",
        "df_usuarios.head(10)"
      ],
      "metadata": {
        "colab": {
          "base_uri": "https://localhost:8080/",
          "height": 363
        },
        "id": "AXaLGB516t_w",
        "outputId": "d654271a-ec2d-4810-d37d-6703d3bb0359"
      },
      "execution_count": 220,
      "outputs": [
        {
          "output_type": "execute_result",
          "data": {
            "text/plain": [
              "     mes  year  nrodoc sexo  edad primera_clase_funcional  \\\n",
              "0  ABRIL  2017  306221    F   NaN                     NaN   \n",
              "1  ABRIL  2017  306222    F   NaN                     NaN   \n",
              "2  ABRIL  2017  306223    F   NaN                     NaN   \n",
              "3  ABRIL  2017  306224    F   NaN                     NaN   \n",
              "4  ABRIL  2017  306225    M   NaN                     NaN   \n",
              "5  ABRIL  2017  306226    M   NaN                     NaN   \n",
              "6  ABRIL  2017  306227    F   NaN                     NaN   \n",
              "7  ABRIL  2017  306228    M   NaN                     NaN   \n",
              "8  ABRIL  2017  306229    F   NaN                     NaN   \n",
              "9  ABRIL  2017  306230    F   NaN                     NaN   \n",
              "\n",
              "  ultima_clase_funcional ciclo_vital quinquenio  \n",
              "0                    NaN         NaN        NaN  \n",
              "1                    NaN         NaN        NaN  \n",
              "2                    NaN         NaN        NaN  \n",
              "3                    NaN         NaN        NaN  \n",
              "4                    NaN         NaN        NaN  \n",
              "5                    NaN         NaN        NaN  \n",
              "6                    NaN         NaN        NaN  \n",
              "7                    NaN         NaN        NaN  \n",
              "8                    NaN         NaN        NaN  \n",
              "9                    NaN         NaN        NaN  "
            ],
            "text/html": [
              "\n",
              "  <div id=\"df-d793e3c2-3600-43ec-8299-4ba6c133f012\" class=\"colab-df-container\">\n",
              "    <div>\n",
              "<style scoped>\n",
              "    .dataframe tbody tr th:only-of-type {\n",
              "        vertical-align: middle;\n",
              "    }\n",
              "\n",
              "    .dataframe tbody tr th {\n",
              "        vertical-align: top;\n",
              "    }\n",
              "\n",
              "    .dataframe thead th {\n",
              "        text-align: right;\n",
              "    }\n",
              "</style>\n",
              "<table border=\"1\" class=\"dataframe\">\n",
              "  <thead>\n",
              "    <tr style=\"text-align: right;\">\n",
              "      <th></th>\n",
              "      <th>mes</th>\n",
              "      <th>year</th>\n",
              "      <th>nrodoc</th>\n",
              "      <th>sexo</th>\n",
              "      <th>edad</th>\n",
              "      <th>primera_clase_funcional</th>\n",
              "      <th>ultima_clase_funcional</th>\n",
              "      <th>ciclo_vital</th>\n",
              "      <th>quinquenio</th>\n",
              "    </tr>\n",
              "  </thead>\n",
              "  <tbody>\n",
              "    <tr>\n",
              "      <th>0</th>\n",
              "      <td>ABRIL</td>\n",
              "      <td>2017</td>\n",
              "      <td>306221</td>\n",
              "      <td>F</td>\n",
              "      <td>NaN</td>\n",
              "      <td>NaN</td>\n",
              "      <td>NaN</td>\n",
              "      <td>NaN</td>\n",
              "      <td>NaN</td>\n",
              "    </tr>\n",
              "    <tr>\n",
              "      <th>1</th>\n",
              "      <td>ABRIL</td>\n",
              "      <td>2017</td>\n",
              "      <td>306222</td>\n",
              "      <td>F</td>\n",
              "      <td>NaN</td>\n",
              "      <td>NaN</td>\n",
              "      <td>NaN</td>\n",
              "      <td>NaN</td>\n",
              "      <td>NaN</td>\n",
              "    </tr>\n",
              "    <tr>\n",
              "      <th>2</th>\n",
              "      <td>ABRIL</td>\n",
              "      <td>2017</td>\n",
              "      <td>306223</td>\n",
              "      <td>F</td>\n",
              "      <td>NaN</td>\n",
              "      <td>NaN</td>\n",
              "      <td>NaN</td>\n",
              "      <td>NaN</td>\n",
              "      <td>NaN</td>\n",
              "    </tr>\n",
              "    <tr>\n",
              "      <th>3</th>\n",
              "      <td>ABRIL</td>\n",
              "      <td>2017</td>\n",
              "      <td>306224</td>\n",
              "      <td>F</td>\n",
              "      <td>NaN</td>\n",
              "      <td>NaN</td>\n",
              "      <td>NaN</td>\n",
              "      <td>NaN</td>\n",
              "      <td>NaN</td>\n",
              "    </tr>\n",
              "    <tr>\n",
              "      <th>4</th>\n",
              "      <td>ABRIL</td>\n",
              "      <td>2017</td>\n",
              "      <td>306225</td>\n",
              "      <td>M</td>\n",
              "      <td>NaN</td>\n",
              "      <td>NaN</td>\n",
              "      <td>NaN</td>\n",
              "      <td>NaN</td>\n",
              "      <td>NaN</td>\n",
              "    </tr>\n",
              "    <tr>\n",
              "      <th>5</th>\n",
              "      <td>ABRIL</td>\n",
              "      <td>2017</td>\n",
              "      <td>306226</td>\n",
              "      <td>M</td>\n",
              "      <td>NaN</td>\n",
              "      <td>NaN</td>\n",
              "      <td>NaN</td>\n",
              "      <td>NaN</td>\n",
              "      <td>NaN</td>\n",
              "    </tr>\n",
              "    <tr>\n",
              "      <th>6</th>\n",
              "      <td>ABRIL</td>\n",
              "      <td>2017</td>\n",
              "      <td>306227</td>\n",
              "      <td>F</td>\n",
              "      <td>NaN</td>\n",
              "      <td>NaN</td>\n",
              "      <td>NaN</td>\n",
              "      <td>NaN</td>\n",
              "      <td>NaN</td>\n",
              "    </tr>\n",
              "    <tr>\n",
              "      <th>7</th>\n",
              "      <td>ABRIL</td>\n",
              "      <td>2017</td>\n",
              "      <td>306228</td>\n",
              "      <td>M</td>\n",
              "      <td>NaN</td>\n",
              "      <td>NaN</td>\n",
              "      <td>NaN</td>\n",
              "      <td>NaN</td>\n",
              "      <td>NaN</td>\n",
              "    </tr>\n",
              "    <tr>\n",
              "      <th>8</th>\n",
              "      <td>ABRIL</td>\n",
              "      <td>2017</td>\n",
              "      <td>306229</td>\n",
              "      <td>F</td>\n",
              "      <td>NaN</td>\n",
              "      <td>NaN</td>\n",
              "      <td>NaN</td>\n",
              "      <td>NaN</td>\n",
              "      <td>NaN</td>\n",
              "    </tr>\n",
              "    <tr>\n",
              "      <th>9</th>\n",
              "      <td>ABRIL</td>\n",
              "      <td>2017</td>\n",
              "      <td>306230</td>\n",
              "      <td>F</td>\n",
              "      <td>NaN</td>\n",
              "      <td>NaN</td>\n",
              "      <td>NaN</td>\n",
              "      <td>NaN</td>\n",
              "      <td>NaN</td>\n",
              "    </tr>\n",
              "  </tbody>\n",
              "</table>\n",
              "</div>\n",
              "    <div class=\"colab-df-buttons\">\n",
              "\n",
              "  <div class=\"colab-df-container\">\n",
              "    <button class=\"colab-df-convert\" onclick=\"convertToInteractive('df-d793e3c2-3600-43ec-8299-4ba6c133f012')\"\n",
              "            title=\"Convert this dataframe to an interactive table.\"\n",
              "            style=\"display:none;\">\n",
              "\n",
              "  <svg xmlns=\"http://www.w3.org/2000/svg\" height=\"24px\" viewBox=\"0 -960 960 960\">\n",
              "    <path d=\"M120-120v-720h720v720H120Zm60-500h600v-160H180v160Zm220 220h160v-160H400v160Zm0 220h160v-160H400v160ZM180-400h160v-160H180v160Zm440 0h160v-160H620v160ZM180-180h160v-160H180v160Zm440 0h160v-160H620v160Z\"/>\n",
              "  </svg>\n",
              "    </button>\n",
              "\n",
              "  <style>\n",
              "    .colab-df-container {\n",
              "      display:flex;\n",
              "      gap: 12px;\n",
              "    }\n",
              "\n",
              "    .colab-df-convert {\n",
              "      background-color: #E8F0FE;\n",
              "      border: none;\n",
              "      border-radius: 50%;\n",
              "      cursor: pointer;\n",
              "      display: none;\n",
              "      fill: #1967D2;\n",
              "      height: 32px;\n",
              "      padding: 0 0 0 0;\n",
              "      width: 32px;\n",
              "    }\n",
              "\n",
              "    .colab-df-convert:hover {\n",
              "      background-color: #E2EBFA;\n",
              "      box-shadow: 0px 1px 2px rgba(60, 64, 67, 0.3), 0px 1px 3px 1px rgba(60, 64, 67, 0.15);\n",
              "      fill: #174EA6;\n",
              "    }\n",
              "\n",
              "    .colab-df-buttons div {\n",
              "      margin-bottom: 4px;\n",
              "    }\n",
              "\n",
              "    [theme=dark] .colab-df-convert {\n",
              "      background-color: #3B4455;\n",
              "      fill: #D2E3FC;\n",
              "    }\n",
              "\n",
              "    [theme=dark] .colab-df-convert:hover {\n",
              "      background-color: #434B5C;\n",
              "      box-shadow: 0px 1px 3px 1px rgba(0, 0, 0, 0.15);\n",
              "      filter: drop-shadow(0px 1px 2px rgba(0, 0, 0, 0.3));\n",
              "      fill: #FFFFFF;\n",
              "    }\n",
              "  </style>\n",
              "\n",
              "    <script>\n",
              "      const buttonEl =\n",
              "        document.querySelector('#df-d793e3c2-3600-43ec-8299-4ba6c133f012 button.colab-df-convert');\n",
              "      buttonEl.style.display =\n",
              "        google.colab.kernel.accessAllowed ? 'block' : 'none';\n",
              "\n",
              "      async function convertToInteractive(key) {\n",
              "        const element = document.querySelector('#df-d793e3c2-3600-43ec-8299-4ba6c133f012');\n",
              "        const dataTable =\n",
              "          await google.colab.kernel.invokeFunction('convertToInteractive',\n",
              "                                                    [key], {});\n",
              "        if (!dataTable) return;\n",
              "\n",
              "        const docLinkHtml = 'Like what you see? Visit the ' +\n",
              "          '<a target=\"_blank\" href=https://colab.research.google.com/notebooks/data_table.ipynb>data table notebook</a>'\n",
              "          + ' to learn more about interactive tables.';\n",
              "        element.innerHTML = '';\n",
              "        dataTable['output_type'] = 'display_data';\n",
              "        await google.colab.output.renderOutput(dataTable, element);\n",
              "        const docLink = document.createElement('div');\n",
              "        docLink.innerHTML = docLinkHtml;\n",
              "        element.appendChild(docLink);\n",
              "      }\n",
              "    </script>\n",
              "  </div>\n",
              "\n",
              "\n",
              "<div id=\"df-a0d1b2ed-4a27-4b55-8013-fdff3cac6dce\">\n",
              "  <button class=\"colab-df-quickchart\" onclick=\"quickchart('df-a0d1b2ed-4a27-4b55-8013-fdff3cac6dce')\"\n",
              "            title=\"Suggest charts\"\n",
              "            style=\"display:none;\">\n",
              "\n",
              "<svg xmlns=\"http://www.w3.org/2000/svg\" height=\"24px\"viewBox=\"0 0 24 24\"\n",
              "     width=\"24px\">\n",
              "    <g>\n",
              "        <path d=\"M19 3H5c-1.1 0-2 .9-2 2v14c0 1.1.9 2 2 2h14c1.1 0 2-.9 2-2V5c0-1.1-.9-2-2-2zM9 17H7v-7h2v7zm4 0h-2V7h2v10zm4 0h-2v-4h2v4z\"/>\n",
              "    </g>\n",
              "</svg>\n",
              "  </button>\n",
              "\n",
              "<style>\n",
              "  .colab-df-quickchart {\n",
              "      --bg-color: #E8F0FE;\n",
              "      --fill-color: #1967D2;\n",
              "      --hover-bg-color: #E2EBFA;\n",
              "      --hover-fill-color: #174EA6;\n",
              "      --disabled-fill-color: #AAA;\n",
              "      --disabled-bg-color: #DDD;\n",
              "  }\n",
              "\n",
              "  [theme=dark] .colab-df-quickchart {\n",
              "      --bg-color: #3B4455;\n",
              "      --fill-color: #D2E3FC;\n",
              "      --hover-bg-color: #434B5C;\n",
              "      --hover-fill-color: #FFFFFF;\n",
              "      --disabled-bg-color: #3B4455;\n",
              "      --disabled-fill-color: #666;\n",
              "  }\n",
              "\n",
              "  .colab-df-quickchart {\n",
              "    background-color: var(--bg-color);\n",
              "    border: none;\n",
              "    border-radius: 50%;\n",
              "    cursor: pointer;\n",
              "    display: none;\n",
              "    fill: var(--fill-color);\n",
              "    height: 32px;\n",
              "    padding: 0;\n",
              "    width: 32px;\n",
              "  }\n",
              "\n",
              "  .colab-df-quickchart:hover {\n",
              "    background-color: var(--hover-bg-color);\n",
              "    box-shadow: 0 1px 2px rgba(60, 64, 67, 0.3), 0 1px 3px 1px rgba(60, 64, 67, 0.15);\n",
              "    fill: var(--button-hover-fill-color);\n",
              "  }\n",
              "\n",
              "  .colab-df-quickchart-complete:disabled,\n",
              "  .colab-df-quickchart-complete:disabled:hover {\n",
              "    background-color: var(--disabled-bg-color);\n",
              "    fill: var(--disabled-fill-color);\n",
              "    box-shadow: none;\n",
              "  }\n",
              "\n",
              "  .colab-df-spinner {\n",
              "    border: 2px solid var(--fill-color);\n",
              "    border-color: transparent;\n",
              "    border-bottom-color: var(--fill-color);\n",
              "    animation:\n",
              "      spin 1s steps(1) infinite;\n",
              "  }\n",
              "\n",
              "  @keyframes spin {\n",
              "    0% {\n",
              "      border-color: transparent;\n",
              "      border-bottom-color: var(--fill-color);\n",
              "      border-left-color: var(--fill-color);\n",
              "    }\n",
              "    20% {\n",
              "      border-color: transparent;\n",
              "      border-left-color: var(--fill-color);\n",
              "      border-top-color: var(--fill-color);\n",
              "    }\n",
              "    30% {\n",
              "      border-color: transparent;\n",
              "      border-left-color: var(--fill-color);\n",
              "      border-top-color: var(--fill-color);\n",
              "      border-right-color: var(--fill-color);\n",
              "    }\n",
              "    40% {\n",
              "      border-color: transparent;\n",
              "      border-right-color: var(--fill-color);\n",
              "      border-top-color: var(--fill-color);\n",
              "    }\n",
              "    60% {\n",
              "      border-color: transparent;\n",
              "      border-right-color: var(--fill-color);\n",
              "    }\n",
              "    80% {\n",
              "      border-color: transparent;\n",
              "      border-right-color: var(--fill-color);\n",
              "      border-bottom-color: var(--fill-color);\n",
              "    }\n",
              "    90% {\n",
              "      border-color: transparent;\n",
              "      border-bottom-color: var(--fill-color);\n",
              "    }\n",
              "  }\n",
              "</style>\n",
              "\n",
              "  <script>\n",
              "    async function quickchart(key) {\n",
              "      const quickchartButtonEl =\n",
              "        document.querySelector('#' + key + ' button');\n",
              "      quickchartButtonEl.disabled = true;  // To prevent multiple clicks.\n",
              "      quickchartButtonEl.classList.add('colab-df-spinner');\n",
              "      try {\n",
              "        const charts = await google.colab.kernel.invokeFunction(\n",
              "            'suggestCharts', [key], {});\n",
              "      } catch (error) {\n",
              "        console.error('Error during call to suggestCharts:', error);\n",
              "      }\n",
              "      quickchartButtonEl.classList.remove('colab-df-spinner');\n",
              "      quickchartButtonEl.classList.add('colab-df-quickchart-complete');\n",
              "    }\n",
              "    (() => {\n",
              "      let quickchartButtonEl =\n",
              "        document.querySelector('#df-a0d1b2ed-4a27-4b55-8013-fdff3cac6dce button');\n",
              "      quickchartButtonEl.style.display =\n",
              "        google.colab.kernel.accessAllowed ? 'block' : 'none';\n",
              "    })();\n",
              "  </script>\n",
              "</div>\n",
              "    </div>\n",
              "  </div>\n"
            ],
            "application/vnd.google.colaboratory.intrinsic+json": {
              "type": "dataframe",
              "variable_name": "df_usuarios"
            }
          },
          "metadata": {},
          "execution_count": 220
        }
      ]
    },
    {
      "cell_type": "markdown",
      "source": [
        "**Identificación de registros mal escritos o atípicos**"
      ],
      "metadata": {
        "id": "NR0dLR7a-pq8"
      }
    },
    {
      "cell_type": "code",
      "source": [
        "#Se consulta si los meses están bien escritos\n",
        "df_usuarios[\"mes\"].value_counts()"
      ],
      "metadata": {
        "colab": {
          "base_uri": "https://localhost:8080/"
        },
        "id": "-0ZnAzfs8Mdz",
        "outputId": "a6ddc6ad-d193-4638-b412-5c228139c952"
      },
      "execution_count": 221,
      "outputs": [
        {
          "output_type": "execute_result",
          "data": {
            "text/plain": [
              "mes\n",
              "JUNIO         18679\n",
              "MAYO          18649\n",
              "ENERO         14308\n",
              "OCTUBRE       14294\n",
              "DICIEMBRE     14293\n",
              "SEPTIEMBRE    14182\n",
              "FEBRERO       14158\n",
              "JULIO         14102\n",
              "AGOSTO        14077\n",
              "NOVIEMBRE     14063\n",
              "MARZO         14057\n",
              "ABRIL         14037\n",
              "Name: count, dtype: int64"
            ]
          },
          "metadata": {},
          "execution_count": 221
        }
      ]
    },
    {
      "cell_type": "code",
      "source": [
        "#Se cambian a minúsculas y se corrobora el cambio\n",
        "df_usuarios['mes'] = df_usuarios['mes'].str.lower()\n",
        "df_usuarios['mes'].value_counts()"
      ],
      "metadata": {
        "colab": {
          "base_uri": "https://localhost:8080/"
        },
        "id": "I-k4QsGZ_G3C",
        "outputId": "ae3fc543-42ac-41fd-f42f-4926dcf242b2"
      },
      "execution_count": 222,
      "outputs": [
        {
          "output_type": "execute_result",
          "data": {
            "text/plain": [
              "mes\n",
              "junio         18679\n",
              "mayo          18649\n",
              "enero         14308\n",
              "octubre       14294\n",
              "diciembre     14293\n",
              "septiembre    14182\n",
              "febrero       14158\n",
              "julio         14102\n",
              "agosto        14077\n",
              "noviembre     14063\n",
              "marzo         14057\n",
              "abril         14037\n",
              "Name: count, dtype: int64"
            ]
          },
          "metadata": {},
          "execution_count": 222
        }
      ]
    },
    {
      "cell_type": "code",
      "source": [
        "#Se consulta si los años están bien escritos\n",
        "df_usuarios['year'].value_counts()"
      ],
      "metadata": {
        "colab": {
          "base_uri": "https://localhost:8080/"
        },
        "id": "w5masxij_cxE",
        "outputId": "a5461f2e-aace-466d-bafd-95fb8933ef43"
      },
      "execution_count": 223,
      "outputs": [
        {
          "output_type": "execute_result",
          "data": {
            "text/plain": [
              "year\n",
              "2021    55229\n",
              "2018    52915\n",
              "2017    43563\n",
              "2022    27192\n",
              "Name: count, dtype: int64"
            ]
          },
          "metadata": {},
          "execution_count": 223
        }
      ]
    },
    {
      "cell_type": "markdown",
      "source": [
        "Se puede notar que no hay una continuidad en la serie de tiempo de los años ya que faltan los años 2019 y 2020. Puede ser por errores de digitación o porque efectivamente falta una parte del DF. En el porterior análisis exploratorio se decidirá si se sigue trabajando con estos datos o se van a depurar."
      ],
      "metadata": {
        "id": "JrN3xGye_wJM"
      }
    },
    {
      "cell_type": "code",
      "source": [
        "#Se consulta si los sexos están bien escritos\n",
        "df_usuarios['sexo'].value_counts()"
      ],
      "metadata": {
        "colab": {
          "base_uri": "https://localhost:8080/"
        },
        "id": "qHOLmyzmAKjY",
        "outputId": "3a44c63f-810e-41a0-e8e3-e2e25bfef998"
      },
      "execution_count": 224,
      "outputs": [
        {
          "output_type": "execute_result",
          "data": {
            "text/plain": [
              "sexo\n",
              "F                                       112220\n",
              "M                                        66658\n",
              "CARRERA 51 B 1 33                            1\n",
              "CL 48  95 55                                 1\n",
              "CR 49 46 14                                  1\n",
              "CRR 47 N  41 32                              1\n",
              "CALLE 80 A 71 A 18                           1\n",
              "CL 94  74B  16                               1\n",
              "CALLE 77E   8830                             1\n",
              "KR 55A 47 16  BR SANTA ANA                   1\n",
              "KR 92 NRO 46 97                              1\n",
              "CL 55 80 54                                  1\n",
              "CALLE 38 SUR N  29 A 54 PISO 2               1\n",
              "CR 75A   88A   27 BRR ROBLEDO KENEDY         1\n",
              "CL  40 C  SUR   29 C  31LA FLORIDA           1\n",
              "CL 31 NRO 44 159                             1\n",
              "Name: count, dtype: int64"
            ]
          },
          "metadata": {},
          "execution_count": 224
        }
      ]
    },
    {
      "cell_type": "code",
      "source": [
        "#Al tener errores en la toma de los datos se procede a sólo tomar en cuenta los registros \"F\" y \"M\"\n",
        "\n",
        "#Se crea una lista de valores a mantener\n",
        "genero = ['F', 'M']\n",
        "\n",
        "#Se iltran las filas donde 'SEXO' esté en la lista de valores a mantener y se corrobora el cambio\n",
        "df_usuarios = df_usuarios[df_usuarios['sexo'].isin(genero)]\n",
        "df_usuarios['sexo'].value_counts()"
      ],
      "metadata": {
        "colab": {
          "base_uri": "https://localhost:8080/"
        },
        "id": "oHBYsVgnAgtI",
        "outputId": "e95036b0-b58d-4773-b159-72a95a5ac507"
      },
      "execution_count": 225,
      "outputs": [
        {
          "output_type": "execute_result",
          "data": {
            "text/plain": [
              "sexo\n",
              "F    112220\n",
              "M     66658\n",
              "Name: count, dtype: int64"
            ]
          },
          "metadata": {},
          "execution_count": 225
        }
      ]
    },
    {
      "cell_type": "code",
      "source": [
        "#Se consultan las clases funcionales\n",
        "df_usuarios['primera_clase_funcional'].value_counts()"
      ],
      "metadata": {
        "colab": {
          "base_uri": "https://localhost:8080/"
        },
        "id": "6qFqRGIVA_Oc",
        "outputId": "4c005df7-e59c-478c-d7bf-4239becefefa"
      },
      "execution_count": 226,
      "outputs": [
        {
          "output_type": "execute_result",
          "data": {
            "text/plain": [
              "primera_clase_funcional\n",
              "CLASE FUNCIONAL 2A    16537\n",
              "CLASE FUNCIONAL 2B    16394\n",
              "CLASE FUNCIONAL 4      8180\n",
              "Clase funcional 2B     7398\n",
              "Clase funcional 2A     6830\n",
              "clase funcional 2b     5883\n",
              "Clase funcional 4      5794\n",
              "clase funcional 2a     5727\n",
              "CLASE FUNCIONAL 3      5529\n",
              "clase funcional 4      3738\n",
              "CLASE FUNCIONAL 1      1927\n",
              "clase funcional 3      1593\n",
              "Sin Clasificar         1393\n",
              "Clase funcional 3      1351\n",
              "Clase funcional 1       533\n",
              "clase funcional 1       518\n",
              "Sin clasificar          316\n",
              "Name: count, dtype: int64"
            ]
          },
          "metadata": {},
          "execution_count": 226
        }
      ]
    },
    {
      "cell_type": "markdown",
      "source": [
        "Se puede notar que los registros están escritos de manera diferente para clases funcionales iguales por lo que se procede a cambiar todos los registros a minúsculas y así tener uniformidad."
      ],
      "metadata": {
        "id": "wsTw756gBMdB"
      }
    },
    {
      "cell_type": "code",
      "source": [
        "#Se cambian a minúsculas y se corrobora el cambio\n",
        "df_usuarios['primera_clase_funcional'] = df_usuarios['primera_clase_funcional'].str.lower()\n",
        "df_usuarios['primera_clase_funcional'].value_counts()"
      ],
      "metadata": {
        "colab": {
          "base_uri": "https://localhost:8080/"
        },
        "id": "JLxmTcPqBcZ9",
        "outputId": "e27037fd-9a43-45c3-921a-17c156954abb"
      },
      "execution_count": 227,
      "outputs": [
        {
          "output_type": "execute_result",
          "data": {
            "text/plain": [
              "primera_clase_funcional\n",
              "clase funcional 2b    29675\n",
              "clase funcional 2a    29094\n",
              "clase funcional 4     17712\n",
              "clase funcional 3      8473\n",
              "clase funcional 1      2978\n",
              "sin clasificar         1709\n",
              "Name: count, dtype: int64"
            ]
          },
          "metadata": {},
          "execution_count": 227
        }
      ]
    },
    {
      "cell_type": "code",
      "source": [
        "#Se consultan las clases funcionales\n",
        "df_usuarios['ultima_clase_funcional'].value_counts()"
      ],
      "metadata": {
        "colab": {
          "base_uri": "https://localhost:8080/"
        },
        "id": "jUrJQVv6Cld5",
        "outputId": "cb49902d-a044-4aec-eee2-15b7c4ee4c31"
      },
      "execution_count": 228,
      "outputs": [
        {
          "output_type": "execute_result",
          "data": {
            "text/plain": [
              "ultima_clase_funcional\n",
              "CLASE FUNCIONAL 2A    28462\n",
              "CLASE FUNCIONAL 2B    23850\n",
              "Clase funcional 2A    21800\n",
              "CLASE FUNCIONAL 4     14993\n",
              "Clase funcional 4     14283\n",
              "Clase funcional 2B    13103\n",
              "CLASE FUNCIONAL 3      5556\n",
              "Clase funcional 3      1855\n",
              "CLASE FUNCIONAL 1      1667\n",
              "Sin Clasificar         1393\n",
              "Clase funcional 1       671\n",
              "Sin clasificar          284\n",
              "SIN CLASIFICAR          192\n",
              "Name: count, dtype: int64"
            ]
          },
          "metadata": {},
          "execution_count": 228
        }
      ]
    },
    {
      "cell_type": "code",
      "source": [
        "#Se cambian a minúsculas y se corrobora el cambio\n",
        "df_usuarios['ultima_clase_funcional'] = df_usuarios['ultima_clase_funcional'].str.lower()\n",
        "df_usuarios['ultima_clase_funcional'].value_counts()"
      ],
      "metadata": {
        "colab": {
          "base_uri": "https://localhost:8080/"
        },
        "id": "n3OOBkloCqyn",
        "outputId": "741f1602-25c8-4b51-bc73-c6c3cc09d4b6"
      },
      "execution_count": 229,
      "outputs": [
        {
          "output_type": "execute_result",
          "data": {
            "text/plain": [
              "ultima_clase_funcional\n",
              "clase funcional 2a    50262\n",
              "clase funcional 2b    36953\n",
              "clase funcional 4     29276\n",
              "clase funcional 3      7411\n",
              "clase funcional 1      2338\n",
              "sin clasificar         1869\n",
              "Name: count, dtype: int64"
            ]
          },
          "metadata": {},
          "execution_count": 229
        }
      ]
    },
    {
      "cell_type": "code",
      "source": [
        "#Se consultan las categorías de ciclo vital\n",
        "df_usuarios['ciclo_vital'].value_counts()"
      ],
      "metadata": {
        "colab": {
          "base_uri": "https://localhost:8080/"
        },
        "id": "ncX48Y12C74t",
        "outputId": "c54fa9cc-310b-4e76-92b7-ba10bdee7cd2"
      },
      "execution_count": 230,
      "outputs": [
        {
          "output_type": "execute_result",
          "data": {
            "text/plain": [
              "ciclo_vital\n",
              "Vejez       130595\n",
              "Adultez      17542\n",
              "Juventud      1618\n",
              "Name: count, dtype: int64"
            ]
          },
          "metadata": {},
          "execution_count": 230
        }
      ]
    },
    {
      "cell_type": "code",
      "source": [
        "#Se cambian a minúsculas y se corrobora el cambio\n",
        "df_usuarios['ciclo_vital'] = df_usuarios['ciclo_vital'].str.lower()\n",
        "df_usuarios['ciclo_vital'].value_counts()"
      ],
      "metadata": {
        "colab": {
          "base_uri": "https://localhost:8080/"
        },
        "id": "ewrRNpOVDFU1",
        "outputId": "e35f4b5f-6631-4b5b-95b4-21f7b17603e2"
      },
      "execution_count": 231,
      "outputs": [
        {
          "output_type": "execute_result",
          "data": {
            "text/plain": [
              "ciclo_vital\n",
              "vejez       130595\n",
              "adultez      17542\n",
              "juventud      1618\n",
              "Name: count, dtype: int64"
            ]
          },
          "metadata": {},
          "execution_count": 231
        }
      ]
    },
    {
      "cell_type": "code",
      "source": [
        "#Se consultan las categorías de quinquenio\n",
        "df_usuarios['quinquenio'].value_counts()"
      ],
      "metadata": {
        "colab": {
          "base_uri": "https://localhost:8080/"
        },
        "id": "pg6DEwpRDN3B",
        "outputId": "c5581c3c-e36f-449b-9b87-a65222a415ee"
      },
      "execution_count": 232,
      "outputs": [
        {
          "output_type": "execute_result",
          "data": {
            "text/plain": [
              "quinquenio\n",
              "75-79     24956\n",
              "70-74     23335\n",
              "80-84     22711\n",
              "65-69     18600\n",
              "85-89     16554\n",
              "60-64     12720\n",
              ">90       11719\n",
              "55-59      7855\n",
              "50-54      4432\n",
              "45-49      2107\n",
              "25-29      1102\n",
              "40-44      1095\n",
              "35-39       939\n",
              "30-34       927\n",
              "20-24       678\n",
              "15-19        25\n",
              "Name: count, dtype: int64"
            ]
          },
          "metadata": {},
          "execution_count": 232
        }
      ]
    },
    {
      "cell_type": "markdown",
      "source": [
        "**Eliminación y depuración de nulos**"
      ],
      "metadata": {
        "id": "73mOyWOTDwtl"
      }
    },
    {
      "cell_type": "code",
      "source": [
        "df_usuarios.isnull().sum()"
      ],
      "metadata": {
        "colab": {
          "base_uri": "https://localhost:8080/"
        },
        "id": "iEKbxUZuHD5V",
        "outputId": "18e5c4d5-5d78-4219-dbab-25cf6ada6e24"
      },
      "execution_count": 233,
      "outputs": [
        {
          "output_type": "execute_result",
          "data": {
            "text/plain": [
              "mes                            0\n",
              "year                           0\n",
              "nrodoc                         0\n",
              "sexo                           0\n",
              "edad                       29123\n",
              "primera_clase_funcional    89237\n",
              "ultima_clase_funcional     50769\n",
              "ciclo_vital                29123\n",
              "quinquenio                 29123\n",
              "dtype: int64"
            ]
          },
          "metadata": {},
          "execution_count": 233
        }
      ]
    },
    {
      "cell_type": "code",
      "source": [
        "#Total de filas que debería tener cada variable dado que la variable mes no tiene nulos\n",
        "df_usuarios[\"mes\"].count()"
      ],
      "metadata": {
        "colab": {
          "base_uri": "https://localhost:8080/"
        },
        "id": "dh2pBVE2GTzy",
        "outputId": "6b747528-4bf1-47e1-dd61-445a2c26a7d1"
      },
      "execution_count": 234,
      "outputs": [
        {
          "output_type": "execute_result",
          "data": {
            "text/plain": [
              "178878"
            ]
          },
          "metadata": {},
          "execution_count": 234
        }
      ]
    },
    {
      "cell_type": "code",
      "source": [
        "print(\"El porcentaje de nulos de edad es:\", (df_usuarios[\"edad\"].isnull().sum()/178878)*100,\"%\")\n",
        "print(\"El porcentaje de nulos de primera_clase_funcional es:\", (df_usuarios[\"primera_clase_funcional\"].isnull().sum()/178878)*100,\"%\")\n",
        "print(\"El porcentaje de nulos de ultima_clase_funcional es:\", (df_usuarios[\"ultima_clase_funcional\"].isnull().sum()/178878)*100,\"%\")\n",
        "print(\"El porcentaje de nulos de ciclo_vital es:\", (df_usuarios[\"ciclo_vital\"].isnull().sum()/178878)*100,\"%\")\n",
        "print(\"El porcentaje de nulos de quinquenio es:\", (df_usuarios[\"quinquenio\"].isnull().sum()/178878)*100,\"%\")"
      ],
      "metadata": {
        "colab": {
          "base_uri": "https://localhost:8080/"
        },
        "id": "t8u7MxkKDgDD",
        "outputId": "9ff9e75e-706b-427b-981d-a272db27c4bf"
      },
      "execution_count": 235,
      "outputs": [
        {
          "output_type": "stream",
          "name": "stdout",
          "text": [
            "El porcentaje de nulos de edad es: 16.28092890126231 %\n",
            "El porcentaje de nulos de primera_clase_funcional es: 49.88707387157728 %\n",
            "El porcentaje de nulos de ultima_clase_funcional es: 28.381913930164693 %\n",
            "El porcentaje de nulos de ciclo_vital es: 16.28092890126231 %\n",
            "El porcentaje de nulos de quinquenio es: 16.28092890126231 %\n"
          ]
        }
      ]
    },
    {
      "cell_type": "markdown",
      "source": [
        "-El porcentaje de nulos en edad, ciclo_vital y quinquenio es igual, lo que significa que son 3 varibles que explican lo mismo por lo que se decide dejar ciclo vital y así tener menos categorías y optimizar la realización del posterior exploratorio.\n",
        "\n",
        "\n",
        "-Los nulos en las clases funcionales se van a rellenar con la categoría \"sin clasificar\".\n",
        "\n",
        "-Los nulos en el ciclo vital se van a llenar con el dato más frecuente."
      ],
      "metadata": {
        "id": "DnmXmgmCJQeS"
      }
    },
    {
      "cell_type": "code",
      "source": [
        "df_usuarios = df_usuarios.drop([\"edad\", \"quinquenio\"], axis=1)"
      ],
      "metadata": {
        "id": "Je8oH34IRrhc"
      },
      "execution_count": 249,
      "outputs": []
    },
    {
      "cell_type": "code",
      "source": [
        "# Se decide reemplazar los nulos con la categoria 'sin clasificar'\n",
        "df_usuarios['primera_clase_funcional'].fillna('sin clasificar', inplace=True)"
      ],
      "metadata": {
        "id": "XvIT_T06OHVj"
      },
      "execution_count": 250,
      "outputs": []
    },
    {
      "cell_type": "code",
      "source": [
        "# Se decide reemplazar los nulos en la categoria 'sin clasificar'\n",
        "df_usuarios['ultima_clase_funcional'].fillna('sin clasificar', inplace=True)"
      ],
      "metadata": {
        "id": "nkXPj5XaOH5Y"
      },
      "execution_count": 251,
      "outputs": []
    },
    {
      "cell_type": "code",
      "source": [
        "#Consultar valor más común\n",
        "df_usuarios['ciclo_vital'].value_counts()"
      ],
      "metadata": {
        "colab": {
          "base_uri": "https://localhost:8080/"
        },
        "id": "L0Na_C7lOmN8",
        "outputId": "aedc6bc1-6f95-43f0-f853-970798121306"
      },
      "execution_count": 252,
      "outputs": [
        {
          "output_type": "execute_result",
          "data": {
            "text/plain": [
              "ciclo_vital\n",
              "vejez       159718\n",
              "adultez      17542\n",
              "juventud      1618\n",
              "Name: count, dtype: int64"
            ]
          },
          "metadata": {},
          "execution_count": 252
        }
      ]
    },
    {
      "cell_type": "code",
      "source": [
        "#Reemplazar por valor más común\n",
        "df_usuarios['ciclo_vital'].fillna('vejez', inplace=True)"
      ],
      "metadata": {
        "id": "8KvY8mdpOi5i"
      },
      "execution_count": 253,
      "outputs": []
    },
    {
      "cell_type": "code",
      "source": [
        "#Se corroboran todos los cambios\n",
        "df_usuarios.isnull().sum()"
      ],
      "metadata": {
        "colab": {
          "base_uri": "https://localhost:8080/"
        },
        "id": "aw-ABYHHPdgj",
        "outputId": "4d2edb1c-adb4-4cf9-c6a8-3839a4dcc51c"
      },
      "execution_count": 254,
      "outputs": [
        {
          "output_type": "execute_result",
          "data": {
            "text/plain": [
              "mes                        0\n",
              "year                       0\n",
              "nrodoc                     0\n",
              "sexo                       0\n",
              "primera_clase_funcional    0\n",
              "ultima_clase_funcional     0\n",
              "ciclo_vital                0\n",
              "dtype: int64"
            ]
          },
          "metadata": {},
          "execution_count": 254
        }
      ]
    },
    {
      "cell_type": "code",
      "source": [
        "df_usuarios"
      ],
      "metadata": {
        "colab": {
          "base_uri": "https://localhost:8080/",
          "height": 423
        },
        "id": "acCMCXAcPopy",
        "outputId": "b1315e78-127c-4a9d-951d-afbeed7056c5"
      },
      "execution_count": 256,
      "outputs": [
        {
          "output_type": "execute_result",
          "data": {
            "text/plain": [
              "          mes  year  nrodoc sexo primera_clase_funcional  \\\n",
              "0       abril  2017  306221    F          sin clasificar   \n",
              "1       abril  2017  306222    F          sin clasificar   \n",
              "2       abril  2017  306223    F          sin clasificar   \n",
              "3       abril  2017  306224    F          sin clasificar   \n",
              "4       abril  2017  306225    M          sin clasificar   \n",
              "...       ...   ...     ...  ...                     ...   \n",
              "183906  junio  2022  307482    F      clase funcional 2b   \n",
              "183907  junio  2022  313801    F       clase funcional 1   \n",
              "183908  junio  2022  307738    F      clase funcional 2b   \n",
              "183909  junio  2022  311656    M      clase funcional 2a   \n",
              "183910  junio  2022  309230    M      clase funcional 2a   \n",
              "\n",
              "       ultima_clase_funcional ciclo_vital  \n",
              "0              sin clasificar       vejez  \n",
              "1              sin clasificar       vejez  \n",
              "2              sin clasificar       vejez  \n",
              "3              sin clasificar       vejez  \n",
              "4              sin clasificar       vejez  \n",
              "...                       ...         ...  \n",
              "183906     clase funcional 2a       vejez  \n",
              "183907      clase funcional 1    juventud  \n",
              "183908     clase funcional 2a       vejez  \n",
              "183909     clase funcional 2b       vejez  \n",
              "183910     clase funcional 2b       vejez  \n",
              "\n",
              "[178878 rows x 7 columns]"
            ],
            "text/html": [
              "\n",
              "  <div id=\"df-cd9ed19e-ecde-416a-bd74-92f8960e9c2f\" class=\"colab-df-container\">\n",
              "    <div>\n",
              "<style scoped>\n",
              "    .dataframe tbody tr th:only-of-type {\n",
              "        vertical-align: middle;\n",
              "    }\n",
              "\n",
              "    .dataframe tbody tr th {\n",
              "        vertical-align: top;\n",
              "    }\n",
              "\n",
              "    .dataframe thead th {\n",
              "        text-align: right;\n",
              "    }\n",
              "</style>\n",
              "<table border=\"1\" class=\"dataframe\">\n",
              "  <thead>\n",
              "    <tr style=\"text-align: right;\">\n",
              "      <th></th>\n",
              "      <th>mes</th>\n",
              "      <th>year</th>\n",
              "      <th>nrodoc</th>\n",
              "      <th>sexo</th>\n",
              "      <th>primera_clase_funcional</th>\n",
              "      <th>ultima_clase_funcional</th>\n",
              "      <th>ciclo_vital</th>\n",
              "    </tr>\n",
              "  </thead>\n",
              "  <tbody>\n",
              "    <tr>\n",
              "      <th>0</th>\n",
              "      <td>abril</td>\n",
              "      <td>2017</td>\n",
              "      <td>306221</td>\n",
              "      <td>F</td>\n",
              "      <td>sin clasificar</td>\n",
              "      <td>sin clasificar</td>\n",
              "      <td>vejez</td>\n",
              "    </tr>\n",
              "    <tr>\n",
              "      <th>1</th>\n",
              "      <td>abril</td>\n",
              "      <td>2017</td>\n",
              "      <td>306222</td>\n",
              "      <td>F</td>\n",
              "      <td>sin clasificar</td>\n",
              "      <td>sin clasificar</td>\n",
              "      <td>vejez</td>\n",
              "    </tr>\n",
              "    <tr>\n",
              "      <th>2</th>\n",
              "      <td>abril</td>\n",
              "      <td>2017</td>\n",
              "      <td>306223</td>\n",
              "      <td>F</td>\n",
              "      <td>sin clasificar</td>\n",
              "      <td>sin clasificar</td>\n",
              "      <td>vejez</td>\n",
              "    </tr>\n",
              "    <tr>\n",
              "      <th>3</th>\n",
              "      <td>abril</td>\n",
              "      <td>2017</td>\n",
              "      <td>306224</td>\n",
              "      <td>F</td>\n",
              "      <td>sin clasificar</td>\n",
              "      <td>sin clasificar</td>\n",
              "      <td>vejez</td>\n",
              "    </tr>\n",
              "    <tr>\n",
              "      <th>4</th>\n",
              "      <td>abril</td>\n",
              "      <td>2017</td>\n",
              "      <td>306225</td>\n",
              "      <td>M</td>\n",
              "      <td>sin clasificar</td>\n",
              "      <td>sin clasificar</td>\n",
              "      <td>vejez</td>\n",
              "    </tr>\n",
              "    <tr>\n",
              "      <th>...</th>\n",
              "      <td>...</td>\n",
              "      <td>...</td>\n",
              "      <td>...</td>\n",
              "      <td>...</td>\n",
              "      <td>...</td>\n",
              "      <td>...</td>\n",
              "      <td>...</td>\n",
              "    </tr>\n",
              "    <tr>\n",
              "      <th>183906</th>\n",
              "      <td>junio</td>\n",
              "      <td>2022</td>\n",
              "      <td>307482</td>\n",
              "      <td>F</td>\n",
              "      <td>clase funcional 2b</td>\n",
              "      <td>clase funcional 2a</td>\n",
              "      <td>vejez</td>\n",
              "    </tr>\n",
              "    <tr>\n",
              "      <th>183907</th>\n",
              "      <td>junio</td>\n",
              "      <td>2022</td>\n",
              "      <td>313801</td>\n",
              "      <td>F</td>\n",
              "      <td>clase funcional 1</td>\n",
              "      <td>clase funcional 1</td>\n",
              "      <td>juventud</td>\n",
              "    </tr>\n",
              "    <tr>\n",
              "      <th>183908</th>\n",
              "      <td>junio</td>\n",
              "      <td>2022</td>\n",
              "      <td>307738</td>\n",
              "      <td>F</td>\n",
              "      <td>clase funcional 2b</td>\n",
              "      <td>clase funcional 2a</td>\n",
              "      <td>vejez</td>\n",
              "    </tr>\n",
              "    <tr>\n",
              "      <th>183909</th>\n",
              "      <td>junio</td>\n",
              "      <td>2022</td>\n",
              "      <td>311656</td>\n",
              "      <td>M</td>\n",
              "      <td>clase funcional 2a</td>\n",
              "      <td>clase funcional 2b</td>\n",
              "      <td>vejez</td>\n",
              "    </tr>\n",
              "    <tr>\n",
              "      <th>183910</th>\n",
              "      <td>junio</td>\n",
              "      <td>2022</td>\n",
              "      <td>309230</td>\n",
              "      <td>M</td>\n",
              "      <td>clase funcional 2a</td>\n",
              "      <td>clase funcional 2b</td>\n",
              "      <td>vejez</td>\n",
              "    </tr>\n",
              "  </tbody>\n",
              "</table>\n",
              "<p>178878 rows × 7 columns</p>\n",
              "</div>\n",
              "    <div class=\"colab-df-buttons\">\n",
              "\n",
              "  <div class=\"colab-df-container\">\n",
              "    <button class=\"colab-df-convert\" onclick=\"convertToInteractive('df-cd9ed19e-ecde-416a-bd74-92f8960e9c2f')\"\n",
              "            title=\"Convert this dataframe to an interactive table.\"\n",
              "            style=\"display:none;\">\n",
              "\n",
              "  <svg xmlns=\"http://www.w3.org/2000/svg\" height=\"24px\" viewBox=\"0 -960 960 960\">\n",
              "    <path d=\"M120-120v-720h720v720H120Zm60-500h600v-160H180v160Zm220 220h160v-160H400v160Zm0 220h160v-160H400v160ZM180-400h160v-160H180v160Zm440 0h160v-160H620v160ZM180-180h160v-160H180v160Zm440 0h160v-160H620v160Z\"/>\n",
              "  </svg>\n",
              "    </button>\n",
              "\n",
              "  <style>\n",
              "    .colab-df-container {\n",
              "      display:flex;\n",
              "      gap: 12px;\n",
              "    }\n",
              "\n",
              "    .colab-df-convert {\n",
              "      background-color: #E8F0FE;\n",
              "      border: none;\n",
              "      border-radius: 50%;\n",
              "      cursor: pointer;\n",
              "      display: none;\n",
              "      fill: #1967D2;\n",
              "      height: 32px;\n",
              "      padding: 0 0 0 0;\n",
              "      width: 32px;\n",
              "    }\n",
              "\n",
              "    .colab-df-convert:hover {\n",
              "      background-color: #E2EBFA;\n",
              "      box-shadow: 0px 1px 2px rgba(60, 64, 67, 0.3), 0px 1px 3px 1px rgba(60, 64, 67, 0.15);\n",
              "      fill: #174EA6;\n",
              "    }\n",
              "\n",
              "    .colab-df-buttons div {\n",
              "      margin-bottom: 4px;\n",
              "    }\n",
              "\n",
              "    [theme=dark] .colab-df-convert {\n",
              "      background-color: #3B4455;\n",
              "      fill: #D2E3FC;\n",
              "    }\n",
              "\n",
              "    [theme=dark] .colab-df-convert:hover {\n",
              "      background-color: #434B5C;\n",
              "      box-shadow: 0px 1px 3px 1px rgba(0, 0, 0, 0.15);\n",
              "      filter: drop-shadow(0px 1px 2px rgba(0, 0, 0, 0.3));\n",
              "      fill: #FFFFFF;\n",
              "    }\n",
              "  </style>\n",
              "\n",
              "    <script>\n",
              "      const buttonEl =\n",
              "        document.querySelector('#df-cd9ed19e-ecde-416a-bd74-92f8960e9c2f button.colab-df-convert');\n",
              "      buttonEl.style.display =\n",
              "        google.colab.kernel.accessAllowed ? 'block' : 'none';\n",
              "\n",
              "      async function convertToInteractive(key) {\n",
              "        const element = document.querySelector('#df-cd9ed19e-ecde-416a-bd74-92f8960e9c2f');\n",
              "        const dataTable =\n",
              "          await google.colab.kernel.invokeFunction('convertToInteractive',\n",
              "                                                    [key], {});\n",
              "        if (!dataTable) return;\n",
              "\n",
              "        const docLinkHtml = 'Like what you see? Visit the ' +\n",
              "          '<a target=\"_blank\" href=https://colab.research.google.com/notebooks/data_table.ipynb>data table notebook</a>'\n",
              "          + ' to learn more about interactive tables.';\n",
              "        element.innerHTML = '';\n",
              "        dataTable['output_type'] = 'display_data';\n",
              "        await google.colab.output.renderOutput(dataTable, element);\n",
              "        const docLink = document.createElement('div');\n",
              "        docLink.innerHTML = docLinkHtml;\n",
              "        element.appendChild(docLink);\n",
              "      }\n",
              "    </script>\n",
              "  </div>\n",
              "\n",
              "\n",
              "<div id=\"df-f12d0f1e-0e73-46f6-8f40-66f7aa34e345\">\n",
              "  <button class=\"colab-df-quickchart\" onclick=\"quickchart('df-f12d0f1e-0e73-46f6-8f40-66f7aa34e345')\"\n",
              "            title=\"Suggest charts\"\n",
              "            style=\"display:none;\">\n",
              "\n",
              "<svg xmlns=\"http://www.w3.org/2000/svg\" height=\"24px\"viewBox=\"0 0 24 24\"\n",
              "     width=\"24px\">\n",
              "    <g>\n",
              "        <path d=\"M19 3H5c-1.1 0-2 .9-2 2v14c0 1.1.9 2 2 2h14c1.1 0 2-.9 2-2V5c0-1.1-.9-2-2-2zM9 17H7v-7h2v7zm4 0h-2V7h2v10zm4 0h-2v-4h2v4z\"/>\n",
              "    </g>\n",
              "</svg>\n",
              "  </button>\n",
              "\n",
              "<style>\n",
              "  .colab-df-quickchart {\n",
              "      --bg-color: #E8F0FE;\n",
              "      --fill-color: #1967D2;\n",
              "      --hover-bg-color: #E2EBFA;\n",
              "      --hover-fill-color: #174EA6;\n",
              "      --disabled-fill-color: #AAA;\n",
              "      --disabled-bg-color: #DDD;\n",
              "  }\n",
              "\n",
              "  [theme=dark] .colab-df-quickchart {\n",
              "      --bg-color: #3B4455;\n",
              "      --fill-color: #D2E3FC;\n",
              "      --hover-bg-color: #434B5C;\n",
              "      --hover-fill-color: #FFFFFF;\n",
              "      --disabled-bg-color: #3B4455;\n",
              "      --disabled-fill-color: #666;\n",
              "  }\n",
              "\n",
              "  .colab-df-quickchart {\n",
              "    background-color: var(--bg-color);\n",
              "    border: none;\n",
              "    border-radius: 50%;\n",
              "    cursor: pointer;\n",
              "    display: none;\n",
              "    fill: var(--fill-color);\n",
              "    height: 32px;\n",
              "    padding: 0;\n",
              "    width: 32px;\n",
              "  }\n",
              "\n",
              "  .colab-df-quickchart:hover {\n",
              "    background-color: var(--hover-bg-color);\n",
              "    box-shadow: 0 1px 2px rgba(60, 64, 67, 0.3), 0 1px 3px 1px rgba(60, 64, 67, 0.15);\n",
              "    fill: var(--button-hover-fill-color);\n",
              "  }\n",
              "\n",
              "  .colab-df-quickchart-complete:disabled,\n",
              "  .colab-df-quickchart-complete:disabled:hover {\n",
              "    background-color: var(--disabled-bg-color);\n",
              "    fill: var(--disabled-fill-color);\n",
              "    box-shadow: none;\n",
              "  }\n",
              "\n",
              "  .colab-df-spinner {\n",
              "    border: 2px solid var(--fill-color);\n",
              "    border-color: transparent;\n",
              "    border-bottom-color: var(--fill-color);\n",
              "    animation:\n",
              "      spin 1s steps(1) infinite;\n",
              "  }\n",
              "\n",
              "  @keyframes spin {\n",
              "    0% {\n",
              "      border-color: transparent;\n",
              "      border-bottom-color: var(--fill-color);\n",
              "      border-left-color: var(--fill-color);\n",
              "    }\n",
              "    20% {\n",
              "      border-color: transparent;\n",
              "      border-left-color: var(--fill-color);\n",
              "      border-top-color: var(--fill-color);\n",
              "    }\n",
              "    30% {\n",
              "      border-color: transparent;\n",
              "      border-left-color: var(--fill-color);\n",
              "      border-top-color: var(--fill-color);\n",
              "      border-right-color: var(--fill-color);\n",
              "    }\n",
              "    40% {\n",
              "      border-color: transparent;\n",
              "      border-right-color: var(--fill-color);\n",
              "      border-top-color: var(--fill-color);\n",
              "    }\n",
              "    60% {\n",
              "      border-color: transparent;\n",
              "      border-right-color: var(--fill-color);\n",
              "    }\n",
              "    80% {\n",
              "      border-color: transparent;\n",
              "      border-right-color: var(--fill-color);\n",
              "      border-bottom-color: var(--fill-color);\n",
              "    }\n",
              "    90% {\n",
              "      border-color: transparent;\n",
              "      border-bottom-color: var(--fill-color);\n",
              "    }\n",
              "  }\n",
              "</style>\n",
              "\n",
              "  <script>\n",
              "    async function quickchart(key) {\n",
              "      const quickchartButtonEl =\n",
              "        document.querySelector('#' + key + ' button');\n",
              "      quickchartButtonEl.disabled = true;  // To prevent multiple clicks.\n",
              "      quickchartButtonEl.classList.add('colab-df-spinner');\n",
              "      try {\n",
              "        const charts = await google.colab.kernel.invokeFunction(\n",
              "            'suggestCharts', [key], {});\n",
              "      } catch (error) {\n",
              "        console.error('Error during call to suggestCharts:', error);\n",
              "      }\n",
              "      quickchartButtonEl.classList.remove('colab-df-spinner');\n",
              "      quickchartButtonEl.classList.add('colab-df-quickchart-complete');\n",
              "    }\n",
              "    (() => {\n",
              "      let quickchartButtonEl =\n",
              "        document.querySelector('#df-f12d0f1e-0e73-46f6-8f40-66f7aa34e345 button');\n",
              "      quickchartButtonEl.style.display =\n",
              "        google.colab.kernel.accessAllowed ? 'block' : 'none';\n",
              "    })();\n",
              "  </script>\n",
              "</div>\n",
              "    </div>\n",
              "  </div>\n"
            ],
            "application/vnd.google.colaboratory.intrinsic+json": {
              "type": "dataframe",
              "variable_name": "df_usuarios"
            }
          },
          "metadata": {},
          "execution_count": 256
        }
      ]
    },
    {
      "cell_type": "markdown",
      "source": [
        "**El DF se redujo de 183.912 a 178.878 filas y de 16 a 7 variables**\n",
        "\n"
      ],
      "metadata": {
        "id": "9EeQwVV_Sc-1"
      }
    },
    {
      "cell_type": "code",
      "source": [
        "#convertimos la base a un csv\n",
        "df_usuarios.to_csv('/content/drive/MyDrive/analitica3/Salud/df_usuarios.csv', index=True)"
      ],
      "metadata": {
        "id": "PWtdUsTZSN9A"
      },
      "execution_count": 258,
      "outputs": []
    }
  ]
}