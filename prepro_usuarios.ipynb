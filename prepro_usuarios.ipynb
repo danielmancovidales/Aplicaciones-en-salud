{
  "nbformat": 4,
  "nbformat_minor": 0,
  "metadata": {
    "colab": {
      "provenance": [],
      "include_colab_link": true
    },
    "kernelspec": {
      "name": "python3",
      "display_name": "Python 3"
    },
    "language_info": {
      "name": "python"
    }
  },
  "cells": [
    {
      "cell_type": "markdown",
      "metadata": {
        "id": "view-in-github",
        "colab_type": "text"
      },
      "source": [
        "<a href=\"https://colab.research.google.com/github/danielmancovidales/Aplicaciones-en-salud/blob/main/prepro_usuarios.ipynb\" target=\"_parent\"><img src=\"https://colab.research.google.com/assets/colab-badge.svg\" alt=\"Open In Colab\"/></a>"
      ]
    },
    {
      "cell_type": "code",
      "execution_count": 1,
      "metadata": {
        "id": "cK1p_OXVFQPH"
      },
      "outputs": [],
      "source": [
        "# Librerias generales\n",
        "import pandas as pd\n",
        "import numpy as np\n",
        "import re\n",
        "# Librerias y visualización\n",
        "import seaborn as sns\n",
        "import matplotlib.pyplot as plt"
      ]
    },
    {
      "cell_type": "code",
      "source": [
        "from google.colab import drive\n",
        "drive.mount('/content/drive')"
      ],
      "metadata": {
        "colab": {
          "base_uri": "https://localhost:8080/"
        },
        "id": "GOeSbzRQGb-i",
        "outputId": "2b4da1ef-6def-49fc-8dac-1826118e8e31"
      },
      "execution_count": 2,
      "outputs": [
        {
          "output_type": "stream",
          "name": "stdout",
          "text": [
            "Mounted at /content/drive\n"
          ]
        }
      ]
    },
    {
      "cell_type": "code",
      "source": [
        "# Leer base de datos\n",
        "df_usuarios = pd.read_csv('/content/drive/MyDrive/analitica3/Salud/RETO_df_usuarios.csv', encoding='latin1', sep=',', low_memory= False)\n",
        "df_usuarios"
      ],
      "metadata": {
        "colab": {
          "base_uri": "https://localhost:8080/",
          "height": 736
        },
        "id": "QtQ33cPNGgfm",
        "outputId": "b1882e0c-0b87-4d69-b20c-438a93c150aa"
      },
      "execution_count": 3,
      "outputs": [
        {
          "output_type": "execute_result",
          "data": {
            "text/plain": [
              "          MES  YEAR  NRODOC SEXO     FECHA NACIMIENTO  EDAD DEPARTAMENTO  \\\n",
              "0       ABRIL  2017  306221    F  1938-09-09 00:00:00   NaN          NaN   \n",
              "1       ABRIL  2017  306222    F  1974-07-03 00:00:00   NaN          NaN   \n",
              "2       ABRIL  2017  306223    F  1930-08-24 00:00:00   NaN          NaN   \n",
              "3       ABRIL  2017  306224    F  1979-12-01 00:00:00   NaN          NaN   \n",
              "4       ABRIL  2017  306225    M  1943-06-01 00:00:00   NaN          NaN   \n",
              "...       ...   ...     ...  ...                  ...   ...          ...   \n",
              "183906  JUNIO  2022  307482    F  1941-03-26 00:00:00  81.0    ANTIOQUIA   \n",
              "183907  JUNIO  2022  313801    F  1999-04-13 00:00:00  23.0    ANTIOQUIA   \n",
              "183908  JUNIO  2022  307738    F  1943-09-11 00:00:00  78.0    ANTIOQUIA   \n",
              "183909  JUNIO  2022  311656    M  1940-05-26 00:00:00  82.0    ANTIOQUIA   \n",
              "183910  JUNIO  2022  309230    M  1957-05-26 00:00:00  65.0    ANTIOQUIA   \n",
              "\n",
              "       MUNICIPIO                BARRIO  FECHA INICIO AL PGP  \\\n",
              "0            NaN                   NaN                  NaN   \n",
              "1            NaN                   NaN                  NaN   \n",
              "2            NaN                   NaN                  NaN   \n",
              "3            NaN                   NaN                  NaN   \n",
              "4            NaN                   NaN                  NaN   \n",
              "...          ...                   ...                  ...   \n",
              "183906  MEDELLIN                   NaN  2017-04-01 00:00:00   \n",
              "183907       NaN                   NaN  2021-09-02 00:00:00   \n",
              "183908  MEDELLIN                   NaN  2017-04-01 00:00:00   \n",
              "183909  MEDELLIN                   NaN  2018-01-01 00:00:00   \n",
              "183910  ENVIGADO  ENVIGADO LA MAGNOLIA  2017-04-01 00:00:00   \n",
              "\n",
              "       FECHA PRIMERA CLASE FUNCIONAL PRIMERA CLASE FUNCIONAL  \\\n",
              "0                                NaN                     NaN   \n",
              "1                                NaN                     NaN   \n",
              "2                                NaN                     NaN   \n",
              "3                                NaN                     NaN   \n",
              "4                                NaN                     NaN   \n",
              "...                              ...                     ...   \n",
              "183906           2017-08-23 00:00:00      CLASE FUNCIONAL 2B   \n",
              "183907           2021-10-26 00:00:00       CLASE FUNCIONAL 1   \n",
              "183908           2017-06-14 00:00:00      CLASE FUNCIONAL 2B   \n",
              "183909           2018-02-21 00:00:00      CLASE FUNCIONAL 2A   \n",
              "183910           2018-08-13 00:00:00      CLASE FUNCIONAL 2A   \n",
              "\n",
              "       FECHA ÃLTIMA CLASE FUNCIONAL ÃLTIMA CLASE FUNCIONAL CICLO_VITAL  \\\n",
              "0                                NaN                     NaN         NaN   \n",
              "1                                NaN                     NaN         NaN   \n",
              "2                                NaN                     NaN         NaN   \n",
              "3                                NaN                     NaN         NaN   \n",
              "4                                NaN                     NaN         NaN   \n",
              "...                              ...                     ...         ...   \n",
              "183906           2022-04-22 00:00:00      CLASE FUNCIONAL 2A       Vejez   \n",
              "183907           2022-01-27 00:00:00       CLASE FUNCIONAL 1    Juventud   \n",
              "183908           2022-01-06 00:00:00      CLASE FUNCIONAL 2A       Vejez   \n",
              "183909           2022-03-17 00:00:00      CLASE FUNCIONAL 2B       Vejez   \n",
              "183910           2022-02-09 00:00:00      CLASE FUNCIONAL 2B       Vejez   \n",
              "\n",
              "       QUINQUENIO  \n",
              "0             NaN  \n",
              "1             NaN  \n",
              "2             NaN  \n",
              "3             NaN  \n",
              "4             NaN  \n",
              "...           ...  \n",
              "183906      80-84  \n",
              "183907      20-24  \n",
              "183908     75-79   \n",
              "183909      80-84  \n",
              "183910     65-69   \n",
              "\n",
              "[183911 rows x 16 columns]"
            ],
            "text/html": [
              "\n",
              "  <div id=\"df-7ae9f813-f85d-41d1-81b6-8dc22416935f\" class=\"colab-df-container\">\n",
              "    <div>\n",
              "<style scoped>\n",
              "    .dataframe tbody tr th:only-of-type {\n",
              "        vertical-align: middle;\n",
              "    }\n",
              "\n",
              "    .dataframe tbody tr th {\n",
              "        vertical-align: top;\n",
              "    }\n",
              "\n",
              "    .dataframe thead th {\n",
              "        text-align: right;\n",
              "    }\n",
              "</style>\n",
              "<table border=\"1\" class=\"dataframe\">\n",
              "  <thead>\n",
              "    <tr style=\"text-align: right;\">\n",
              "      <th></th>\n",
              "      <th>MES</th>\n",
              "      <th>YEAR</th>\n",
              "      <th>NRODOC</th>\n",
              "      <th>SEXO</th>\n",
              "      <th>FECHA NACIMIENTO</th>\n",
              "      <th>EDAD</th>\n",
              "      <th>DEPARTAMENTO</th>\n",
              "      <th>MUNICIPIO</th>\n",
              "      <th>BARRIO</th>\n",
              "      <th>FECHA INICIO AL PGP</th>\n",
              "      <th>FECHA PRIMERA CLASE FUNCIONAL</th>\n",
              "      <th>PRIMERA CLASE FUNCIONAL</th>\n",
              "      <th>FECHA ÃLTIMA CLASE FUNCIONAL</th>\n",
              "      <th>ÃLTIMA CLASE FUNCIONAL</th>\n",
              "      <th>CICLO_VITAL</th>\n",
              "      <th>QUINQUENIO</th>\n",
              "    </tr>\n",
              "  </thead>\n",
              "  <tbody>\n",
              "    <tr>\n",
              "      <th>0</th>\n",
              "      <td>ABRIL</td>\n",
              "      <td>2017</td>\n",
              "      <td>306221</td>\n",
              "      <td>F</td>\n",
              "      <td>1938-09-09 00:00:00</td>\n",
              "      <td>NaN</td>\n",
              "      <td>NaN</td>\n",
              "      <td>NaN</td>\n",
              "      <td>NaN</td>\n",
              "      <td>NaN</td>\n",
              "      <td>NaN</td>\n",
              "      <td>NaN</td>\n",
              "      <td>NaN</td>\n",
              "      <td>NaN</td>\n",
              "      <td>NaN</td>\n",
              "      <td>NaN</td>\n",
              "    </tr>\n",
              "    <tr>\n",
              "      <th>1</th>\n",
              "      <td>ABRIL</td>\n",
              "      <td>2017</td>\n",
              "      <td>306222</td>\n",
              "      <td>F</td>\n",
              "      <td>1974-07-03 00:00:00</td>\n",
              "      <td>NaN</td>\n",
              "      <td>NaN</td>\n",
              "      <td>NaN</td>\n",
              "      <td>NaN</td>\n",
              "      <td>NaN</td>\n",
              "      <td>NaN</td>\n",
              "      <td>NaN</td>\n",
              "      <td>NaN</td>\n",
              "      <td>NaN</td>\n",
              "      <td>NaN</td>\n",
              "      <td>NaN</td>\n",
              "    </tr>\n",
              "    <tr>\n",
              "      <th>2</th>\n",
              "      <td>ABRIL</td>\n",
              "      <td>2017</td>\n",
              "      <td>306223</td>\n",
              "      <td>F</td>\n",
              "      <td>1930-08-24 00:00:00</td>\n",
              "      <td>NaN</td>\n",
              "      <td>NaN</td>\n",
              "      <td>NaN</td>\n",
              "      <td>NaN</td>\n",
              "      <td>NaN</td>\n",
              "      <td>NaN</td>\n",
              "      <td>NaN</td>\n",
              "      <td>NaN</td>\n",
              "      <td>NaN</td>\n",
              "      <td>NaN</td>\n",
              "      <td>NaN</td>\n",
              "    </tr>\n",
              "    <tr>\n",
              "      <th>3</th>\n",
              "      <td>ABRIL</td>\n",
              "      <td>2017</td>\n",
              "      <td>306224</td>\n",
              "      <td>F</td>\n",
              "      <td>1979-12-01 00:00:00</td>\n",
              "      <td>NaN</td>\n",
              "      <td>NaN</td>\n",
              "      <td>NaN</td>\n",
              "      <td>NaN</td>\n",
              "      <td>NaN</td>\n",
              "      <td>NaN</td>\n",
              "      <td>NaN</td>\n",
              "      <td>NaN</td>\n",
              "      <td>NaN</td>\n",
              "      <td>NaN</td>\n",
              "      <td>NaN</td>\n",
              "    </tr>\n",
              "    <tr>\n",
              "      <th>4</th>\n",
              "      <td>ABRIL</td>\n",
              "      <td>2017</td>\n",
              "      <td>306225</td>\n",
              "      <td>M</td>\n",
              "      <td>1943-06-01 00:00:00</td>\n",
              "      <td>NaN</td>\n",
              "      <td>NaN</td>\n",
              "      <td>NaN</td>\n",
              "      <td>NaN</td>\n",
              "      <td>NaN</td>\n",
              "      <td>NaN</td>\n",
              "      <td>NaN</td>\n",
              "      <td>NaN</td>\n",
              "      <td>NaN</td>\n",
              "      <td>NaN</td>\n",
              "      <td>NaN</td>\n",
              "    </tr>\n",
              "    <tr>\n",
              "      <th>...</th>\n",
              "      <td>...</td>\n",
              "      <td>...</td>\n",
              "      <td>...</td>\n",
              "      <td>...</td>\n",
              "      <td>...</td>\n",
              "      <td>...</td>\n",
              "      <td>...</td>\n",
              "      <td>...</td>\n",
              "      <td>...</td>\n",
              "      <td>...</td>\n",
              "      <td>...</td>\n",
              "      <td>...</td>\n",
              "      <td>...</td>\n",
              "      <td>...</td>\n",
              "      <td>...</td>\n",
              "      <td>...</td>\n",
              "    </tr>\n",
              "    <tr>\n",
              "      <th>183906</th>\n",
              "      <td>JUNIO</td>\n",
              "      <td>2022</td>\n",
              "      <td>307482</td>\n",
              "      <td>F</td>\n",
              "      <td>1941-03-26 00:00:00</td>\n",
              "      <td>81.0</td>\n",
              "      <td>ANTIOQUIA</td>\n",
              "      <td>MEDELLIN</td>\n",
              "      <td>NaN</td>\n",
              "      <td>2017-04-01 00:00:00</td>\n",
              "      <td>2017-08-23 00:00:00</td>\n",
              "      <td>CLASE FUNCIONAL 2B</td>\n",
              "      <td>2022-04-22 00:00:00</td>\n",
              "      <td>CLASE FUNCIONAL 2A</td>\n",
              "      <td>Vejez</td>\n",
              "      <td>80-84</td>\n",
              "    </tr>\n",
              "    <tr>\n",
              "      <th>183907</th>\n",
              "      <td>JUNIO</td>\n",
              "      <td>2022</td>\n",
              "      <td>313801</td>\n",
              "      <td>F</td>\n",
              "      <td>1999-04-13 00:00:00</td>\n",
              "      <td>23.0</td>\n",
              "      <td>ANTIOQUIA</td>\n",
              "      <td>NaN</td>\n",
              "      <td>NaN</td>\n",
              "      <td>2021-09-02 00:00:00</td>\n",
              "      <td>2021-10-26 00:00:00</td>\n",
              "      <td>CLASE FUNCIONAL 1</td>\n",
              "      <td>2022-01-27 00:00:00</td>\n",
              "      <td>CLASE FUNCIONAL 1</td>\n",
              "      <td>Juventud</td>\n",
              "      <td>20-24</td>\n",
              "    </tr>\n",
              "    <tr>\n",
              "      <th>183908</th>\n",
              "      <td>JUNIO</td>\n",
              "      <td>2022</td>\n",
              "      <td>307738</td>\n",
              "      <td>F</td>\n",
              "      <td>1943-09-11 00:00:00</td>\n",
              "      <td>78.0</td>\n",
              "      <td>ANTIOQUIA</td>\n",
              "      <td>MEDELLIN</td>\n",
              "      <td>NaN</td>\n",
              "      <td>2017-04-01 00:00:00</td>\n",
              "      <td>2017-06-14 00:00:00</td>\n",
              "      <td>CLASE FUNCIONAL 2B</td>\n",
              "      <td>2022-01-06 00:00:00</td>\n",
              "      <td>CLASE FUNCIONAL 2A</td>\n",
              "      <td>Vejez</td>\n",
              "      <td>75-79</td>\n",
              "    </tr>\n",
              "    <tr>\n",
              "      <th>183909</th>\n",
              "      <td>JUNIO</td>\n",
              "      <td>2022</td>\n",
              "      <td>311656</td>\n",
              "      <td>M</td>\n",
              "      <td>1940-05-26 00:00:00</td>\n",
              "      <td>82.0</td>\n",
              "      <td>ANTIOQUIA</td>\n",
              "      <td>MEDELLIN</td>\n",
              "      <td>NaN</td>\n",
              "      <td>2018-01-01 00:00:00</td>\n",
              "      <td>2018-02-21 00:00:00</td>\n",
              "      <td>CLASE FUNCIONAL 2A</td>\n",
              "      <td>2022-03-17 00:00:00</td>\n",
              "      <td>CLASE FUNCIONAL 2B</td>\n",
              "      <td>Vejez</td>\n",
              "      <td>80-84</td>\n",
              "    </tr>\n",
              "    <tr>\n",
              "      <th>183910</th>\n",
              "      <td>JUNIO</td>\n",
              "      <td>2022</td>\n",
              "      <td>309230</td>\n",
              "      <td>M</td>\n",
              "      <td>1957-05-26 00:00:00</td>\n",
              "      <td>65.0</td>\n",
              "      <td>ANTIOQUIA</td>\n",
              "      <td>ENVIGADO</td>\n",
              "      <td>ENVIGADO LA MAGNOLIA</td>\n",
              "      <td>2017-04-01 00:00:00</td>\n",
              "      <td>2018-08-13 00:00:00</td>\n",
              "      <td>CLASE FUNCIONAL 2A</td>\n",
              "      <td>2022-02-09 00:00:00</td>\n",
              "      <td>CLASE FUNCIONAL 2B</td>\n",
              "      <td>Vejez</td>\n",
              "      <td>65-69</td>\n",
              "    </tr>\n",
              "  </tbody>\n",
              "</table>\n",
              "<p>183911 rows × 16 columns</p>\n",
              "</div>\n",
              "    <div class=\"colab-df-buttons\">\n",
              "\n",
              "  <div class=\"colab-df-container\">\n",
              "    <button class=\"colab-df-convert\" onclick=\"convertToInteractive('df-7ae9f813-f85d-41d1-81b6-8dc22416935f')\"\n",
              "            title=\"Convert this dataframe to an interactive table.\"\n",
              "            style=\"display:none;\">\n",
              "\n",
              "  <svg xmlns=\"http://www.w3.org/2000/svg\" height=\"24px\" viewBox=\"0 -960 960 960\">\n",
              "    <path d=\"M120-120v-720h720v720H120Zm60-500h600v-160H180v160Zm220 220h160v-160H400v160Zm0 220h160v-160H400v160ZM180-400h160v-160H180v160Zm440 0h160v-160H620v160ZM180-180h160v-160H180v160Zm440 0h160v-160H620v160Z\"/>\n",
              "  </svg>\n",
              "    </button>\n",
              "\n",
              "  <style>\n",
              "    .colab-df-container {\n",
              "      display:flex;\n",
              "      gap: 12px;\n",
              "    }\n",
              "\n",
              "    .colab-df-convert {\n",
              "      background-color: #E8F0FE;\n",
              "      border: none;\n",
              "      border-radius: 50%;\n",
              "      cursor: pointer;\n",
              "      display: none;\n",
              "      fill: #1967D2;\n",
              "      height: 32px;\n",
              "      padding: 0 0 0 0;\n",
              "      width: 32px;\n",
              "    }\n",
              "\n",
              "    .colab-df-convert:hover {\n",
              "      background-color: #E2EBFA;\n",
              "      box-shadow: 0px 1px 2px rgba(60, 64, 67, 0.3), 0px 1px 3px 1px rgba(60, 64, 67, 0.15);\n",
              "      fill: #174EA6;\n",
              "    }\n",
              "\n",
              "    .colab-df-buttons div {\n",
              "      margin-bottom: 4px;\n",
              "    }\n",
              "\n",
              "    [theme=dark] .colab-df-convert {\n",
              "      background-color: #3B4455;\n",
              "      fill: #D2E3FC;\n",
              "    }\n",
              "\n",
              "    [theme=dark] .colab-df-convert:hover {\n",
              "      background-color: #434B5C;\n",
              "      box-shadow: 0px 1px 3px 1px rgba(0, 0, 0, 0.15);\n",
              "      filter: drop-shadow(0px 1px 2px rgba(0, 0, 0, 0.3));\n",
              "      fill: #FFFFFF;\n",
              "    }\n",
              "  </style>\n",
              "\n",
              "    <script>\n",
              "      const buttonEl =\n",
              "        document.querySelector('#df-7ae9f813-f85d-41d1-81b6-8dc22416935f button.colab-df-convert');\n",
              "      buttonEl.style.display =\n",
              "        google.colab.kernel.accessAllowed ? 'block' : 'none';\n",
              "\n",
              "      async function convertToInteractive(key) {\n",
              "        const element = document.querySelector('#df-7ae9f813-f85d-41d1-81b6-8dc22416935f');\n",
              "        const dataTable =\n",
              "          await google.colab.kernel.invokeFunction('convertToInteractive',\n",
              "                                                    [key], {});\n",
              "        if (!dataTable) return;\n",
              "\n",
              "        const docLinkHtml = 'Like what you see? Visit the ' +\n",
              "          '<a target=\"_blank\" href=https://colab.research.google.com/notebooks/data_table.ipynb>data table notebook</a>'\n",
              "          + ' to learn more about interactive tables.';\n",
              "        element.innerHTML = '';\n",
              "        dataTable['output_type'] = 'display_data';\n",
              "        await google.colab.output.renderOutput(dataTable, element);\n",
              "        const docLink = document.createElement('div');\n",
              "        docLink.innerHTML = docLinkHtml;\n",
              "        element.appendChild(docLink);\n",
              "      }\n",
              "    </script>\n",
              "  </div>\n",
              "\n",
              "\n",
              "<div id=\"df-37528aa5-e6d5-423d-9dbf-b007a13ae4e7\">\n",
              "  <button class=\"colab-df-quickchart\" onclick=\"quickchart('df-37528aa5-e6d5-423d-9dbf-b007a13ae4e7')\"\n",
              "            title=\"Suggest charts\"\n",
              "            style=\"display:none;\">\n",
              "\n",
              "<svg xmlns=\"http://www.w3.org/2000/svg\" height=\"24px\"viewBox=\"0 0 24 24\"\n",
              "     width=\"24px\">\n",
              "    <g>\n",
              "        <path d=\"M19 3H5c-1.1 0-2 .9-2 2v14c0 1.1.9 2 2 2h14c1.1 0 2-.9 2-2V5c0-1.1-.9-2-2-2zM9 17H7v-7h2v7zm4 0h-2V7h2v10zm4 0h-2v-4h2v4z\"/>\n",
              "    </g>\n",
              "</svg>\n",
              "  </button>\n",
              "\n",
              "<style>\n",
              "  .colab-df-quickchart {\n",
              "      --bg-color: #E8F0FE;\n",
              "      --fill-color: #1967D2;\n",
              "      --hover-bg-color: #E2EBFA;\n",
              "      --hover-fill-color: #174EA6;\n",
              "      --disabled-fill-color: #AAA;\n",
              "      --disabled-bg-color: #DDD;\n",
              "  }\n",
              "\n",
              "  [theme=dark] .colab-df-quickchart {\n",
              "      --bg-color: #3B4455;\n",
              "      --fill-color: #D2E3FC;\n",
              "      --hover-bg-color: #434B5C;\n",
              "      --hover-fill-color: #FFFFFF;\n",
              "      --disabled-bg-color: #3B4455;\n",
              "      --disabled-fill-color: #666;\n",
              "  }\n",
              "\n",
              "  .colab-df-quickchart {\n",
              "    background-color: var(--bg-color);\n",
              "    border: none;\n",
              "    border-radius: 50%;\n",
              "    cursor: pointer;\n",
              "    display: none;\n",
              "    fill: var(--fill-color);\n",
              "    height: 32px;\n",
              "    padding: 0;\n",
              "    width: 32px;\n",
              "  }\n",
              "\n",
              "  .colab-df-quickchart:hover {\n",
              "    background-color: var(--hover-bg-color);\n",
              "    box-shadow: 0 1px 2px rgba(60, 64, 67, 0.3), 0 1px 3px 1px rgba(60, 64, 67, 0.15);\n",
              "    fill: var(--button-hover-fill-color);\n",
              "  }\n",
              "\n",
              "  .colab-df-quickchart-complete:disabled,\n",
              "  .colab-df-quickchart-complete:disabled:hover {\n",
              "    background-color: var(--disabled-bg-color);\n",
              "    fill: var(--disabled-fill-color);\n",
              "    box-shadow: none;\n",
              "  }\n",
              "\n",
              "  .colab-df-spinner {\n",
              "    border: 2px solid var(--fill-color);\n",
              "    border-color: transparent;\n",
              "    border-bottom-color: var(--fill-color);\n",
              "    animation:\n",
              "      spin 1s steps(1) infinite;\n",
              "  }\n",
              "\n",
              "  @keyframes spin {\n",
              "    0% {\n",
              "      border-color: transparent;\n",
              "      border-bottom-color: var(--fill-color);\n",
              "      border-left-color: var(--fill-color);\n",
              "    }\n",
              "    20% {\n",
              "      border-color: transparent;\n",
              "      border-left-color: var(--fill-color);\n",
              "      border-top-color: var(--fill-color);\n",
              "    }\n",
              "    30% {\n",
              "      border-color: transparent;\n",
              "      border-left-color: var(--fill-color);\n",
              "      border-top-color: var(--fill-color);\n",
              "      border-right-color: var(--fill-color);\n",
              "    }\n",
              "    40% {\n",
              "      border-color: transparent;\n",
              "      border-right-color: var(--fill-color);\n",
              "      border-top-color: var(--fill-color);\n",
              "    }\n",
              "    60% {\n",
              "      border-color: transparent;\n",
              "      border-right-color: var(--fill-color);\n",
              "    }\n",
              "    80% {\n",
              "      border-color: transparent;\n",
              "      border-right-color: var(--fill-color);\n",
              "      border-bottom-color: var(--fill-color);\n",
              "    }\n",
              "    90% {\n",
              "      border-color: transparent;\n",
              "      border-bottom-color: var(--fill-color);\n",
              "    }\n",
              "  }\n",
              "</style>\n",
              "\n",
              "  <script>\n",
              "    async function quickchart(key) {\n",
              "      const quickchartButtonEl =\n",
              "        document.querySelector('#' + key + ' button');\n",
              "      quickchartButtonEl.disabled = true;  // To prevent multiple clicks.\n",
              "      quickchartButtonEl.classList.add('colab-df-spinner');\n",
              "      try {\n",
              "        const charts = await google.colab.kernel.invokeFunction(\n",
              "            'suggestCharts', [key], {});\n",
              "      } catch (error) {\n",
              "        console.error('Error during call to suggestCharts:', error);\n",
              "      }\n",
              "      quickchartButtonEl.classList.remove('colab-df-spinner');\n",
              "      quickchartButtonEl.classList.add('colab-df-quickchart-complete');\n",
              "    }\n",
              "    (() => {\n",
              "      let quickchartButtonEl =\n",
              "        document.querySelector('#df-37528aa5-e6d5-423d-9dbf-b007a13ae4e7 button');\n",
              "      quickchartButtonEl.style.display =\n",
              "        google.colab.kernel.accessAllowed ? 'block' : 'none';\n",
              "    })();\n",
              "  </script>\n",
              "</div>\n",
              "    </div>\n",
              "  </div>\n"
            ],
            "application/vnd.google.colaboratory.intrinsic+json": {
              "type": "dataframe",
              "variable_name": "df_usuarios"
            }
          },
          "metadata": {},
          "execution_count": 3
        }
      ]
    },
    {
      "cell_type": "markdown",
      "source": [
        "**Cambio de nombres y eliminación de duplicados**"
      ],
      "metadata": {
        "id": "0C8KmnvD0IGU"
      }
    },
    {
      "cell_type": "code",
      "source": [
        "# Se cambian los nombres de mayusculas a minisculas\n",
        "df_usuarios.columns = df_usuarios.columns.str.lower()"
      ],
      "metadata": {
        "id": "zWoWbKHqvsBz"
      },
      "execution_count": 4,
      "outputs": []
    },
    {
      "cell_type": "code",
      "source": [
        "#se verifican la variables existentes\n",
        "df_usuarios.columns"
      ],
      "metadata": {
        "colab": {
          "base_uri": "https://localhost:8080/"
        },
        "id": "gJ08GRTqvuz7",
        "outputId": "0b7aeb76-2f84-492a-d962-471d56679c79"
      },
      "execution_count": 5,
      "outputs": [
        {
          "output_type": "execute_result",
          "data": {
            "text/plain": [
              "Index(['mes', 'year', 'nrodoc', 'sexo', 'fecha nacimiento', 'edad',\n",
              "       'departamento', 'municipio', 'barrio', 'fecha inicio al pgp',\n",
              "       'fecha primera clase funcional', 'primera clase funcional',\n",
              "       'fecha ãltima clase funcional', 'ãltima clase funcional',\n",
              "       'ciclo_vital', 'quinquenio'],\n",
              "      dtype='object')"
            ]
          },
          "metadata": {},
          "execution_count": 5
        }
      ]
    },
    {
      "cell_type": "code",
      "source": [
        "# Función para quitar los espacios de los nombres y reemplazar por '_'\n",
        "def limpiar_nombre_columna(nombre):\n",
        "    nombre_limpio = nombre.replace(\" \", \"_\")  # Reemplazar espacios por guiones bajos\n",
        "    return nombre_limpio\n",
        "\n",
        "# Aplicar la función a los nombres de las columnas\n",
        "df_usuarios.columns = df_usuarios.columns.map(limpiar_nombre_columna)"
      ],
      "metadata": {
        "id": "l1tB57lYv0Pi"
      },
      "execution_count": 6,
      "outputs": []
    },
    {
      "cell_type": "code",
      "source": [
        "# Se corrigen los nombres que tienen tildes\n",
        "df_usuarios = df_usuarios.rename(columns={'fecha_ãltima_clase_funcional': 'fecha_ultima_clase_funcional'})\n",
        "df_usuarios = df_usuarios.rename(columns={'ãltima_clase_funcional': 'ultima_clase_funcional'})"
      ],
      "metadata": {
        "id": "og03JR9kw8K2"
      },
      "execution_count": 7,
      "outputs": []
    },
    {
      "cell_type": "code",
      "source": [
        "#Identificación de filas duplicadas\n",
        "df_usuarios.duplicated().sum()"
      ],
      "metadata": {
        "colab": {
          "base_uri": "https://localhost:8080/"
        },
        "id": "7W79ziZEy32_",
        "outputId": "3fc60df4-d1ca-4d81-f0e2-a738e1d37a2d"
      },
      "execution_count": 8,
      "outputs": [
        {
          "output_type": "execute_result",
          "data": {
            "text/plain": [
              "5012"
            ]
          },
          "metadata": {},
          "execution_count": 8
        }
      ]
    },
    {
      "cell_type": "code",
      "source": [
        "# Se eliminan las 5012 filas duplicadas\n",
        "df_usuarios = df_usuarios.drop_duplicates()"
      ],
      "metadata": {
        "id": "cY1LyZBLy4dF"
      },
      "execution_count": 9,
      "outputs": []
    },
    {
      "cell_type": "code",
      "source": [
        "#Identificación de pacientes diferentes\n",
        "\n",
        "print(\"El número de registros es:\", df_usuarios['nrodoc'].count())\n",
        "print(\"El número de pacientes distintos es:\", len(df_usuarios['nrodoc'].unique()))"
      ],
      "metadata": {
        "colab": {
          "base_uri": "https://localhost:8080/"
        },
        "id": "z7sScezfzAdj",
        "outputId": "44a58afd-9abd-45d4-ce12-2ba5a43000cd"
      },
      "execution_count": 10,
      "outputs": [
        {
          "output_type": "stream",
          "name": "stdout",
          "text": [
            "El número de registros es: 178899\n",
            "El número de pacientes distintos es: 8068\n"
          ]
        }
      ]
    },
    {
      "cell_type": "markdown",
      "source": [
        "**Identificación de nulos y eliminación de variables poco relevantes**"
      ],
      "metadata": {
        "id": "WxCb7KD60Bnv"
      }
    },
    {
      "cell_type": "code",
      "source": [
        "#Conteo de nulos de cada variable\n",
        "df_usuarios.isnull().sum()"
      ],
      "metadata": {
        "colab": {
          "base_uri": "https://localhost:8080/"
        },
        "id": "xfkIClcfz7Z2",
        "outputId": "ef8e36ab-e3c3-42a5-e4dd-213d4cff64ad"
      },
      "execution_count": 11,
      "outputs": [
        {
          "output_type": "execute_result",
          "data": {
            "text/plain": [
              "mes                                  0\n",
              "year                                 0\n",
              "nrodoc                               0\n",
              "sexo                                 7\n",
              "fecha_nacimiento                 72076\n",
              "edad                             29144\n",
              "departamento                     96615\n",
              "municipio                        97502\n",
              "barrio                           63555\n",
              "fecha_inicio_al_pgp              53241\n",
              "fecha_primera_clase_funcional    90938\n",
              "primera_clase_funcional          89258\n",
              "fecha_ultima_clase_funcional     90914\n",
              "ultima_clase_funcional           50790\n",
              "ciclo_vital                      29144\n",
              "quinquenio                       29144\n",
              "dtype: int64"
            ]
          },
          "metadata": {},
          "execution_count": 11
        }
      ]
    },
    {
      "cell_type": "markdown",
      "source": [
        "Se pueden borrar algunas columnas que resultan irrelevantes y/o redundantes en el caso de estudio como \"fecha_nacimiento\", \"fecha_primera_clase_funcional\", \"fecha_ultima_clase_funcional\" ya que hay una variable de edad y la fecha en que se realizaron las clases funcionales no aportan datos importantes.\n",
        "Finalmente se elimina la variable \"fecha_inicio_al_pgp\" debido a que la antiguedad no aporta datos importantes para determinar la permanencia del usuario al programa."
      ],
      "metadata": {
        "id": "tmoDXwtj2BGI"
      }
    },
    {
      "cell_type": "code",
      "source": [
        "#Se pueden borrar algunas columnas que resultan irrelevantes y se corrobora que se hizo bien el borrado\n",
        "df_usuarios = df_usuarios.drop(['fecha_nacimiento', 'fecha_primera_clase_funcional', 'fecha_ultima_clase_funcional', 'fecha_inicio_al_pgp'], axis=1)\n",
        "df_usuarios.head()"
      ],
      "metadata": {
        "colab": {
          "base_uri": "https://localhost:8080/",
          "height": 206
        },
        "id": "VGHi0nlk1CjF",
        "outputId": "b13b9dcd-c98d-4b14-f6af-a9d2e0b329a4"
      },
      "execution_count": 12,
      "outputs": [
        {
          "output_type": "execute_result",
          "data": {
            "text/plain": [
              "     mes  year  nrodoc sexo  edad departamento municipio barrio  \\\n",
              "0  ABRIL  2017  306221    F   NaN          NaN       NaN    NaN   \n",
              "1  ABRIL  2017  306222    F   NaN          NaN       NaN    NaN   \n",
              "2  ABRIL  2017  306223    F   NaN          NaN       NaN    NaN   \n",
              "3  ABRIL  2017  306224    F   NaN          NaN       NaN    NaN   \n",
              "4  ABRIL  2017  306225    M   NaN          NaN       NaN    NaN   \n",
              "\n",
              "  primera_clase_funcional ultima_clase_funcional ciclo_vital quinquenio  \n",
              "0                     NaN                    NaN         NaN        NaN  \n",
              "1                     NaN                    NaN         NaN        NaN  \n",
              "2                     NaN                    NaN         NaN        NaN  \n",
              "3                     NaN                    NaN         NaN        NaN  \n",
              "4                     NaN                    NaN         NaN        NaN  "
            ],
            "text/html": [
              "\n",
              "  <div id=\"df-6cb1d845-a933-4e20-baf4-2b81f9a92032\" class=\"colab-df-container\">\n",
              "    <div>\n",
              "<style scoped>\n",
              "    .dataframe tbody tr th:only-of-type {\n",
              "        vertical-align: middle;\n",
              "    }\n",
              "\n",
              "    .dataframe tbody tr th {\n",
              "        vertical-align: top;\n",
              "    }\n",
              "\n",
              "    .dataframe thead th {\n",
              "        text-align: right;\n",
              "    }\n",
              "</style>\n",
              "<table border=\"1\" class=\"dataframe\">\n",
              "  <thead>\n",
              "    <tr style=\"text-align: right;\">\n",
              "      <th></th>\n",
              "      <th>mes</th>\n",
              "      <th>year</th>\n",
              "      <th>nrodoc</th>\n",
              "      <th>sexo</th>\n",
              "      <th>edad</th>\n",
              "      <th>departamento</th>\n",
              "      <th>municipio</th>\n",
              "      <th>barrio</th>\n",
              "      <th>primera_clase_funcional</th>\n",
              "      <th>ultima_clase_funcional</th>\n",
              "      <th>ciclo_vital</th>\n",
              "      <th>quinquenio</th>\n",
              "    </tr>\n",
              "  </thead>\n",
              "  <tbody>\n",
              "    <tr>\n",
              "      <th>0</th>\n",
              "      <td>ABRIL</td>\n",
              "      <td>2017</td>\n",
              "      <td>306221</td>\n",
              "      <td>F</td>\n",
              "      <td>NaN</td>\n",
              "      <td>NaN</td>\n",
              "      <td>NaN</td>\n",
              "      <td>NaN</td>\n",
              "      <td>NaN</td>\n",
              "      <td>NaN</td>\n",
              "      <td>NaN</td>\n",
              "      <td>NaN</td>\n",
              "    </tr>\n",
              "    <tr>\n",
              "      <th>1</th>\n",
              "      <td>ABRIL</td>\n",
              "      <td>2017</td>\n",
              "      <td>306222</td>\n",
              "      <td>F</td>\n",
              "      <td>NaN</td>\n",
              "      <td>NaN</td>\n",
              "      <td>NaN</td>\n",
              "      <td>NaN</td>\n",
              "      <td>NaN</td>\n",
              "      <td>NaN</td>\n",
              "      <td>NaN</td>\n",
              "      <td>NaN</td>\n",
              "    </tr>\n",
              "    <tr>\n",
              "      <th>2</th>\n",
              "      <td>ABRIL</td>\n",
              "      <td>2017</td>\n",
              "      <td>306223</td>\n",
              "      <td>F</td>\n",
              "      <td>NaN</td>\n",
              "      <td>NaN</td>\n",
              "      <td>NaN</td>\n",
              "      <td>NaN</td>\n",
              "      <td>NaN</td>\n",
              "      <td>NaN</td>\n",
              "      <td>NaN</td>\n",
              "      <td>NaN</td>\n",
              "    </tr>\n",
              "    <tr>\n",
              "      <th>3</th>\n",
              "      <td>ABRIL</td>\n",
              "      <td>2017</td>\n",
              "      <td>306224</td>\n",
              "      <td>F</td>\n",
              "      <td>NaN</td>\n",
              "      <td>NaN</td>\n",
              "      <td>NaN</td>\n",
              "      <td>NaN</td>\n",
              "      <td>NaN</td>\n",
              "      <td>NaN</td>\n",
              "      <td>NaN</td>\n",
              "      <td>NaN</td>\n",
              "    </tr>\n",
              "    <tr>\n",
              "      <th>4</th>\n",
              "      <td>ABRIL</td>\n",
              "      <td>2017</td>\n",
              "      <td>306225</td>\n",
              "      <td>M</td>\n",
              "      <td>NaN</td>\n",
              "      <td>NaN</td>\n",
              "      <td>NaN</td>\n",
              "      <td>NaN</td>\n",
              "      <td>NaN</td>\n",
              "      <td>NaN</td>\n",
              "      <td>NaN</td>\n",
              "      <td>NaN</td>\n",
              "    </tr>\n",
              "  </tbody>\n",
              "</table>\n",
              "</div>\n",
              "    <div class=\"colab-df-buttons\">\n",
              "\n",
              "  <div class=\"colab-df-container\">\n",
              "    <button class=\"colab-df-convert\" onclick=\"convertToInteractive('df-6cb1d845-a933-4e20-baf4-2b81f9a92032')\"\n",
              "            title=\"Convert this dataframe to an interactive table.\"\n",
              "            style=\"display:none;\">\n",
              "\n",
              "  <svg xmlns=\"http://www.w3.org/2000/svg\" height=\"24px\" viewBox=\"0 -960 960 960\">\n",
              "    <path d=\"M120-120v-720h720v720H120Zm60-500h600v-160H180v160Zm220 220h160v-160H400v160Zm0 220h160v-160H400v160ZM180-400h160v-160H180v160Zm440 0h160v-160H620v160ZM180-180h160v-160H180v160Zm440 0h160v-160H620v160Z\"/>\n",
              "  </svg>\n",
              "    </button>\n",
              "\n",
              "  <style>\n",
              "    .colab-df-container {\n",
              "      display:flex;\n",
              "      gap: 12px;\n",
              "    }\n",
              "\n",
              "    .colab-df-convert {\n",
              "      background-color: #E8F0FE;\n",
              "      border: none;\n",
              "      border-radius: 50%;\n",
              "      cursor: pointer;\n",
              "      display: none;\n",
              "      fill: #1967D2;\n",
              "      height: 32px;\n",
              "      padding: 0 0 0 0;\n",
              "      width: 32px;\n",
              "    }\n",
              "\n",
              "    .colab-df-convert:hover {\n",
              "      background-color: #E2EBFA;\n",
              "      box-shadow: 0px 1px 2px rgba(60, 64, 67, 0.3), 0px 1px 3px 1px rgba(60, 64, 67, 0.15);\n",
              "      fill: #174EA6;\n",
              "    }\n",
              "\n",
              "    .colab-df-buttons div {\n",
              "      margin-bottom: 4px;\n",
              "    }\n",
              "\n",
              "    [theme=dark] .colab-df-convert {\n",
              "      background-color: #3B4455;\n",
              "      fill: #D2E3FC;\n",
              "    }\n",
              "\n",
              "    [theme=dark] .colab-df-convert:hover {\n",
              "      background-color: #434B5C;\n",
              "      box-shadow: 0px 1px 3px 1px rgba(0, 0, 0, 0.15);\n",
              "      filter: drop-shadow(0px 1px 2px rgba(0, 0, 0, 0.3));\n",
              "      fill: #FFFFFF;\n",
              "    }\n",
              "  </style>\n",
              "\n",
              "    <script>\n",
              "      const buttonEl =\n",
              "        document.querySelector('#df-6cb1d845-a933-4e20-baf4-2b81f9a92032 button.colab-df-convert');\n",
              "      buttonEl.style.display =\n",
              "        google.colab.kernel.accessAllowed ? 'block' : 'none';\n",
              "\n",
              "      async function convertToInteractive(key) {\n",
              "        const element = document.querySelector('#df-6cb1d845-a933-4e20-baf4-2b81f9a92032');\n",
              "        const dataTable =\n",
              "          await google.colab.kernel.invokeFunction('convertToInteractive',\n",
              "                                                    [key], {});\n",
              "        if (!dataTable) return;\n",
              "\n",
              "        const docLinkHtml = 'Like what you see? Visit the ' +\n",
              "          '<a target=\"_blank\" href=https://colab.research.google.com/notebooks/data_table.ipynb>data table notebook</a>'\n",
              "          + ' to learn more about interactive tables.';\n",
              "        element.innerHTML = '';\n",
              "        dataTable['output_type'] = 'display_data';\n",
              "        await google.colab.output.renderOutput(dataTable, element);\n",
              "        const docLink = document.createElement('div');\n",
              "        docLink.innerHTML = docLinkHtml;\n",
              "        element.appendChild(docLink);\n",
              "      }\n",
              "    </script>\n",
              "  </div>\n",
              "\n",
              "\n",
              "<div id=\"df-0df01276-2281-47d4-b299-cc469c3462f1\">\n",
              "  <button class=\"colab-df-quickchart\" onclick=\"quickchart('df-0df01276-2281-47d4-b299-cc469c3462f1')\"\n",
              "            title=\"Suggest charts\"\n",
              "            style=\"display:none;\">\n",
              "\n",
              "<svg xmlns=\"http://www.w3.org/2000/svg\" height=\"24px\"viewBox=\"0 0 24 24\"\n",
              "     width=\"24px\">\n",
              "    <g>\n",
              "        <path d=\"M19 3H5c-1.1 0-2 .9-2 2v14c0 1.1.9 2 2 2h14c1.1 0 2-.9 2-2V5c0-1.1-.9-2-2-2zM9 17H7v-7h2v7zm4 0h-2V7h2v10zm4 0h-2v-4h2v4z\"/>\n",
              "    </g>\n",
              "</svg>\n",
              "  </button>\n",
              "\n",
              "<style>\n",
              "  .colab-df-quickchart {\n",
              "      --bg-color: #E8F0FE;\n",
              "      --fill-color: #1967D2;\n",
              "      --hover-bg-color: #E2EBFA;\n",
              "      --hover-fill-color: #174EA6;\n",
              "      --disabled-fill-color: #AAA;\n",
              "      --disabled-bg-color: #DDD;\n",
              "  }\n",
              "\n",
              "  [theme=dark] .colab-df-quickchart {\n",
              "      --bg-color: #3B4455;\n",
              "      --fill-color: #D2E3FC;\n",
              "      --hover-bg-color: #434B5C;\n",
              "      --hover-fill-color: #FFFFFF;\n",
              "      --disabled-bg-color: #3B4455;\n",
              "      --disabled-fill-color: #666;\n",
              "  }\n",
              "\n",
              "  .colab-df-quickchart {\n",
              "    background-color: var(--bg-color);\n",
              "    border: none;\n",
              "    border-radius: 50%;\n",
              "    cursor: pointer;\n",
              "    display: none;\n",
              "    fill: var(--fill-color);\n",
              "    height: 32px;\n",
              "    padding: 0;\n",
              "    width: 32px;\n",
              "  }\n",
              "\n",
              "  .colab-df-quickchart:hover {\n",
              "    background-color: var(--hover-bg-color);\n",
              "    box-shadow: 0 1px 2px rgba(60, 64, 67, 0.3), 0 1px 3px 1px rgba(60, 64, 67, 0.15);\n",
              "    fill: var(--button-hover-fill-color);\n",
              "  }\n",
              "\n",
              "  .colab-df-quickchart-complete:disabled,\n",
              "  .colab-df-quickchart-complete:disabled:hover {\n",
              "    background-color: var(--disabled-bg-color);\n",
              "    fill: var(--disabled-fill-color);\n",
              "    box-shadow: none;\n",
              "  }\n",
              "\n",
              "  .colab-df-spinner {\n",
              "    border: 2px solid var(--fill-color);\n",
              "    border-color: transparent;\n",
              "    border-bottom-color: var(--fill-color);\n",
              "    animation:\n",
              "      spin 1s steps(1) infinite;\n",
              "  }\n",
              "\n",
              "  @keyframes spin {\n",
              "    0% {\n",
              "      border-color: transparent;\n",
              "      border-bottom-color: var(--fill-color);\n",
              "      border-left-color: var(--fill-color);\n",
              "    }\n",
              "    20% {\n",
              "      border-color: transparent;\n",
              "      border-left-color: var(--fill-color);\n",
              "      border-top-color: var(--fill-color);\n",
              "    }\n",
              "    30% {\n",
              "      border-color: transparent;\n",
              "      border-left-color: var(--fill-color);\n",
              "      border-top-color: var(--fill-color);\n",
              "      border-right-color: var(--fill-color);\n",
              "    }\n",
              "    40% {\n",
              "      border-color: transparent;\n",
              "      border-right-color: var(--fill-color);\n",
              "      border-top-color: var(--fill-color);\n",
              "    }\n",
              "    60% {\n",
              "      border-color: transparent;\n",
              "      border-right-color: var(--fill-color);\n",
              "    }\n",
              "    80% {\n",
              "      border-color: transparent;\n",
              "      border-right-color: var(--fill-color);\n",
              "      border-bottom-color: var(--fill-color);\n",
              "    }\n",
              "    90% {\n",
              "      border-color: transparent;\n",
              "      border-bottom-color: var(--fill-color);\n",
              "    }\n",
              "  }\n",
              "</style>\n",
              "\n",
              "  <script>\n",
              "    async function quickchart(key) {\n",
              "      const quickchartButtonEl =\n",
              "        document.querySelector('#' + key + ' button');\n",
              "      quickchartButtonEl.disabled = true;  // To prevent multiple clicks.\n",
              "      quickchartButtonEl.classList.add('colab-df-spinner');\n",
              "      try {\n",
              "        const charts = await google.colab.kernel.invokeFunction(\n",
              "            'suggestCharts', [key], {});\n",
              "      } catch (error) {\n",
              "        console.error('Error during call to suggestCharts:', error);\n",
              "      }\n",
              "      quickchartButtonEl.classList.remove('colab-df-spinner');\n",
              "      quickchartButtonEl.classList.add('colab-df-quickchart-complete');\n",
              "    }\n",
              "    (() => {\n",
              "      let quickchartButtonEl =\n",
              "        document.querySelector('#df-0df01276-2281-47d4-b299-cc469c3462f1 button');\n",
              "      quickchartButtonEl.style.display =\n",
              "        google.colab.kernel.accessAllowed ? 'block' : 'none';\n",
              "    })();\n",
              "  </script>\n",
              "</div>\n",
              "    </div>\n",
              "  </div>\n"
            ],
            "application/vnd.google.colaboratory.intrinsic+json": {
              "type": "dataframe",
              "variable_name": "df_usuarios"
            }
          },
          "metadata": {},
          "execution_count": 12
        }
      ]
    },
    {
      "cell_type": "code",
      "source": [
        "#Se consulta si hay diferentes departamentos\n",
        "df_usuarios[\"departamento\"].value_counts()"
      ],
      "metadata": {
        "colab": {
          "base_uri": "https://localhost:8080/"
        },
        "id": "VPQxZOkl60Zm",
        "outputId": "67a4a949-a50e-44c2-b174-37eeb9084f15"
      },
      "execution_count": 13,
      "outputs": [
        {
          "output_type": "execute_result",
          "data": {
            "text/plain": [
              "departamento\n",
              "ANTIOQUIA    82284\n",
              "Name: count, dtype: int64"
            ]
          },
          "metadata": {},
          "execution_count": 13
        }
      ]
    },
    {
      "cell_type": "code",
      "source": [
        "#se consulta el contenido de algunas variables por medio de una variable con la terminación \"view\"\n",
        "#ya que sólo se va a utilizar en esta línea de código\n",
        "df_usuarios_view = df_usuarios[[\"departamento\", \"municipio\", \"barrio\"]]\n",
        "df_usuarios_view.value_counts().head(30)"
      ],
      "metadata": {
        "colab": {
          "base_uri": "https://localhost:8080/"
        },
        "id": "vfMoM_-05tKL",
        "outputId": "8e736a33-5976-4c58-8968-08f835182136"
      },
      "execution_count": 14,
      "outputs": [
        {
          "output_type": "execute_result",
          "data": {
            "text/plain": [
              "departamento  municipio             barrio              \n",
              "ANTIOQUIA     MEDELLIN              MANRIQUE                2606\n",
              "                                    ARANJUEZ                1876\n",
              "                                    CASTILLA                1655\n",
              "                                    BUENOS AIRES            1361\n",
              "                                    CAMPO VALDES            1274\n",
              "              BELLO                 NIQUIA                  1083\n",
              "                                    BELLO                   1074\n",
              "              MEDELLIN              SAN JAVIER              1061\n",
              "                                    12 DE OCTUBRE           1045\n",
              "                                    BELEN                   1015\n",
              "                                    ROBLEDO                  951\n",
              "                                    VILLA HERMOSA            862\n",
              "              ITAGUI                ITAGUI                   844\n",
              "              SAN ANTONIO DE PRADO  SAN ANTONIO DE PRADO     818\n",
              "              MEDELLIN              SANTA CRUZ               789\n",
              "              ENVIGADO              ENVIGADO                 770\n",
              "              MEDELLIN              LA MILAGROSA             753\n",
              "                                    LA FLORESTA              571\n",
              "                                    CAICEDO                  537\n",
              "                                    PRADO CENTRO             525\n",
              "                                    GUAYABAL                 501\n",
              "                                    BOSTON                   480\n",
              "                                    PEDREGAL                 475\n",
              "                                    ENCISO                   468\n",
              "                                    LA AMERICA               441\n",
              "              SABANETA              SABANETA                 396\n",
              "              ITAGUI                ITAGUI SANTA MARÃA      394\n",
              "              MEDELLIN              LAURELES                 365\n",
              "                                    ANDALUCIA LA FRANCIA     352\n",
              "              BELLO                 PARIS                    346\n",
              "Name: count, dtype: int64"
            ]
          },
          "metadata": {},
          "execution_count": 14
        }
      ]
    },
    {
      "cell_type": "markdown",
      "source": [
        "El único departamento en el DF es Antioquia junto a sus respectivos municipios y barrios, por lo que se procede a borrar estas 3 variables ya que la geografía no es una variable importante dentro del caso de estudio."
      ],
      "metadata": {
        "id": "sB5nIegy6uww"
      }
    },
    {
      "cell_type": "code",
      "source": [
        "#Se borran las variables y se corrobora que se hizo el cambio correctamente\n",
        "df_usuarios = df_usuarios.drop([\"departamento\", \"municipio\", \"barrio\"], axis=1)\n",
        "df_usuarios.head(10)"
      ],
      "metadata": {
        "colab": {
          "base_uri": "https://localhost:8080/",
          "height": 363
        },
        "id": "AXaLGB516t_w",
        "outputId": "8ab6f9fd-cd27-4220-972d-b1af46d0b5ae"
      },
      "execution_count": 15,
      "outputs": [
        {
          "output_type": "execute_result",
          "data": {
            "text/plain": [
              "     mes  year  nrodoc sexo  edad primera_clase_funcional  \\\n",
              "0  ABRIL  2017  306221    F   NaN                     NaN   \n",
              "1  ABRIL  2017  306222    F   NaN                     NaN   \n",
              "2  ABRIL  2017  306223    F   NaN                     NaN   \n",
              "3  ABRIL  2017  306224    F   NaN                     NaN   \n",
              "4  ABRIL  2017  306225    M   NaN                     NaN   \n",
              "5  ABRIL  2017  306226    M   NaN                     NaN   \n",
              "6  ABRIL  2017  306227    F   NaN                     NaN   \n",
              "7  ABRIL  2017  306228    M   NaN                     NaN   \n",
              "8  ABRIL  2017  306229    F   NaN                     NaN   \n",
              "9  ABRIL  2017  306230    F   NaN                     NaN   \n",
              "\n",
              "  ultima_clase_funcional ciclo_vital quinquenio  \n",
              "0                    NaN         NaN        NaN  \n",
              "1                    NaN         NaN        NaN  \n",
              "2                    NaN         NaN        NaN  \n",
              "3                    NaN         NaN        NaN  \n",
              "4                    NaN         NaN        NaN  \n",
              "5                    NaN         NaN        NaN  \n",
              "6                    NaN         NaN        NaN  \n",
              "7                    NaN         NaN        NaN  \n",
              "8                    NaN         NaN        NaN  \n",
              "9                    NaN         NaN        NaN  "
            ],
            "text/html": [
              "\n",
              "  <div id=\"df-21a14ad4-19c5-41d4-b23c-f6152e3471c9\" class=\"colab-df-container\">\n",
              "    <div>\n",
              "<style scoped>\n",
              "    .dataframe tbody tr th:only-of-type {\n",
              "        vertical-align: middle;\n",
              "    }\n",
              "\n",
              "    .dataframe tbody tr th {\n",
              "        vertical-align: top;\n",
              "    }\n",
              "\n",
              "    .dataframe thead th {\n",
              "        text-align: right;\n",
              "    }\n",
              "</style>\n",
              "<table border=\"1\" class=\"dataframe\">\n",
              "  <thead>\n",
              "    <tr style=\"text-align: right;\">\n",
              "      <th></th>\n",
              "      <th>mes</th>\n",
              "      <th>year</th>\n",
              "      <th>nrodoc</th>\n",
              "      <th>sexo</th>\n",
              "      <th>edad</th>\n",
              "      <th>primera_clase_funcional</th>\n",
              "      <th>ultima_clase_funcional</th>\n",
              "      <th>ciclo_vital</th>\n",
              "      <th>quinquenio</th>\n",
              "    </tr>\n",
              "  </thead>\n",
              "  <tbody>\n",
              "    <tr>\n",
              "      <th>0</th>\n",
              "      <td>ABRIL</td>\n",
              "      <td>2017</td>\n",
              "      <td>306221</td>\n",
              "      <td>F</td>\n",
              "      <td>NaN</td>\n",
              "      <td>NaN</td>\n",
              "      <td>NaN</td>\n",
              "      <td>NaN</td>\n",
              "      <td>NaN</td>\n",
              "    </tr>\n",
              "    <tr>\n",
              "      <th>1</th>\n",
              "      <td>ABRIL</td>\n",
              "      <td>2017</td>\n",
              "      <td>306222</td>\n",
              "      <td>F</td>\n",
              "      <td>NaN</td>\n",
              "      <td>NaN</td>\n",
              "      <td>NaN</td>\n",
              "      <td>NaN</td>\n",
              "      <td>NaN</td>\n",
              "    </tr>\n",
              "    <tr>\n",
              "      <th>2</th>\n",
              "      <td>ABRIL</td>\n",
              "      <td>2017</td>\n",
              "      <td>306223</td>\n",
              "      <td>F</td>\n",
              "      <td>NaN</td>\n",
              "      <td>NaN</td>\n",
              "      <td>NaN</td>\n",
              "      <td>NaN</td>\n",
              "      <td>NaN</td>\n",
              "    </tr>\n",
              "    <tr>\n",
              "      <th>3</th>\n",
              "      <td>ABRIL</td>\n",
              "      <td>2017</td>\n",
              "      <td>306224</td>\n",
              "      <td>F</td>\n",
              "      <td>NaN</td>\n",
              "      <td>NaN</td>\n",
              "      <td>NaN</td>\n",
              "      <td>NaN</td>\n",
              "      <td>NaN</td>\n",
              "    </tr>\n",
              "    <tr>\n",
              "      <th>4</th>\n",
              "      <td>ABRIL</td>\n",
              "      <td>2017</td>\n",
              "      <td>306225</td>\n",
              "      <td>M</td>\n",
              "      <td>NaN</td>\n",
              "      <td>NaN</td>\n",
              "      <td>NaN</td>\n",
              "      <td>NaN</td>\n",
              "      <td>NaN</td>\n",
              "    </tr>\n",
              "    <tr>\n",
              "      <th>5</th>\n",
              "      <td>ABRIL</td>\n",
              "      <td>2017</td>\n",
              "      <td>306226</td>\n",
              "      <td>M</td>\n",
              "      <td>NaN</td>\n",
              "      <td>NaN</td>\n",
              "      <td>NaN</td>\n",
              "      <td>NaN</td>\n",
              "      <td>NaN</td>\n",
              "    </tr>\n",
              "    <tr>\n",
              "      <th>6</th>\n",
              "      <td>ABRIL</td>\n",
              "      <td>2017</td>\n",
              "      <td>306227</td>\n",
              "      <td>F</td>\n",
              "      <td>NaN</td>\n",
              "      <td>NaN</td>\n",
              "      <td>NaN</td>\n",
              "      <td>NaN</td>\n",
              "      <td>NaN</td>\n",
              "    </tr>\n",
              "    <tr>\n",
              "      <th>7</th>\n",
              "      <td>ABRIL</td>\n",
              "      <td>2017</td>\n",
              "      <td>306228</td>\n",
              "      <td>M</td>\n",
              "      <td>NaN</td>\n",
              "      <td>NaN</td>\n",
              "      <td>NaN</td>\n",
              "      <td>NaN</td>\n",
              "      <td>NaN</td>\n",
              "    </tr>\n",
              "    <tr>\n",
              "      <th>8</th>\n",
              "      <td>ABRIL</td>\n",
              "      <td>2017</td>\n",
              "      <td>306229</td>\n",
              "      <td>F</td>\n",
              "      <td>NaN</td>\n",
              "      <td>NaN</td>\n",
              "      <td>NaN</td>\n",
              "      <td>NaN</td>\n",
              "      <td>NaN</td>\n",
              "    </tr>\n",
              "    <tr>\n",
              "      <th>9</th>\n",
              "      <td>ABRIL</td>\n",
              "      <td>2017</td>\n",
              "      <td>306230</td>\n",
              "      <td>F</td>\n",
              "      <td>NaN</td>\n",
              "      <td>NaN</td>\n",
              "      <td>NaN</td>\n",
              "      <td>NaN</td>\n",
              "      <td>NaN</td>\n",
              "    </tr>\n",
              "  </tbody>\n",
              "</table>\n",
              "</div>\n",
              "    <div class=\"colab-df-buttons\">\n",
              "\n",
              "  <div class=\"colab-df-container\">\n",
              "    <button class=\"colab-df-convert\" onclick=\"convertToInteractive('df-21a14ad4-19c5-41d4-b23c-f6152e3471c9')\"\n",
              "            title=\"Convert this dataframe to an interactive table.\"\n",
              "            style=\"display:none;\">\n",
              "\n",
              "  <svg xmlns=\"http://www.w3.org/2000/svg\" height=\"24px\" viewBox=\"0 -960 960 960\">\n",
              "    <path d=\"M120-120v-720h720v720H120Zm60-500h600v-160H180v160Zm220 220h160v-160H400v160Zm0 220h160v-160H400v160ZM180-400h160v-160H180v160Zm440 0h160v-160H620v160ZM180-180h160v-160H180v160Zm440 0h160v-160H620v160Z\"/>\n",
              "  </svg>\n",
              "    </button>\n",
              "\n",
              "  <style>\n",
              "    .colab-df-container {\n",
              "      display:flex;\n",
              "      gap: 12px;\n",
              "    }\n",
              "\n",
              "    .colab-df-convert {\n",
              "      background-color: #E8F0FE;\n",
              "      border: none;\n",
              "      border-radius: 50%;\n",
              "      cursor: pointer;\n",
              "      display: none;\n",
              "      fill: #1967D2;\n",
              "      height: 32px;\n",
              "      padding: 0 0 0 0;\n",
              "      width: 32px;\n",
              "    }\n",
              "\n",
              "    .colab-df-convert:hover {\n",
              "      background-color: #E2EBFA;\n",
              "      box-shadow: 0px 1px 2px rgba(60, 64, 67, 0.3), 0px 1px 3px 1px rgba(60, 64, 67, 0.15);\n",
              "      fill: #174EA6;\n",
              "    }\n",
              "\n",
              "    .colab-df-buttons div {\n",
              "      margin-bottom: 4px;\n",
              "    }\n",
              "\n",
              "    [theme=dark] .colab-df-convert {\n",
              "      background-color: #3B4455;\n",
              "      fill: #D2E3FC;\n",
              "    }\n",
              "\n",
              "    [theme=dark] .colab-df-convert:hover {\n",
              "      background-color: #434B5C;\n",
              "      box-shadow: 0px 1px 3px 1px rgba(0, 0, 0, 0.15);\n",
              "      filter: drop-shadow(0px 1px 2px rgba(0, 0, 0, 0.3));\n",
              "      fill: #FFFFFF;\n",
              "    }\n",
              "  </style>\n",
              "\n",
              "    <script>\n",
              "      const buttonEl =\n",
              "        document.querySelector('#df-21a14ad4-19c5-41d4-b23c-f6152e3471c9 button.colab-df-convert');\n",
              "      buttonEl.style.display =\n",
              "        google.colab.kernel.accessAllowed ? 'block' : 'none';\n",
              "\n",
              "      async function convertToInteractive(key) {\n",
              "        const element = document.querySelector('#df-21a14ad4-19c5-41d4-b23c-f6152e3471c9');\n",
              "        const dataTable =\n",
              "          await google.colab.kernel.invokeFunction('convertToInteractive',\n",
              "                                                    [key], {});\n",
              "        if (!dataTable) return;\n",
              "\n",
              "        const docLinkHtml = 'Like what you see? Visit the ' +\n",
              "          '<a target=\"_blank\" href=https://colab.research.google.com/notebooks/data_table.ipynb>data table notebook</a>'\n",
              "          + ' to learn more about interactive tables.';\n",
              "        element.innerHTML = '';\n",
              "        dataTable['output_type'] = 'display_data';\n",
              "        await google.colab.output.renderOutput(dataTable, element);\n",
              "        const docLink = document.createElement('div');\n",
              "        docLink.innerHTML = docLinkHtml;\n",
              "        element.appendChild(docLink);\n",
              "      }\n",
              "    </script>\n",
              "  </div>\n",
              "\n",
              "\n",
              "<div id=\"df-fd0d31dd-2871-4ece-90cf-96726662e09f\">\n",
              "  <button class=\"colab-df-quickchart\" onclick=\"quickchart('df-fd0d31dd-2871-4ece-90cf-96726662e09f')\"\n",
              "            title=\"Suggest charts\"\n",
              "            style=\"display:none;\">\n",
              "\n",
              "<svg xmlns=\"http://www.w3.org/2000/svg\" height=\"24px\"viewBox=\"0 0 24 24\"\n",
              "     width=\"24px\">\n",
              "    <g>\n",
              "        <path d=\"M19 3H5c-1.1 0-2 .9-2 2v14c0 1.1.9 2 2 2h14c1.1 0 2-.9 2-2V5c0-1.1-.9-2-2-2zM9 17H7v-7h2v7zm4 0h-2V7h2v10zm4 0h-2v-4h2v4z\"/>\n",
              "    </g>\n",
              "</svg>\n",
              "  </button>\n",
              "\n",
              "<style>\n",
              "  .colab-df-quickchart {\n",
              "      --bg-color: #E8F0FE;\n",
              "      --fill-color: #1967D2;\n",
              "      --hover-bg-color: #E2EBFA;\n",
              "      --hover-fill-color: #174EA6;\n",
              "      --disabled-fill-color: #AAA;\n",
              "      --disabled-bg-color: #DDD;\n",
              "  }\n",
              "\n",
              "  [theme=dark] .colab-df-quickchart {\n",
              "      --bg-color: #3B4455;\n",
              "      --fill-color: #D2E3FC;\n",
              "      --hover-bg-color: #434B5C;\n",
              "      --hover-fill-color: #FFFFFF;\n",
              "      --disabled-bg-color: #3B4455;\n",
              "      --disabled-fill-color: #666;\n",
              "  }\n",
              "\n",
              "  .colab-df-quickchart {\n",
              "    background-color: var(--bg-color);\n",
              "    border: none;\n",
              "    border-radius: 50%;\n",
              "    cursor: pointer;\n",
              "    display: none;\n",
              "    fill: var(--fill-color);\n",
              "    height: 32px;\n",
              "    padding: 0;\n",
              "    width: 32px;\n",
              "  }\n",
              "\n",
              "  .colab-df-quickchart:hover {\n",
              "    background-color: var(--hover-bg-color);\n",
              "    box-shadow: 0 1px 2px rgba(60, 64, 67, 0.3), 0 1px 3px 1px rgba(60, 64, 67, 0.15);\n",
              "    fill: var(--button-hover-fill-color);\n",
              "  }\n",
              "\n",
              "  .colab-df-quickchart-complete:disabled,\n",
              "  .colab-df-quickchart-complete:disabled:hover {\n",
              "    background-color: var(--disabled-bg-color);\n",
              "    fill: var(--disabled-fill-color);\n",
              "    box-shadow: none;\n",
              "  }\n",
              "\n",
              "  .colab-df-spinner {\n",
              "    border: 2px solid var(--fill-color);\n",
              "    border-color: transparent;\n",
              "    border-bottom-color: var(--fill-color);\n",
              "    animation:\n",
              "      spin 1s steps(1) infinite;\n",
              "  }\n",
              "\n",
              "  @keyframes spin {\n",
              "    0% {\n",
              "      border-color: transparent;\n",
              "      border-bottom-color: var(--fill-color);\n",
              "      border-left-color: var(--fill-color);\n",
              "    }\n",
              "    20% {\n",
              "      border-color: transparent;\n",
              "      border-left-color: var(--fill-color);\n",
              "      border-top-color: var(--fill-color);\n",
              "    }\n",
              "    30% {\n",
              "      border-color: transparent;\n",
              "      border-left-color: var(--fill-color);\n",
              "      border-top-color: var(--fill-color);\n",
              "      border-right-color: var(--fill-color);\n",
              "    }\n",
              "    40% {\n",
              "      border-color: transparent;\n",
              "      border-right-color: var(--fill-color);\n",
              "      border-top-color: var(--fill-color);\n",
              "    }\n",
              "    60% {\n",
              "      border-color: transparent;\n",
              "      border-right-color: var(--fill-color);\n",
              "    }\n",
              "    80% {\n",
              "      border-color: transparent;\n",
              "      border-right-color: var(--fill-color);\n",
              "      border-bottom-color: var(--fill-color);\n",
              "    }\n",
              "    90% {\n",
              "      border-color: transparent;\n",
              "      border-bottom-color: var(--fill-color);\n",
              "    }\n",
              "  }\n",
              "</style>\n",
              "\n",
              "  <script>\n",
              "    async function quickchart(key) {\n",
              "      const quickchartButtonEl =\n",
              "        document.querySelector('#' + key + ' button');\n",
              "      quickchartButtonEl.disabled = true;  // To prevent multiple clicks.\n",
              "      quickchartButtonEl.classList.add('colab-df-spinner');\n",
              "      try {\n",
              "        const charts = await google.colab.kernel.invokeFunction(\n",
              "            'suggestCharts', [key], {});\n",
              "      } catch (error) {\n",
              "        console.error('Error during call to suggestCharts:', error);\n",
              "      }\n",
              "      quickchartButtonEl.classList.remove('colab-df-spinner');\n",
              "      quickchartButtonEl.classList.add('colab-df-quickchart-complete');\n",
              "    }\n",
              "    (() => {\n",
              "      let quickchartButtonEl =\n",
              "        document.querySelector('#df-fd0d31dd-2871-4ece-90cf-96726662e09f button');\n",
              "      quickchartButtonEl.style.display =\n",
              "        google.colab.kernel.accessAllowed ? 'block' : 'none';\n",
              "    })();\n",
              "  </script>\n",
              "</div>\n",
              "    </div>\n",
              "  </div>\n"
            ],
            "application/vnd.google.colaboratory.intrinsic+json": {
              "type": "dataframe",
              "variable_name": "df_usuarios"
            }
          },
          "metadata": {},
          "execution_count": 15
        }
      ]
    },
    {
      "cell_type": "markdown",
      "source": [
        "**Identificación de registros mal escritos o atípicos**"
      ],
      "metadata": {
        "id": "NR0dLR7a-pq8"
      }
    },
    {
      "cell_type": "code",
      "source": [
        "#Se consulta si los meses están bien escritos\n",
        "df_usuarios[\"mes\"].value_counts()"
      ],
      "metadata": {
        "colab": {
          "base_uri": "https://localhost:8080/"
        },
        "id": "-0ZnAzfs8Mdz",
        "outputId": "234c743c-eb8d-4f65-d3d2-6763af67d084"
      },
      "execution_count": 16,
      "outputs": [
        {
          "output_type": "execute_result",
          "data": {
            "text/plain": [
              "mes\n",
              "JUNIO         18679\n",
              "MAYO          18649\n",
              "ENERO         14308\n",
              "OCTUBRE       14294\n",
              "DICIEMBRE     14293\n",
              "SEPTIEMBRE    14182\n",
              "FEBRERO       14158\n",
              "JULIO         14102\n",
              "AGOSTO        14077\n",
              "NOVIEMBRE     14063\n",
              "MARZO         14057\n",
              "ABRIL         14037\n",
              "Name: count, dtype: int64"
            ]
          },
          "metadata": {},
          "execution_count": 16
        }
      ]
    },
    {
      "cell_type": "code",
      "source": [
        "#Se cambian a minúsculas y se corrobora el cambio\n",
        "df_usuarios['mes'] = df_usuarios['mes'].str.lower()\n",
        "df_usuarios['mes'].value_counts()"
      ],
      "metadata": {
        "colab": {
          "base_uri": "https://localhost:8080/"
        },
        "id": "I-k4QsGZ_G3C",
        "outputId": "3d80e313-5506-44fe-cb47-501ece29b493"
      },
      "execution_count": 17,
      "outputs": [
        {
          "output_type": "execute_result",
          "data": {
            "text/plain": [
              "mes\n",
              "junio         18679\n",
              "mayo          18649\n",
              "enero         14308\n",
              "octubre       14294\n",
              "diciembre     14293\n",
              "septiembre    14182\n",
              "febrero       14158\n",
              "julio         14102\n",
              "agosto        14077\n",
              "noviembre     14063\n",
              "marzo         14057\n",
              "abril         14037\n",
              "Name: count, dtype: int64"
            ]
          },
          "metadata": {},
          "execution_count": 17
        }
      ]
    },
    {
      "cell_type": "code",
      "source": [
        "#Se consulta si los años están bien escritos\n",
        "df_usuarios['year'].value_counts()"
      ],
      "metadata": {
        "colab": {
          "base_uri": "https://localhost:8080/"
        },
        "id": "w5masxij_cxE",
        "outputId": "4d2307cc-493a-4b52-eb57-495bbff80d39"
      },
      "execution_count": 18,
      "outputs": [
        {
          "output_type": "execute_result",
          "data": {
            "text/plain": [
              "year\n",
              "2021    55229\n",
              "2018    52915\n",
              "2017    43563\n",
              "2022    27192\n",
              "Name: count, dtype: int64"
            ]
          },
          "metadata": {},
          "execution_count": 18
        }
      ]
    },
    {
      "cell_type": "markdown",
      "source": [
        "Se puede notar que no hay una continuidad en la serie de tiempo de los años ya que faltan los años 2019 y 2020. Puede ser por errores de digitación o porque efectivamente falta una parte del DF. En el porterior análisis exploratorio se decidirá si se sigue trabajando con estos datos o se van a depurar."
      ],
      "metadata": {
        "id": "JrN3xGye_wJM"
      }
    },
    {
      "cell_type": "code",
      "source": [
        "#Se consulta si los sexos están bien escritos\n",
        "df_usuarios['sexo'].value_counts()"
      ],
      "metadata": {
        "colab": {
          "base_uri": "https://localhost:8080/"
        },
        "id": "qHOLmyzmAKjY",
        "outputId": "9919b006-4be2-4b3c-d57b-1197e0bc4356"
      },
      "execution_count": 19,
      "outputs": [
        {
          "output_type": "execute_result",
          "data": {
            "text/plain": [
              "sexo\n",
              "F                                       112220\n",
              "M                                        66658\n",
              "CARRERA 51 B 1 33                            1\n",
              "CL 48  95 55                                 1\n",
              "CR 49 46 14                                  1\n",
              "CRR 47 N  41 32                              1\n",
              "CALLE 80 A 71 A 18                           1\n",
              "CL 94  74B  16                               1\n",
              "CALLE 77E   8830                             1\n",
              "KR 55A 47 16  BR SANTA ANA                   1\n",
              "KR 92 NRO 46 97                              1\n",
              "CL 55 80 54                                  1\n",
              "CALLE 38 SUR N  29 A 54 PISO 2               1\n",
              "CR 75A   88A   27 BRR ROBLEDO KENEDY         1\n",
              "CL  40 C  SUR   29 C  31LA FLORIDA           1\n",
              "CL 31 NRO 44 159                             1\n",
              "Name: count, dtype: int64"
            ]
          },
          "metadata": {},
          "execution_count": 19
        }
      ]
    },
    {
      "cell_type": "code",
      "source": [
        "#Al tener errores en la toma de los datos se procede a sólo tomar en cuenta los registros \"F\" y \"M\"\n",
        "\n",
        "#Se crea una lista de valores a mantener\n",
        "genero = ['F', 'M']\n",
        "\n",
        "#Se iltran las filas donde 'SEXO' esté en la lista de valores a mantener y se corrobora el cambio\n",
        "df_usuarios = df_usuarios[df_usuarios['sexo'].isin(genero)]\n",
        "df_usuarios['sexo'].value_counts()"
      ],
      "metadata": {
        "colab": {
          "base_uri": "https://localhost:8080/"
        },
        "id": "oHBYsVgnAgtI",
        "outputId": "b60b329d-1864-4042-a935-20f9340ef10e"
      },
      "execution_count": 20,
      "outputs": [
        {
          "output_type": "execute_result",
          "data": {
            "text/plain": [
              "sexo\n",
              "F    112220\n",
              "M     66658\n",
              "Name: count, dtype: int64"
            ]
          },
          "metadata": {},
          "execution_count": 20
        }
      ]
    },
    {
      "cell_type": "code",
      "source": [
        "#Se consultan las clases funcionales\n",
        "df_usuarios['primera_clase_funcional'].value_counts()"
      ],
      "metadata": {
        "colab": {
          "base_uri": "https://localhost:8080/"
        },
        "id": "6qFqRGIVA_Oc",
        "outputId": "ef5fd9f8-143d-42e1-e55e-49f010a9e8ee"
      },
      "execution_count": 21,
      "outputs": [
        {
          "output_type": "execute_result",
          "data": {
            "text/plain": [
              "primera_clase_funcional\n",
              "CLASE FUNCIONAL 2A    16537\n",
              "CLASE FUNCIONAL 2B    16394\n",
              "CLASE FUNCIONAL 4      8180\n",
              "Clase funcional 2B     7398\n",
              "Clase funcional 2A     6830\n",
              "clase funcional 2b     5883\n",
              "Clase funcional 4      5794\n",
              "clase funcional 2a     5727\n",
              "CLASE FUNCIONAL 3      5529\n",
              "clase funcional 4      3738\n",
              "CLASE FUNCIONAL 1      1927\n",
              "clase funcional 3      1593\n",
              "Sin Clasificar         1393\n",
              "Clase funcional 3      1351\n",
              "Clase funcional 1       533\n",
              "clase funcional 1       518\n",
              "Sin clasificar          316\n",
              "Name: count, dtype: int64"
            ]
          },
          "metadata": {},
          "execution_count": 21
        }
      ]
    },
    {
      "cell_type": "markdown",
      "source": [
        "Se puede notar que los registros están escritos de manera diferente para clases funcionales iguales por lo que se procede a cambiar todos los registros a minúsculas y así tener uniformidad."
      ],
      "metadata": {
        "id": "wsTw756gBMdB"
      }
    },
    {
      "cell_type": "code",
      "source": [
        "#Se cambian a minúsculas y se corrobora el cambio\n",
        "df_usuarios['primera_clase_funcional'] = df_usuarios['primera_clase_funcional'].str.lower()\n",
        "df_usuarios['primera_clase_funcional'].value_counts()"
      ],
      "metadata": {
        "colab": {
          "base_uri": "https://localhost:8080/"
        },
        "id": "JLxmTcPqBcZ9",
        "outputId": "ea164eb1-0611-4ae1-d8d9-b18f806a252c"
      },
      "execution_count": 22,
      "outputs": [
        {
          "output_type": "execute_result",
          "data": {
            "text/plain": [
              "primera_clase_funcional\n",
              "clase funcional 2b    29675\n",
              "clase funcional 2a    29094\n",
              "clase funcional 4     17712\n",
              "clase funcional 3      8473\n",
              "clase funcional 1      2978\n",
              "sin clasificar         1709\n",
              "Name: count, dtype: int64"
            ]
          },
          "metadata": {},
          "execution_count": 22
        }
      ]
    },
    {
      "cell_type": "code",
      "source": [
        "#Se consultan las clases funcionales\n",
        "df_usuarios['ultima_clase_funcional'].value_counts()"
      ],
      "metadata": {
        "colab": {
          "base_uri": "https://localhost:8080/"
        },
        "id": "jUrJQVv6Cld5",
        "outputId": "c6333277-59c6-42cf-cb05-2f62ee047ad9"
      },
      "execution_count": 23,
      "outputs": [
        {
          "output_type": "execute_result",
          "data": {
            "text/plain": [
              "ultima_clase_funcional\n",
              "CLASE FUNCIONAL 2A    28462\n",
              "CLASE FUNCIONAL 2B    23850\n",
              "Clase funcional 2A    21800\n",
              "CLASE FUNCIONAL 4     14993\n",
              "Clase funcional 4     14283\n",
              "Clase funcional 2B    13103\n",
              "CLASE FUNCIONAL 3      5556\n",
              "Clase funcional 3      1855\n",
              "CLASE FUNCIONAL 1      1667\n",
              "Sin Clasificar         1393\n",
              "Clase funcional 1       671\n",
              "Sin clasificar          284\n",
              "SIN CLASIFICAR          192\n",
              "Name: count, dtype: int64"
            ]
          },
          "metadata": {},
          "execution_count": 23
        }
      ]
    },
    {
      "cell_type": "code",
      "source": [
        "#Se cambian a minúsculas y se corrobora el cambio\n",
        "df_usuarios['ultima_clase_funcional'] = df_usuarios['ultima_clase_funcional'].str.lower()\n",
        "df_usuarios['ultima_clase_funcional'].value_counts()"
      ],
      "metadata": {
        "colab": {
          "base_uri": "https://localhost:8080/"
        },
        "id": "n3OOBkloCqyn",
        "outputId": "96bf1c4c-7dfa-441f-80b8-b486dae3611c"
      },
      "execution_count": 24,
      "outputs": [
        {
          "output_type": "execute_result",
          "data": {
            "text/plain": [
              "ultima_clase_funcional\n",
              "clase funcional 2a    50262\n",
              "clase funcional 2b    36953\n",
              "clase funcional 4     29276\n",
              "clase funcional 3      7411\n",
              "clase funcional 1      2338\n",
              "sin clasificar         1869\n",
              "Name: count, dtype: int64"
            ]
          },
          "metadata": {},
          "execution_count": 24
        }
      ]
    },
    {
      "cell_type": "code",
      "source": [
        "#Se consultan las categorías de ciclo vital\n",
        "df_usuarios['ciclo_vital'].value_counts()"
      ],
      "metadata": {
        "colab": {
          "base_uri": "https://localhost:8080/"
        },
        "id": "ncX48Y12C74t",
        "outputId": "573233bd-1506-4ada-9c9f-8f3725d4f4c0"
      },
      "execution_count": 25,
      "outputs": [
        {
          "output_type": "execute_result",
          "data": {
            "text/plain": [
              "ciclo_vital\n",
              "Vejez       130595\n",
              "Adultez      17542\n",
              "Juventud      1618\n",
              "Name: count, dtype: int64"
            ]
          },
          "metadata": {},
          "execution_count": 25
        }
      ]
    },
    {
      "cell_type": "code",
      "source": [
        "#Se cambian a minúsculas y se corrobora el cambio\n",
        "df_usuarios['ciclo_vital'] = df_usuarios['ciclo_vital'].str.lower()\n",
        "df_usuarios['ciclo_vital'].value_counts()"
      ],
      "metadata": {
        "colab": {
          "base_uri": "https://localhost:8080/"
        },
        "id": "ewrRNpOVDFU1",
        "outputId": "28d3b7a0-56e8-414b-92a6-d575476fa50b"
      },
      "execution_count": 26,
      "outputs": [
        {
          "output_type": "execute_result",
          "data": {
            "text/plain": [
              "ciclo_vital\n",
              "vejez       130595\n",
              "adultez      17542\n",
              "juventud      1618\n",
              "Name: count, dtype: int64"
            ]
          },
          "metadata": {},
          "execution_count": 26
        }
      ]
    },
    {
      "cell_type": "code",
      "source": [
        "#Se consultan las categorías de quinquenio\n",
        "df_usuarios['quinquenio'].value_counts()"
      ],
      "metadata": {
        "colab": {
          "base_uri": "https://localhost:8080/"
        },
        "id": "pg6DEwpRDN3B",
        "outputId": "3b294141-d6ba-4773-a426-2bc57b20772c"
      },
      "execution_count": 27,
      "outputs": [
        {
          "output_type": "execute_result",
          "data": {
            "text/plain": [
              "quinquenio\n",
              "75-79     24956\n",
              "70-74     23335\n",
              "80-84     22711\n",
              "65-69     18600\n",
              "85-89     16554\n",
              "60-64     12720\n",
              ">90       11719\n",
              "55-59      7855\n",
              "50-54      4432\n",
              "45-49      2107\n",
              "25-29      1102\n",
              "40-44      1095\n",
              "35-39       939\n",
              "30-34       927\n",
              "20-24       678\n",
              "15-19        25\n",
              "Name: count, dtype: int64"
            ]
          },
          "metadata": {},
          "execution_count": 27
        }
      ]
    },
    {
      "cell_type": "markdown",
      "source": [
        "**Eliminación y depuración de nulos**"
      ],
      "metadata": {
        "id": "73mOyWOTDwtl"
      }
    },
    {
      "cell_type": "code",
      "source": [
        "df_usuarios.isnull().sum()"
      ],
      "metadata": {
        "colab": {
          "base_uri": "https://localhost:8080/"
        },
        "id": "iEKbxUZuHD5V",
        "outputId": "a86ea288-ab40-4527-a299-8c7ea7b4ca73"
      },
      "execution_count": 28,
      "outputs": [
        {
          "output_type": "execute_result",
          "data": {
            "text/plain": [
              "mes                            0\n",
              "year                           0\n",
              "nrodoc                         0\n",
              "sexo                           0\n",
              "edad                       29123\n",
              "primera_clase_funcional    89237\n",
              "ultima_clase_funcional     50769\n",
              "ciclo_vital                29123\n",
              "quinquenio                 29123\n",
              "dtype: int64"
            ]
          },
          "metadata": {},
          "execution_count": 28
        }
      ]
    },
    {
      "cell_type": "code",
      "source": [
        "#Total de filas que debería tener cada variable dado que la variable mes no tiene nulos\n",
        "df_usuarios[\"mes\"].count()"
      ],
      "metadata": {
        "colab": {
          "base_uri": "https://localhost:8080/"
        },
        "id": "dh2pBVE2GTzy",
        "outputId": "7250cf17-0cfe-4b81-cea6-7fe7458d6d7e"
      },
      "execution_count": 29,
      "outputs": [
        {
          "output_type": "execute_result",
          "data": {
            "text/plain": [
              "178878"
            ]
          },
          "metadata": {},
          "execution_count": 29
        }
      ]
    },
    {
      "cell_type": "code",
      "source": [
        "print(\"El porcentaje de nulos de edad es:\", (df_usuarios[\"edad\"].isnull().sum()/178878)*100,\"%\")\n",
        "print(\"El porcentaje de nulos de primera_clase_funcional es:\", (df_usuarios[\"primera_clase_funcional\"].isnull().sum()/178878)*100,\"%\")\n",
        "print(\"El porcentaje de nulos de ultima_clase_funcional es:\", (df_usuarios[\"ultima_clase_funcional\"].isnull().sum()/178878)*100,\"%\")\n",
        "print(\"El porcentaje de nulos de ciclo_vital es:\", (df_usuarios[\"ciclo_vital\"].isnull().sum()/178878)*100,\"%\")\n",
        "print(\"El porcentaje de nulos de quinquenio es:\", (df_usuarios[\"quinquenio\"].isnull().sum()/178878)*100,\"%\")"
      ],
      "metadata": {
        "colab": {
          "base_uri": "https://localhost:8080/"
        },
        "id": "t8u7MxkKDgDD",
        "outputId": "1db0bb6a-8b38-492b-d8f4-a140419302a4"
      },
      "execution_count": 30,
      "outputs": [
        {
          "output_type": "stream",
          "name": "stdout",
          "text": [
            "El porcentaje de nulos de edad es: 16.28092890126231 %\n",
            "El porcentaje de nulos de primera_clase_funcional es: 49.88707387157728 %\n",
            "El porcentaje de nulos de ultima_clase_funcional es: 28.381913930164693 %\n",
            "El porcentaje de nulos de ciclo_vital es: 16.28092890126231 %\n",
            "El porcentaje de nulos de quinquenio es: 16.28092890126231 %\n"
          ]
        }
      ]
    },
    {
      "cell_type": "markdown",
      "source": [
        "-El porcentaje de nulos en edad, ciclo_vital y quinquenio es igual, lo que significa que son 3 varibles que explican lo mismo por lo que se decide dejar ciclo vital y así tener menos categorías y optimizar la realización del posterior exploratorio.\n",
        "\n",
        "\n",
        "-Los nulos en las clases funcionales se van a rellenar con la categoría \"sin clasificar\".\n",
        "\n",
        "-Los nulos en el ciclo vital se van a llenar con el dato más frecuente."
      ],
      "metadata": {
        "id": "DnmXmgmCJQeS"
      }
    },
    {
      "cell_type": "code",
      "source": [
        "df_usuarios = df_usuarios.drop([\"edad\", \"quinquenio\"], axis=1)"
      ],
      "metadata": {
        "id": "Je8oH34IRrhc"
      },
      "execution_count": 31,
      "outputs": []
    },
    {
      "cell_type": "code",
      "source": [
        "# Se decide reemplazar los nulos con la categoria 'sin clasificar'\n",
        "df_usuarios['primera_clase_funcional'].fillna('sin clasificar', inplace=True)"
      ],
      "metadata": {
        "id": "XvIT_T06OHVj"
      },
      "execution_count": 32,
      "outputs": []
    },
    {
      "cell_type": "code",
      "source": [
        "# Se decide reemplazar los nulos en la categoria 'sin clasificar'\n",
        "df_usuarios['ultima_clase_funcional'].fillna('sin clasificar', inplace=True)"
      ],
      "metadata": {
        "id": "nkXPj5XaOH5Y"
      },
      "execution_count": 33,
      "outputs": []
    },
    {
      "cell_type": "code",
      "source": [
        "#Consultar valor más común\n",
        "df_usuarios['ciclo_vital'].value_counts()"
      ],
      "metadata": {
        "colab": {
          "base_uri": "https://localhost:8080/"
        },
        "id": "L0Na_C7lOmN8",
        "outputId": "7f2b2d6f-b575-4735-d116-6ec0b9d24db6"
      },
      "execution_count": 34,
      "outputs": [
        {
          "output_type": "execute_result",
          "data": {
            "text/plain": [
              "ciclo_vital\n",
              "vejez       130595\n",
              "adultez      17542\n",
              "juventud      1618\n",
              "Name: count, dtype: int64"
            ]
          },
          "metadata": {},
          "execution_count": 34
        }
      ]
    },
    {
      "cell_type": "code",
      "source": [
        "#Reemplazar por valor más común\n",
        "df_usuarios['ciclo_vital'].fillna('vejez', inplace=True)"
      ],
      "metadata": {
        "id": "8KvY8mdpOi5i"
      },
      "execution_count": 35,
      "outputs": []
    },
    {
      "cell_type": "code",
      "source": [
        "#Se corroboran todos los cambios\n",
        "df_usuarios.isnull().sum()"
      ],
      "metadata": {
        "colab": {
          "base_uri": "https://localhost:8080/"
        },
        "id": "aw-ABYHHPdgj",
        "outputId": "23113412-4061-45ef-aa20-049839d09fb8"
      },
      "execution_count": 36,
      "outputs": [
        {
          "output_type": "execute_result",
          "data": {
            "text/plain": [
              "mes                        0\n",
              "year                       0\n",
              "nrodoc                     0\n",
              "sexo                       0\n",
              "primera_clase_funcional    0\n",
              "ultima_clase_funcional     0\n",
              "ciclo_vital                0\n",
              "dtype: int64"
            ]
          },
          "metadata": {},
          "execution_count": 36
        }
      ]
    },
    {
      "cell_type": "code",
      "source": [
        "df_usuarios"
      ],
      "metadata": {
        "colab": {
          "base_uri": "https://localhost:8080/",
          "height": 423
        },
        "id": "acCMCXAcPopy",
        "outputId": "a3999de5-e6ff-47f0-a104-1b16c4c68cec"
      },
      "execution_count": 37,
      "outputs": [
        {
          "output_type": "execute_result",
          "data": {
            "text/plain": [
              "          mes  year  nrodoc sexo primera_clase_funcional  \\\n",
              "0       abril  2017  306221    F          sin clasificar   \n",
              "1       abril  2017  306222    F          sin clasificar   \n",
              "2       abril  2017  306223    F          sin clasificar   \n",
              "3       abril  2017  306224    F          sin clasificar   \n",
              "4       abril  2017  306225    M          sin clasificar   \n",
              "...       ...   ...     ...  ...                     ...   \n",
              "183906  junio  2022  307482    F      clase funcional 2b   \n",
              "183907  junio  2022  313801    F       clase funcional 1   \n",
              "183908  junio  2022  307738    F      clase funcional 2b   \n",
              "183909  junio  2022  311656    M      clase funcional 2a   \n",
              "183910  junio  2022  309230    M      clase funcional 2a   \n",
              "\n",
              "       ultima_clase_funcional ciclo_vital  \n",
              "0              sin clasificar       vejez  \n",
              "1              sin clasificar       vejez  \n",
              "2              sin clasificar       vejez  \n",
              "3              sin clasificar       vejez  \n",
              "4              sin clasificar       vejez  \n",
              "...                       ...         ...  \n",
              "183906     clase funcional 2a       vejez  \n",
              "183907      clase funcional 1    juventud  \n",
              "183908     clase funcional 2a       vejez  \n",
              "183909     clase funcional 2b       vejez  \n",
              "183910     clase funcional 2b       vejez  \n",
              "\n",
              "[178878 rows x 7 columns]"
            ],
            "text/html": [
              "\n",
              "  <div id=\"df-b2ae760e-e922-4c66-a3bd-40ed2cf9cc6f\" class=\"colab-df-container\">\n",
              "    <div>\n",
              "<style scoped>\n",
              "    .dataframe tbody tr th:only-of-type {\n",
              "        vertical-align: middle;\n",
              "    }\n",
              "\n",
              "    .dataframe tbody tr th {\n",
              "        vertical-align: top;\n",
              "    }\n",
              "\n",
              "    .dataframe thead th {\n",
              "        text-align: right;\n",
              "    }\n",
              "</style>\n",
              "<table border=\"1\" class=\"dataframe\">\n",
              "  <thead>\n",
              "    <tr style=\"text-align: right;\">\n",
              "      <th></th>\n",
              "      <th>mes</th>\n",
              "      <th>year</th>\n",
              "      <th>nrodoc</th>\n",
              "      <th>sexo</th>\n",
              "      <th>primera_clase_funcional</th>\n",
              "      <th>ultima_clase_funcional</th>\n",
              "      <th>ciclo_vital</th>\n",
              "    </tr>\n",
              "  </thead>\n",
              "  <tbody>\n",
              "    <tr>\n",
              "      <th>0</th>\n",
              "      <td>abril</td>\n",
              "      <td>2017</td>\n",
              "      <td>306221</td>\n",
              "      <td>F</td>\n",
              "      <td>sin clasificar</td>\n",
              "      <td>sin clasificar</td>\n",
              "      <td>vejez</td>\n",
              "    </tr>\n",
              "    <tr>\n",
              "      <th>1</th>\n",
              "      <td>abril</td>\n",
              "      <td>2017</td>\n",
              "      <td>306222</td>\n",
              "      <td>F</td>\n",
              "      <td>sin clasificar</td>\n",
              "      <td>sin clasificar</td>\n",
              "      <td>vejez</td>\n",
              "    </tr>\n",
              "    <tr>\n",
              "      <th>2</th>\n",
              "      <td>abril</td>\n",
              "      <td>2017</td>\n",
              "      <td>306223</td>\n",
              "      <td>F</td>\n",
              "      <td>sin clasificar</td>\n",
              "      <td>sin clasificar</td>\n",
              "      <td>vejez</td>\n",
              "    </tr>\n",
              "    <tr>\n",
              "      <th>3</th>\n",
              "      <td>abril</td>\n",
              "      <td>2017</td>\n",
              "      <td>306224</td>\n",
              "      <td>F</td>\n",
              "      <td>sin clasificar</td>\n",
              "      <td>sin clasificar</td>\n",
              "      <td>vejez</td>\n",
              "    </tr>\n",
              "    <tr>\n",
              "      <th>4</th>\n",
              "      <td>abril</td>\n",
              "      <td>2017</td>\n",
              "      <td>306225</td>\n",
              "      <td>M</td>\n",
              "      <td>sin clasificar</td>\n",
              "      <td>sin clasificar</td>\n",
              "      <td>vejez</td>\n",
              "    </tr>\n",
              "    <tr>\n",
              "      <th>...</th>\n",
              "      <td>...</td>\n",
              "      <td>...</td>\n",
              "      <td>...</td>\n",
              "      <td>...</td>\n",
              "      <td>...</td>\n",
              "      <td>...</td>\n",
              "      <td>...</td>\n",
              "    </tr>\n",
              "    <tr>\n",
              "      <th>183906</th>\n",
              "      <td>junio</td>\n",
              "      <td>2022</td>\n",
              "      <td>307482</td>\n",
              "      <td>F</td>\n",
              "      <td>clase funcional 2b</td>\n",
              "      <td>clase funcional 2a</td>\n",
              "      <td>vejez</td>\n",
              "    </tr>\n",
              "    <tr>\n",
              "      <th>183907</th>\n",
              "      <td>junio</td>\n",
              "      <td>2022</td>\n",
              "      <td>313801</td>\n",
              "      <td>F</td>\n",
              "      <td>clase funcional 1</td>\n",
              "      <td>clase funcional 1</td>\n",
              "      <td>juventud</td>\n",
              "    </tr>\n",
              "    <tr>\n",
              "      <th>183908</th>\n",
              "      <td>junio</td>\n",
              "      <td>2022</td>\n",
              "      <td>307738</td>\n",
              "      <td>F</td>\n",
              "      <td>clase funcional 2b</td>\n",
              "      <td>clase funcional 2a</td>\n",
              "      <td>vejez</td>\n",
              "    </tr>\n",
              "    <tr>\n",
              "      <th>183909</th>\n",
              "      <td>junio</td>\n",
              "      <td>2022</td>\n",
              "      <td>311656</td>\n",
              "      <td>M</td>\n",
              "      <td>clase funcional 2a</td>\n",
              "      <td>clase funcional 2b</td>\n",
              "      <td>vejez</td>\n",
              "    </tr>\n",
              "    <tr>\n",
              "      <th>183910</th>\n",
              "      <td>junio</td>\n",
              "      <td>2022</td>\n",
              "      <td>309230</td>\n",
              "      <td>M</td>\n",
              "      <td>clase funcional 2a</td>\n",
              "      <td>clase funcional 2b</td>\n",
              "      <td>vejez</td>\n",
              "    </tr>\n",
              "  </tbody>\n",
              "</table>\n",
              "<p>178878 rows × 7 columns</p>\n",
              "</div>\n",
              "    <div class=\"colab-df-buttons\">\n",
              "\n",
              "  <div class=\"colab-df-container\">\n",
              "    <button class=\"colab-df-convert\" onclick=\"convertToInteractive('df-b2ae760e-e922-4c66-a3bd-40ed2cf9cc6f')\"\n",
              "            title=\"Convert this dataframe to an interactive table.\"\n",
              "            style=\"display:none;\">\n",
              "\n",
              "  <svg xmlns=\"http://www.w3.org/2000/svg\" height=\"24px\" viewBox=\"0 -960 960 960\">\n",
              "    <path d=\"M120-120v-720h720v720H120Zm60-500h600v-160H180v160Zm220 220h160v-160H400v160Zm0 220h160v-160H400v160ZM180-400h160v-160H180v160Zm440 0h160v-160H620v160ZM180-180h160v-160H180v160Zm440 0h160v-160H620v160Z\"/>\n",
              "  </svg>\n",
              "    </button>\n",
              "\n",
              "  <style>\n",
              "    .colab-df-container {\n",
              "      display:flex;\n",
              "      gap: 12px;\n",
              "    }\n",
              "\n",
              "    .colab-df-convert {\n",
              "      background-color: #E8F0FE;\n",
              "      border: none;\n",
              "      border-radius: 50%;\n",
              "      cursor: pointer;\n",
              "      display: none;\n",
              "      fill: #1967D2;\n",
              "      height: 32px;\n",
              "      padding: 0 0 0 0;\n",
              "      width: 32px;\n",
              "    }\n",
              "\n",
              "    .colab-df-convert:hover {\n",
              "      background-color: #E2EBFA;\n",
              "      box-shadow: 0px 1px 2px rgba(60, 64, 67, 0.3), 0px 1px 3px 1px rgba(60, 64, 67, 0.15);\n",
              "      fill: #174EA6;\n",
              "    }\n",
              "\n",
              "    .colab-df-buttons div {\n",
              "      margin-bottom: 4px;\n",
              "    }\n",
              "\n",
              "    [theme=dark] .colab-df-convert {\n",
              "      background-color: #3B4455;\n",
              "      fill: #D2E3FC;\n",
              "    }\n",
              "\n",
              "    [theme=dark] .colab-df-convert:hover {\n",
              "      background-color: #434B5C;\n",
              "      box-shadow: 0px 1px 3px 1px rgba(0, 0, 0, 0.15);\n",
              "      filter: drop-shadow(0px 1px 2px rgba(0, 0, 0, 0.3));\n",
              "      fill: #FFFFFF;\n",
              "    }\n",
              "  </style>\n",
              "\n",
              "    <script>\n",
              "      const buttonEl =\n",
              "        document.querySelector('#df-b2ae760e-e922-4c66-a3bd-40ed2cf9cc6f button.colab-df-convert');\n",
              "      buttonEl.style.display =\n",
              "        google.colab.kernel.accessAllowed ? 'block' : 'none';\n",
              "\n",
              "      async function convertToInteractive(key) {\n",
              "        const element = document.querySelector('#df-b2ae760e-e922-4c66-a3bd-40ed2cf9cc6f');\n",
              "        const dataTable =\n",
              "          await google.colab.kernel.invokeFunction('convertToInteractive',\n",
              "                                                    [key], {});\n",
              "        if (!dataTable) return;\n",
              "\n",
              "        const docLinkHtml = 'Like what you see? Visit the ' +\n",
              "          '<a target=\"_blank\" href=https://colab.research.google.com/notebooks/data_table.ipynb>data table notebook</a>'\n",
              "          + ' to learn more about interactive tables.';\n",
              "        element.innerHTML = '';\n",
              "        dataTable['output_type'] = 'display_data';\n",
              "        await google.colab.output.renderOutput(dataTable, element);\n",
              "        const docLink = document.createElement('div');\n",
              "        docLink.innerHTML = docLinkHtml;\n",
              "        element.appendChild(docLink);\n",
              "      }\n",
              "    </script>\n",
              "  </div>\n",
              "\n",
              "\n",
              "<div id=\"df-57a41a93-e49e-4dc5-ac94-112ad177a79f\">\n",
              "  <button class=\"colab-df-quickchart\" onclick=\"quickchart('df-57a41a93-e49e-4dc5-ac94-112ad177a79f')\"\n",
              "            title=\"Suggest charts\"\n",
              "            style=\"display:none;\">\n",
              "\n",
              "<svg xmlns=\"http://www.w3.org/2000/svg\" height=\"24px\"viewBox=\"0 0 24 24\"\n",
              "     width=\"24px\">\n",
              "    <g>\n",
              "        <path d=\"M19 3H5c-1.1 0-2 .9-2 2v14c0 1.1.9 2 2 2h14c1.1 0 2-.9 2-2V5c0-1.1-.9-2-2-2zM9 17H7v-7h2v7zm4 0h-2V7h2v10zm4 0h-2v-4h2v4z\"/>\n",
              "    </g>\n",
              "</svg>\n",
              "  </button>\n",
              "\n",
              "<style>\n",
              "  .colab-df-quickchart {\n",
              "      --bg-color: #E8F0FE;\n",
              "      --fill-color: #1967D2;\n",
              "      --hover-bg-color: #E2EBFA;\n",
              "      --hover-fill-color: #174EA6;\n",
              "      --disabled-fill-color: #AAA;\n",
              "      --disabled-bg-color: #DDD;\n",
              "  }\n",
              "\n",
              "  [theme=dark] .colab-df-quickchart {\n",
              "      --bg-color: #3B4455;\n",
              "      --fill-color: #D2E3FC;\n",
              "      --hover-bg-color: #434B5C;\n",
              "      --hover-fill-color: #FFFFFF;\n",
              "      --disabled-bg-color: #3B4455;\n",
              "      --disabled-fill-color: #666;\n",
              "  }\n",
              "\n",
              "  .colab-df-quickchart {\n",
              "    background-color: var(--bg-color);\n",
              "    border: none;\n",
              "    border-radius: 50%;\n",
              "    cursor: pointer;\n",
              "    display: none;\n",
              "    fill: var(--fill-color);\n",
              "    height: 32px;\n",
              "    padding: 0;\n",
              "    width: 32px;\n",
              "  }\n",
              "\n",
              "  .colab-df-quickchart:hover {\n",
              "    background-color: var(--hover-bg-color);\n",
              "    box-shadow: 0 1px 2px rgba(60, 64, 67, 0.3), 0 1px 3px 1px rgba(60, 64, 67, 0.15);\n",
              "    fill: var(--button-hover-fill-color);\n",
              "  }\n",
              "\n",
              "  .colab-df-quickchart-complete:disabled,\n",
              "  .colab-df-quickchart-complete:disabled:hover {\n",
              "    background-color: var(--disabled-bg-color);\n",
              "    fill: var(--disabled-fill-color);\n",
              "    box-shadow: none;\n",
              "  }\n",
              "\n",
              "  .colab-df-spinner {\n",
              "    border: 2px solid var(--fill-color);\n",
              "    border-color: transparent;\n",
              "    border-bottom-color: var(--fill-color);\n",
              "    animation:\n",
              "      spin 1s steps(1) infinite;\n",
              "  }\n",
              "\n",
              "  @keyframes spin {\n",
              "    0% {\n",
              "      border-color: transparent;\n",
              "      border-bottom-color: var(--fill-color);\n",
              "      border-left-color: var(--fill-color);\n",
              "    }\n",
              "    20% {\n",
              "      border-color: transparent;\n",
              "      border-left-color: var(--fill-color);\n",
              "      border-top-color: var(--fill-color);\n",
              "    }\n",
              "    30% {\n",
              "      border-color: transparent;\n",
              "      border-left-color: var(--fill-color);\n",
              "      border-top-color: var(--fill-color);\n",
              "      border-right-color: var(--fill-color);\n",
              "    }\n",
              "    40% {\n",
              "      border-color: transparent;\n",
              "      border-right-color: var(--fill-color);\n",
              "      border-top-color: var(--fill-color);\n",
              "    }\n",
              "    60% {\n",
              "      border-color: transparent;\n",
              "      border-right-color: var(--fill-color);\n",
              "    }\n",
              "    80% {\n",
              "      border-color: transparent;\n",
              "      border-right-color: var(--fill-color);\n",
              "      border-bottom-color: var(--fill-color);\n",
              "    }\n",
              "    90% {\n",
              "      border-color: transparent;\n",
              "      border-bottom-color: var(--fill-color);\n",
              "    }\n",
              "  }\n",
              "</style>\n",
              "\n",
              "  <script>\n",
              "    async function quickchart(key) {\n",
              "      const quickchartButtonEl =\n",
              "        document.querySelector('#' + key + ' button');\n",
              "      quickchartButtonEl.disabled = true;  // To prevent multiple clicks.\n",
              "      quickchartButtonEl.classList.add('colab-df-spinner');\n",
              "      try {\n",
              "        const charts = await google.colab.kernel.invokeFunction(\n",
              "            'suggestCharts', [key], {});\n",
              "      } catch (error) {\n",
              "        console.error('Error during call to suggestCharts:', error);\n",
              "      }\n",
              "      quickchartButtonEl.classList.remove('colab-df-spinner');\n",
              "      quickchartButtonEl.classList.add('colab-df-quickchart-complete');\n",
              "    }\n",
              "    (() => {\n",
              "      let quickchartButtonEl =\n",
              "        document.querySelector('#df-57a41a93-e49e-4dc5-ac94-112ad177a79f button');\n",
              "      quickchartButtonEl.style.display =\n",
              "        google.colab.kernel.accessAllowed ? 'block' : 'none';\n",
              "    })();\n",
              "  </script>\n",
              "</div>\n",
              "    </div>\n",
              "  </div>\n"
            ],
            "application/vnd.google.colaboratory.intrinsic+json": {
              "type": "dataframe",
              "variable_name": "df_usuarios"
            }
          },
          "metadata": {},
          "execution_count": 37
        }
      ]
    },
    {
      "cell_type": "markdown",
      "source": [
        "**El DF se redujo de 183.912 a 178.878 filas y de 16 a 7 variables**\n",
        "\n"
      ],
      "metadata": {
        "id": "9EeQwVV_Sc-1"
      }
    },
    {
      "cell_type": "code",
      "source": [
        "#convertimos la base a un csv\n",
        "df_usuarios.to_csv('/content/drive/MyDrive/analitica3/Salud/df_usuarios.csv', index=True)"
      ],
      "metadata": {
        "id": "PWtdUsTZSN9A"
      },
      "execution_count": 38,
      "outputs": []
    }
  ]
}